{
 "cells": [
  {
   "cell_type": "markdown",
   "id": "c78ef9c1",
   "metadata": {},
   "source": [
    "## Import required packages"
   ]
  },
  {
   "cell_type": "code",
   "execution_count": 1,
   "id": "bd5ee46c",
   "metadata": {},
   "outputs": [],
   "source": [
    "import pandas as pd\n",
    "import seaborn as sns\n",
    "import matplotlib.pyplot as plt\n",
    "import numpy as np"
   ]
  },
  {
   "cell_type": "markdown",
   "id": "56e4c25e",
   "metadata": {},
   "source": [
    "## Load the data"
   ]
  },
  {
   "cell_type": "code",
   "execution_count": 2,
   "id": "defa7ce1",
   "metadata": {},
   "outputs": [
    {
     "data": {
      "text/html": [
       "<div>\n",
       "<style scoped>\n",
       "    .dataframe tbody tr th:only-of-type {\n",
       "        vertical-align: middle;\n",
       "    }\n",
       "\n",
       "    .dataframe tbody tr th {\n",
       "        vertical-align: top;\n",
       "    }\n",
       "\n",
       "    .dataframe thead th {\n",
       "        text-align: right;\n",
       "    }\n",
       "</style>\n",
       "<table border=\"1\" class=\"dataframe\">\n",
       "  <thead>\n",
       "    <tr style=\"text-align: right;\">\n",
       "      <th></th>\n",
       "      <th>instant</th>\n",
       "      <th>dteday</th>\n",
       "      <th>season</th>\n",
       "      <th>yr</th>\n",
       "      <th>mnth</th>\n",
       "      <th>holiday</th>\n",
       "      <th>weekday</th>\n",
       "      <th>workingday</th>\n",
       "      <th>weathersit</th>\n",
       "      <th>temp</th>\n",
       "      <th>atemp</th>\n",
       "      <th>hum</th>\n",
       "      <th>windspeed</th>\n",
       "      <th>rentals</th>\n",
       "    </tr>\n",
       "  </thead>\n",
       "  <tbody>\n",
       "    <tr>\n",
       "      <th>0</th>\n",
       "      <td>1</td>\n",
       "      <td>1/1/2011</td>\n",
       "      <td>1</td>\n",
       "      <td>0</td>\n",
       "      <td>1</td>\n",
       "      <td>0</td>\n",
       "      <td>6</td>\n",
       "      <td>0</td>\n",
       "      <td>2</td>\n",
       "      <td>0.344167</td>\n",
       "      <td>0.363625</td>\n",
       "      <td>0.805833</td>\n",
       "      <td>0.160446</td>\n",
       "      <td>331</td>\n",
       "    </tr>\n",
       "    <tr>\n",
       "      <th>1</th>\n",
       "      <td>2</td>\n",
       "      <td>1/2/2011</td>\n",
       "      <td>1</td>\n",
       "      <td>0</td>\n",
       "      <td>1</td>\n",
       "      <td>0</td>\n",
       "      <td>0</td>\n",
       "      <td>0</td>\n",
       "      <td>2</td>\n",
       "      <td>0.363478</td>\n",
       "      <td>0.353739</td>\n",
       "      <td>0.696087</td>\n",
       "      <td>0.248539</td>\n",
       "      <td>131</td>\n",
       "    </tr>\n",
       "    <tr>\n",
       "      <th>2</th>\n",
       "      <td>3</td>\n",
       "      <td>1/3/2011</td>\n",
       "      <td>1</td>\n",
       "      <td>0</td>\n",
       "      <td>1</td>\n",
       "      <td>0</td>\n",
       "      <td>1</td>\n",
       "      <td>1</td>\n",
       "      <td>1</td>\n",
       "      <td>0.196364</td>\n",
       "      <td>0.189405</td>\n",
       "      <td>0.437273</td>\n",
       "      <td>0.248309</td>\n",
       "      <td>120</td>\n",
       "    </tr>\n",
       "    <tr>\n",
       "      <th>3</th>\n",
       "      <td>4</td>\n",
       "      <td>1/4/2011</td>\n",
       "      <td>1</td>\n",
       "      <td>0</td>\n",
       "      <td>1</td>\n",
       "      <td>0</td>\n",
       "      <td>2</td>\n",
       "      <td>1</td>\n",
       "      <td>1</td>\n",
       "      <td>0.200000</td>\n",
       "      <td>0.212122</td>\n",
       "      <td>0.590435</td>\n",
       "      <td>0.160296</td>\n",
       "      <td>108</td>\n",
       "    </tr>\n",
       "    <tr>\n",
       "      <th>4</th>\n",
       "      <td>5</td>\n",
       "      <td>1/5/2011</td>\n",
       "      <td>1</td>\n",
       "      <td>0</td>\n",
       "      <td>1</td>\n",
       "      <td>0</td>\n",
       "      <td>3</td>\n",
       "      <td>1</td>\n",
       "      <td>1</td>\n",
       "      <td>0.226957</td>\n",
       "      <td>0.229270</td>\n",
       "      <td>0.436957</td>\n",
       "      <td>0.186900</td>\n",
       "      <td>82</td>\n",
       "    </tr>\n",
       "    <tr>\n",
       "      <th>...</th>\n",
       "      <td>...</td>\n",
       "      <td>...</td>\n",
       "      <td>...</td>\n",
       "      <td>...</td>\n",
       "      <td>...</td>\n",
       "      <td>...</td>\n",
       "      <td>...</td>\n",
       "      <td>...</td>\n",
       "      <td>...</td>\n",
       "      <td>...</td>\n",
       "      <td>...</td>\n",
       "      <td>...</td>\n",
       "      <td>...</td>\n",
       "      <td>...</td>\n",
       "    </tr>\n",
       "    <tr>\n",
       "      <th>726</th>\n",
       "      <td>727</td>\n",
       "      <td>12/27/2012</td>\n",
       "      <td>1</td>\n",
       "      <td>1</td>\n",
       "      <td>12</td>\n",
       "      <td>0</td>\n",
       "      <td>4</td>\n",
       "      <td>1</td>\n",
       "      <td>2</td>\n",
       "      <td>0.254167</td>\n",
       "      <td>0.226642</td>\n",
       "      <td>0.652917</td>\n",
       "      <td>0.350133</td>\n",
       "      <td>247</td>\n",
       "    </tr>\n",
       "    <tr>\n",
       "      <th>727</th>\n",
       "      <td>728</td>\n",
       "      <td>12/28/2012</td>\n",
       "      <td>1</td>\n",
       "      <td>1</td>\n",
       "      <td>12</td>\n",
       "      <td>0</td>\n",
       "      <td>5</td>\n",
       "      <td>1</td>\n",
       "      <td>2</td>\n",
       "      <td>0.253333</td>\n",
       "      <td>0.255046</td>\n",
       "      <td>0.590000</td>\n",
       "      <td>0.155471</td>\n",
       "      <td>644</td>\n",
       "    </tr>\n",
       "    <tr>\n",
       "      <th>728</th>\n",
       "      <td>729</td>\n",
       "      <td>12/29/2012</td>\n",
       "      <td>1</td>\n",
       "      <td>1</td>\n",
       "      <td>12</td>\n",
       "      <td>0</td>\n",
       "      <td>6</td>\n",
       "      <td>0</td>\n",
       "      <td>2</td>\n",
       "      <td>0.253333</td>\n",
       "      <td>0.242400</td>\n",
       "      <td>0.752917</td>\n",
       "      <td>0.124383</td>\n",
       "      <td>159</td>\n",
       "    </tr>\n",
       "    <tr>\n",
       "      <th>729</th>\n",
       "      <td>730</td>\n",
       "      <td>12/30/2012</td>\n",
       "      <td>1</td>\n",
       "      <td>1</td>\n",
       "      <td>12</td>\n",
       "      <td>0</td>\n",
       "      <td>0</td>\n",
       "      <td>0</td>\n",
       "      <td>1</td>\n",
       "      <td>0.255833</td>\n",
       "      <td>0.231700</td>\n",
       "      <td>0.483333</td>\n",
       "      <td>0.350754</td>\n",
       "      <td>364</td>\n",
       "    </tr>\n",
       "    <tr>\n",
       "      <th>730</th>\n",
       "      <td>731</td>\n",
       "      <td>12/31/2012</td>\n",
       "      <td>1</td>\n",
       "      <td>1</td>\n",
       "      <td>12</td>\n",
       "      <td>0</td>\n",
       "      <td>1</td>\n",
       "      <td>1</td>\n",
       "      <td>2</td>\n",
       "      <td>0.215833</td>\n",
       "      <td>0.223487</td>\n",
       "      <td>0.577500</td>\n",
       "      <td>0.154846</td>\n",
       "      <td>439</td>\n",
       "    </tr>\n",
       "  </tbody>\n",
       "</table>\n",
       "<p>731 rows × 14 columns</p>\n",
       "</div>"
      ],
      "text/plain": [
       "     instant      dteday  season  yr  mnth  holiday  weekday  workingday  \\\n",
       "0          1    1/1/2011       1   0     1        0        6           0   \n",
       "1          2    1/2/2011       1   0     1        0        0           0   \n",
       "2          3    1/3/2011       1   0     1        0        1           1   \n",
       "3          4    1/4/2011       1   0     1        0        2           1   \n",
       "4          5    1/5/2011       1   0     1        0        3           1   \n",
       "..       ...         ...     ...  ..   ...      ...      ...         ...   \n",
       "726      727  12/27/2012       1   1    12        0        4           1   \n",
       "727      728  12/28/2012       1   1    12        0        5           1   \n",
       "728      729  12/29/2012       1   1    12        0        6           0   \n",
       "729      730  12/30/2012       1   1    12        0        0           0   \n",
       "730      731  12/31/2012       1   1    12        0        1           1   \n",
       "\n",
       "     weathersit      temp     atemp       hum  windspeed  rentals  \n",
       "0             2  0.344167  0.363625  0.805833   0.160446      331  \n",
       "1             2  0.363478  0.353739  0.696087   0.248539      131  \n",
       "2             1  0.196364  0.189405  0.437273   0.248309      120  \n",
       "3             1  0.200000  0.212122  0.590435   0.160296      108  \n",
       "4             1  0.226957  0.229270  0.436957   0.186900       82  \n",
       "..          ...       ...       ...       ...        ...      ...  \n",
       "726           2  0.254167  0.226642  0.652917   0.350133      247  \n",
       "727           2  0.253333  0.255046  0.590000   0.155471      644  \n",
       "728           2  0.253333  0.242400  0.752917   0.124383      159  \n",
       "729           1  0.255833  0.231700  0.483333   0.350754      364  \n",
       "730           2  0.215833  0.223487  0.577500   0.154846      439  \n",
       "\n",
       "[731 rows x 14 columns]"
      ]
     },
     "execution_count": 2,
     "metadata": {},
     "output_type": "execute_result"
    }
   ],
   "source": [
    "bike_data=pd.read_csv('https://raw.githubusercontent.com/MicrosoftDocs/mslearn-introduction-to-machine-learning/main/Data/ml-basics/daily-bike-share.csv')\n",
    "bike_data"
   ]
  },
  {
   "cell_type": "markdown",
   "id": "49856326",
   "metadata": {},
   "source": [
    "## Check the information about data"
   ]
  },
  {
   "cell_type": "code",
   "execution_count": 3,
   "id": "cf59671d",
   "metadata": {},
   "outputs": [
    {
     "data": {
      "text/plain": [
       "(731, 14)"
      ]
     },
     "execution_count": 3,
     "metadata": {},
     "output_type": "execute_result"
    }
   ],
   "source": [
    "bike_data.shape"
   ]
  },
  {
   "cell_type": "code",
   "execution_count": 4,
   "id": "7f9a6e42",
   "metadata": {},
   "outputs": [
    {
     "data": {
      "text/plain": [
       "Index(['instant', 'dteday', 'season', 'yr', 'mnth', 'holiday', 'weekday',\n",
       "       'workingday', 'weathersit', 'temp', 'atemp', 'hum', 'windspeed',\n",
       "       'rentals'],\n",
       "      dtype='object')"
      ]
     },
     "execution_count": 4,
     "metadata": {},
     "output_type": "execute_result"
    }
   ],
   "source": [
    "bike_data.columns"
   ]
  },
  {
   "cell_type": "markdown",
   "id": "8247bb6d",
   "metadata": {},
   "source": [
    "* Season : 1-winter, 2-spring, 3- summer, 4- fall\n",
    "* year: 0-2011, 1-2012\n",
    "* workingday: 1- working day, 0- holiday\n",
    "* weathersit: 1-clear, 2-cloudy, 3-light rain/snow, 4-heavy rain, \n",
    "* rentals: numbers of bicycle recorded(output variable)"
   ]
  },
  {
   "cell_type": "markdown",
   "id": "44031b19",
   "metadata": {},
   "source": [
    "## Create new column \"Day\" of the month from \"dteday\""
   ]
  },
  {
   "cell_type": "code",
   "execution_count": 5,
   "id": "da979c9c",
   "metadata": {},
   "outputs": [],
   "source": [
    "bike_data['day']=pd.DatetimeIndex(bike_data['dteday']).day"
   ]
  },
  {
   "cell_type": "code",
   "execution_count": 6,
   "id": "469a4a7c",
   "metadata": {},
   "outputs": [
    {
     "data": {
      "text/plain": [
       "Index(['instant', 'dteday', 'season', 'yr', 'mnth', 'holiday', 'weekday',\n",
       "       'workingday', 'weathersit', 'temp', 'atemp', 'hum', 'windspeed',\n",
       "       'rentals', 'day'],\n",
       "      dtype='object')"
      ]
     },
     "execution_count": 6,
     "metadata": {},
     "output_type": "execute_result"
    }
   ],
   "source": [
    "bike_data.columns"
   ]
  },
  {
   "cell_type": "code",
   "execution_count": 7,
   "id": "26bb3a3c",
   "metadata": {},
   "outputs": [
    {
     "data": {
      "text/html": [
       "<div>\n",
       "<style scoped>\n",
       "    .dataframe tbody tr th:only-of-type {\n",
       "        vertical-align: middle;\n",
       "    }\n",
       "\n",
       "    .dataframe tbody tr th {\n",
       "        vertical-align: top;\n",
       "    }\n",
       "\n",
       "    .dataframe thead th {\n",
       "        text-align: right;\n",
       "    }\n",
       "</style>\n",
       "<table border=\"1\" class=\"dataframe\">\n",
       "  <thead>\n",
       "    <tr style=\"text-align: right;\">\n",
       "      <th></th>\n",
       "      <th>instant</th>\n",
       "      <th>dteday</th>\n",
       "      <th>season</th>\n",
       "      <th>yr</th>\n",
       "      <th>mnth</th>\n",
       "      <th>holiday</th>\n",
       "      <th>weekday</th>\n",
       "      <th>workingday</th>\n",
       "      <th>weathersit</th>\n",
       "      <th>temp</th>\n",
       "      <th>atemp</th>\n",
       "      <th>hum</th>\n",
       "      <th>windspeed</th>\n",
       "      <th>rentals</th>\n",
       "      <th>day</th>\n",
       "    </tr>\n",
       "  </thead>\n",
       "  <tbody>\n",
       "    <tr>\n",
       "      <th>0</th>\n",
       "      <td>1</td>\n",
       "      <td>1/1/2011</td>\n",
       "      <td>1</td>\n",
       "      <td>0</td>\n",
       "      <td>1</td>\n",
       "      <td>0</td>\n",
       "      <td>6</td>\n",
       "      <td>0</td>\n",
       "      <td>2</td>\n",
       "      <td>0.344167</td>\n",
       "      <td>0.363625</td>\n",
       "      <td>0.805833</td>\n",
       "      <td>0.160446</td>\n",
       "      <td>331</td>\n",
       "      <td>1</td>\n",
       "    </tr>\n",
       "    <tr>\n",
       "      <th>1</th>\n",
       "      <td>2</td>\n",
       "      <td>1/2/2011</td>\n",
       "      <td>1</td>\n",
       "      <td>0</td>\n",
       "      <td>1</td>\n",
       "      <td>0</td>\n",
       "      <td>0</td>\n",
       "      <td>0</td>\n",
       "      <td>2</td>\n",
       "      <td>0.363478</td>\n",
       "      <td>0.353739</td>\n",
       "      <td>0.696087</td>\n",
       "      <td>0.248539</td>\n",
       "      <td>131</td>\n",
       "      <td>2</td>\n",
       "    </tr>\n",
       "    <tr>\n",
       "      <th>2</th>\n",
       "      <td>3</td>\n",
       "      <td>1/3/2011</td>\n",
       "      <td>1</td>\n",
       "      <td>0</td>\n",
       "      <td>1</td>\n",
       "      <td>0</td>\n",
       "      <td>1</td>\n",
       "      <td>1</td>\n",
       "      <td>1</td>\n",
       "      <td>0.196364</td>\n",
       "      <td>0.189405</td>\n",
       "      <td>0.437273</td>\n",
       "      <td>0.248309</td>\n",
       "      <td>120</td>\n",
       "      <td>3</td>\n",
       "    </tr>\n",
       "    <tr>\n",
       "      <th>3</th>\n",
       "      <td>4</td>\n",
       "      <td>1/4/2011</td>\n",
       "      <td>1</td>\n",
       "      <td>0</td>\n",
       "      <td>1</td>\n",
       "      <td>0</td>\n",
       "      <td>2</td>\n",
       "      <td>1</td>\n",
       "      <td>1</td>\n",
       "      <td>0.200000</td>\n",
       "      <td>0.212122</td>\n",
       "      <td>0.590435</td>\n",
       "      <td>0.160296</td>\n",
       "      <td>108</td>\n",
       "      <td>4</td>\n",
       "    </tr>\n",
       "    <tr>\n",
       "      <th>4</th>\n",
       "      <td>5</td>\n",
       "      <td>1/5/2011</td>\n",
       "      <td>1</td>\n",
       "      <td>0</td>\n",
       "      <td>1</td>\n",
       "      <td>0</td>\n",
       "      <td>3</td>\n",
       "      <td>1</td>\n",
       "      <td>1</td>\n",
       "      <td>0.226957</td>\n",
       "      <td>0.229270</td>\n",
       "      <td>0.436957</td>\n",
       "      <td>0.186900</td>\n",
       "      <td>82</td>\n",
       "      <td>5</td>\n",
       "    </tr>\n",
       "  </tbody>\n",
       "</table>\n",
       "</div>"
      ],
      "text/plain": [
       "   instant    dteday  season  yr  mnth  holiday  weekday  workingday  \\\n",
       "0        1  1/1/2011       1   0     1        0        6           0   \n",
       "1        2  1/2/2011       1   0     1        0        0           0   \n",
       "2        3  1/3/2011       1   0     1        0        1           1   \n",
       "3        4  1/4/2011       1   0     1        0        2           1   \n",
       "4        5  1/5/2011       1   0     1        0        3           1   \n",
       "\n",
       "   weathersit      temp     atemp       hum  windspeed  rentals  day  \n",
       "0           2  0.344167  0.363625  0.805833   0.160446      331    1  \n",
       "1           2  0.363478  0.353739  0.696087   0.248539      131    2  \n",
       "2           1  0.196364  0.189405  0.437273   0.248309      120    3  \n",
       "3           1  0.200000  0.212122  0.590435   0.160296      108    4  \n",
       "4           1  0.226957  0.229270  0.436957   0.186900       82    5  "
      ]
     },
     "execution_count": 7,
     "metadata": {},
     "output_type": "execute_result"
    }
   ],
   "source": [
    "bike_data.head()"
   ]
  },
  {
   "cell_type": "markdown",
   "id": "eea57442",
   "metadata": {},
   "source": [
    "## Check the info like data type and non null count in each column"
   ]
  },
  {
   "cell_type": "code",
   "execution_count": 8,
   "id": "3032bc0a",
   "metadata": {},
   "outputs": [
    {
     "name": "stdout",
     "output_type": "stream",
     "text": [
      "<class 'pandas.core.frame.DataFrame'>\n",
      "RangeIndex: 731 entries, 0 to 730\n",
      "Data columns (total 15 columns):\n",
      " #   Column      Non-Null Count  Dtype  \n",
      "---  ------      --------------  -----  \n",
      " 0   instant     731 non-null    int64  \n",
      " 1   dteday      731 non-null    object \n",
      " 2   season      731 non-null    int64  \n",
      " 3   yr          731 non-null    int64  \n",
      " 4   mnth        731 non-null    int64  \n",
      " 5   holiday     731 non-null    int64  \n",
      " 6   weekday     731 non-null    int64  \n",
      " 7   workingday  731 non-null    int64  \n",
      " 8   weathersit  731 non-null    int64  \n",
      " 9   temp        731 non-null    float64\n",
      " 10  atemp       731 non-null    float64\n",
      " 11  hum         731 non-null    float64\n",
      " 12  windspeed   731 non-null    float64\n",
      " 13  rentals     731 non-null    int64  \n",
      " 14  day         731 non-null    int64  \n",
      "dtypes: float64(4), int64(10), object(1)\n",
      "memory usage: 85.8+ KB\n"
     ]
    }
   ],
   "source": [
    "bike_data.info()"
   ]
  },
  {
   "cell_type": "markdown",
   "id": "74334b60",
   "metadata": {},
   "source": [
    "## Statistical measures"
   ]
  },
  {
   "cell_type": "code",
   "execution_count": 9,
   "id": "8a5803e9",
   "metadata": {},
   "outputs": [
    {
     "data": {
      "text/html": [
       "<div>\n",
       "<style scoped>\n",
       "    .dataframe tbody tr th:only-of-type {\n",
       "        vertical-align: middle;\n",
       "    }\n",
       "\n",
       "    .dataframe tbody tr th {\n",
       "        vertical-align: top;\n",
       "    }\n",
       "\n",
       "    .dataframe thead th {\n",
       "        text-align: right;\n",
       "    }\n",
       "</style>\n",
       "<table border=\"1\" class=\"dataframe\">\n",
       "  <thead>\n",
       "    <tr style=\"text-align: right;\">\n",
       "      <th></th>\n",
       "      <th>temp</th>\n",
       "      <th>atemp</th>\n",
       "      <th>hum</th>\n",
       "      <th>windspeed</th>\n",
       "      <th>rentals</th>\n",
       "    </tr>\n",
       "  </thead>\n",
       "  <tbody>\n",
       "    <tr>\n",
       "      <th>0</th>\n",
       "      <td>0.344167</td>\n",
       "      <td>0.363625</td>\n",
       "      <td>0.805833</td>\n",
       "      <td>0.160446</td>\n",
       "      <td>331</td>\n",
       "    </tr>\n",
       "    <tr>\n",
       "      <th>1</th>\n",
       "      <td>0.363478</td>\n",
       "      <td>0.353739</td>\n",
       "      <td>0.696087</td>\n",
       "      <td>0.248539</td>\n",
       "      <td>131</td>\n",
       "    </tr>\n",
       "    <tr>\n",
       "      <th>2</th>\n",
       "      <td>0.196364</td>\n",
       "      <td>0.189405</td>\n",
       "      <td>0.437273</td>\n",
       "      <td>0.248309</td>\n",
       "      <td>120</td>\n",
       "    </tr>\n",
       "    <tr>\n",
       "      <th>3</th>\n",
       "      <td>0.200000</td>\n",
       "      <td>0.212122</td>\n",
       "      <td>0.590435</td>\n",
       "      <td>0.160296</td>\n",
       "      <td>108</td>\n",
       "    </tr>\n",
       "    <tr>\n",
       "      <th>4</th>\n",
       "      <td>0.226957</td>\n",
       "      <td>0.229270</td>\n",
       "      <td>0.436957</td>\n",
       "      <td>0.186900</td>\n",
       "      <td>82</td>\n",
       "    </tr>\n",
       "    <tr>\n",
       "      <th>...</th>\n",
       "      <td>...</td>\n",
       "      <td>...</td>\n",
       "      <td>...</td>\n",
       "      <td>...</td>\n",
       "      <td>...</td>\n",
       "    </tr>\n",
       "    <tr>\n",
       "      <th>726</th>\n",
       "      <td>0.254167</td>\n",
       "      <td>0.226642</td>\n",
       "      <td>0.652917</td>\n",
       "      <td>0.350133</td>\n",
       "      <td>247</td>\n",
       "    </tr>\n",
       "    <tr>\n",
       "      <th>727</th>\n",
       "      <td>0.253333</td>\n",
       "      <td>0.255046</td>\n",
       "      <td>0.590000</td>\n",
       "      <td>0.155471</td>\n",
       "      <td>644</td>\n",
       "    </tr>\n",
       "    <tr>\n",
       "      <th>728</th>\n",
       "      <td>0.253333</td>\n",
       "      <td>0.242400</td>\n",
       "      <td>0.752917</td>\n",
       "      <td>0.124383</td>\n",
       "      <td>159</td>\n",
       "    </tr>\n",
       "    <tr>\n",
       "      <th>729</th>\n",
       "      <td>0.255833</td>\n",
       "      <td>0.231700</td>\n",
       "      <td>0.483333</td>\n",
       "      <td>0.350754</td>\n",
       "      <td>364</td>\n",
       "    </tr>\n",
       "    <tr>\n",
       "      <th>730</th>\n",
       "      <td>0.215833</td>\n",
       "      <td>0.223487</td>\n",
       "      <td>0.577500</td>\n",
       "      <td>0.154846</td>\n",
       "      <td>439</td>\n",
       "    </tr>\n",
       "  </tbody>\n",
       "</table>\n",
       "<p>731 rows × 5 columns</p>\n",
       "</div>"
      ],
      "text/plain": [
       "         temp     atemp       hum  windspeed  rentals\n",
       "0    0.344167  0.363625  0.805833   0.160446      331\n",
       "1    0.363478  0.353739  0.696087   0.248539      131\n",
       "2    0.196364  0.189405  0.437273   0.248309      120\n",
       "3    0.200000  0.212122  0.590435   0.160296      108\n",
       "4    0.226957  0.229270  0.436957   0.186900       82\n",
       "..        ...       ...       ...        ...      ...\n",
       "726  0.254167  0.226642  0.652917   0.350133      247\n",
       "727  0.253333  0.255046  0.590000   0.155471      644\n",
       "728  0.253333  0.242400  0.752917   0.124383      159\n",
       "729  0.255833  0.231700  0.483333   0.350754      364\n",
       "730  0.215833  0.223487  0.577500   0.154846      439\n",
       "\n",
       "[731 rows x 5 columns]"
      ]
     },
     "execution_count": 9,
     "metadata": {},
     "output_type": "execute_result"
    }
   ],
   "source": [
    "bike_numeric=pd.DataFrame(bike_data[['temp','atemp','hum','windspeed','rentals']])\n",
    "bike_numeric"
   ]
  },
  {
   "cell_type": "code",
   "execution_count": 10,
   "id": "ce5935ca",
   "metadata": {},
   "outputs": [
    {
     "data": {
      "text/html": [
       "<div>\n",
       "<style scoped>\n",
       "    .dataframe tbody tr th:only-of-type {\n",
       "        vertical-align: middle;\n",
       "    }\n",
       "\n",
       "    .dataframe tbody tr th {\n",
       "        vertical-align: top;\n",
       "    }\n",
       "\n",
       "    .dataframe thead th {\n",
       "        text-align: right;\n",
       "    }\n",
       "</style>\n",
       "<table border=\"1\" class=\"dataframe\">\n",
       "  <thead>\n",
       "    <tr style=\"text-align: right;\">\n",
       "      <th></th>\n",
       "      <th>temp</th>\n",
       "      <th>atemp</th>\n",
       "      <th>hum</th>\n",
       "      <th>windspeed</th>\n",
       "      <th>rentals</th>\n",
       "    </tr>\n",
       "  </thead>\n",
       "  <tbody>\n",
       "    <tr>\n",
       "      <th>count</th>\n",
       "      <td>731.000000</td>\n",
       "      <td>731.000000</td>\n",
       "      <td>731.000000</td>\n",
       "      <td>731.000000</td>\n",
       "      <td>731.000000</td>\n",
       "    </tr>\n",
       "    <tr>\n",
       "      <th>mean</th>\n",
       "      <td>0.495385</td>\n",
       "      <td>0.474354</td>\n",
       "      <td>0.627894</td>\n",
       "      <td>0.190486</td>\n",
       "      <td>848.176471</td>\n",
       "    </tr>\n",
       "    <tr>\n",
       "      <th>std</th>\n",
       "      <td>0.183051</td>\n",
       "      <td>0.162961</td>\n",
       "      <td>0.142429</td>\n",
       "      <td>0.077498</td>\n",
       "      <td>686.622488</td>\n",
       "    </tr>\n",
       "    <tr>\n",
       "      <th>min</th>\n",
       "      <td>0.059130</td>\n",
       "      <td>0.079070</td>\n",
       "      <td>0.000000</td>\n",
       "      <td>0.022392</td>\n",
       "      <td>2.000000</td>\n",
       "    </tr>\n",
       "    <tr>\n",
       "      <th>25%</th>\n",
       "      <td>0.337083</td>\n",
       "      <td>0.337842</td>\n",
       "      <td>0.520000</td>\n",
       "      <td>0.134950</td>\n",
       "      <td>315.500000</td>\n",
       "    </tr>\n",
       "    <tr>\n",
       "      <th>50%</th>\n",
       "      <td>0.498333</td>\n",
       "      <td>0.486733</td>\n",
       "      <td>0.626667</td>\n",
       "      <td>0.180975</td>\n",
       "      <td>713.000000</td>\n",
       "    </tr>\n",
       "    <tr>\n",
       "      <th>75%</th>\n",
       "      <td>0.655417</td>\n",
       "      <td>0.608602</td>\n",
       "      <td>0.730209</td>\n",
       "      <td>0.233214</td>\n",
       "      <td>1096.000000</td>\n",
       "    </tr>\n",
       "    <tr>\n",
       "      <th>max</th>\n",
       "      <td>0.861667</td>\n",
       "      <td>0.840896</td>\n",
       "      <td>0.972500</td>\n",
       "      <td>0.507463</td>\n",
       "      <td>3410.000000</td>\n",
       "    </tr>\n",
       "  </tbody>\n",
       "</table>\n",
       "</div>"
      ],
      "text/plain": [
       "             temp       atemp         hum   windspeed      rentals\n",
       "count  731.000000  731.000000  731.000000  731.000000   731.000000\n",
       "mean     0.495385    0.474354    0.627894    0.190486   848.176471\n",
       "std      0.183051    0.162961    0.142429    0.077498   686.622488\n",
       "min      0.059130    0.079070    0.000000    0.022392     2.000000\n",
       "25%      0.337083    0.337842    0.520000    0.134950   315.500000\n",
       "50%      0.498333    0.486733    0.626667    0.180975   713.000000\n",
       "75%      0.655417    0.608602    0.730209    0.233214  1096.000000\n",
       "max      0.861667    0.840896    0.972500    0.507463  3410.000000"
      ]
     },
     "execution_count": 10,
     "metadata": {},
     "output_type": "execute_result"
    }
   ],
   "source": [
    "bike_numeric.describe()"
   ]
  },
  {
   "cell_type": "markdown",
   "id": "3576ada5",
   "metadata": {},
   "source": [
    "## Check for distribution of data"
   ]
  },
  {
   "cell_type": "code",
   "execution_count": 11,
   "id": "f845c310",
   "metadata": {
    "scrolled": true
   },
   "outputs": [
    {
     "name": "stderr",
     "output_type": "stream",
     "text": [
      "C:\\Users\\User\\anaconda3\\lib\\site-packages\\seaborn\\distributions.py:2619: FutureWarning: `distplot` is a deprecated function and will be removed in a future version. Please adapt your code to use either `displot` (a figure-level function with similar flexibility) or `histplot` (an axes-level function for histograms).\n",
      "  warnings.warn(msg, FutureWarning)\n"
     ]
    },
    {
     "data": {
      "image/png": "[encoded data removed]",
      "text/plain": [
       "<Figure size 432x288 with 1 Axes>"
      ]
     },
     "metadata": {
      "needs_background": "light"
     },
     "output_type": "display_data"
    }
   ],
   "source": [
    "sns.distplot(bike_data['rentals']);"
   ]
  },
  {
   "cell_type": "code",
   "execution_count": 12,
   "id": "cc81f0c1",
   "metadata": {},
   "outputs": [
    {
     "data": {
      "text/plain": [
       "1.2664540319434734"
      ]
     },
     "execution_count": 12,
     "metadata": {},
     "output_type": "execute_result"
    }
   ],
   "source": [
    "bike_data['rentals'].skew()"
   ]
  },
  {
   "cell_type": "code",
   "execution_count": 13,
   "id": "645e8824",
   "metadata": {},
   "outputs": [
    {
     "data": {
      "text/plain": [
       "848.1764705882352"
      ]
     },
     "execution_count": 13,
     "metadata": {},
     "output_type": "execute_result"
    }
   ],
   "source": [
    "bike_data['rentals'].mean()"
   ]
  },
  {
   "cell_type": "markdown",
   "id": "9d6bcdf2",
   "metadata": {},
   "source": [
    "inference:\n",
    "* here the Skeweness is greater tha 1 then it is highly skewed.\n",
    "* Data is distributed right side from mean\n",
    "* Most of the data or the frequency of data is higher in left side so 'Rentals' column is left skewed."
   ]
  },
  {
   "cell_type": "markdown",
   "id": "60795c3e",
   "metadata": {},
   "source": [
    "## Check for outliers"
   ]
  },
  {
   "cell_type": "code",
   "execution_count": 14,
   "id": "26937130",
   "metadata": {},
   "outputs": [
    {
     "data": {
      "image/png": "[encoded data removed]",
      "text/plain": [
       "<Figure size 432x288 with 1 Axes>"
      ]
     },
     "metadata": {
      "needs_background": "light"
     },
     "output_type": "display_data"
    }
   ],
   "source": [
    "sns.boxplot(x='rentals', data=bike_data);"
   ]
  },
  {
   "cell_type": "code",
   "execution_count": 15,
   "id": "1a418dff",
   "metadata": {},
   "outputs": [
    {
     "data": {
      "image/png": "[encoded data removed]",
      "text/plain": [
       "<Figure size 432x288 with 1 Axes>"
      ]
     },
     "metadata": {
      "needs_background": "light"
     },
     "output_type": "display_data"
    }
   ],
   "source": [
    "sns.violinplot(x='rentals', data=bike_data);"
   ]
  },
  {
   "cell_type": "markdown",
   "id": "69138e32",
   "metadata": {},
   "source": [
    "* Inference: Data is spread towards right of the mean and the outliers are observed."
   ]
  },
  {
   "cell_type": "markdown",
   "id": "ba9c6f03",
   "metadata": {},
   "source": [
    "## Check relation between columns"
   ]
  },
  {
   "cell_type": "code",
   "execution_count": 16,
   "id": "41b251bf",
   "metadata": {},
   "outputs": [
    {
     "data": {
      "image/png": "[encoded data removed]",
      "text/plain": [
       "<Figure size 432x288 with 2 Axes>"
      ]
     },
     "metadata": {
      "needs_background": "light"
     },
     "output_type": "display_data"
    }
   ],
   "source": [
    "sns.heatmap(bike_numeric.corr(),annot=True, cmap='Set3');"
   ]
  },
  {
   "cell_type": "markdown",
   "id": "5b142b56",
   "metadata": {},
   "source": [
    "## Check for peakness od data"
   ]
  },
  {
   "cell_type": "code",
   "execution_count": 17,
   "id": "e5c44013",
   "metadata": {},
   "outputs": [
    {
     "data": {
      "text/plain": [
       "1.3220743270907955"
      ]
     },
     "execution_count": 17,
     "metadata": {},
     "output_type": "execute_result"
    }
   ],
   "source": [
    "bike_data.rentals.kurtosis()"
   ]
  },
  {
   "cell_type": "markdown",
   "id": "2fbd6c5c",
   "metadata": {},
   "source": [
    "## On which date more bike are on rent"
   ]
  },
  {
   "cell_type": "code",
   "execution_count": 18,
   "id": "754ec06b",
   "metadata": {},
   "outputs": [
    {
     "data": {
      "image/png": "[encoded data removed]",
      "text/plain": [
       "<Figure size 864x432 with 1 Axes>"
      ]
     },
     "metadata": {
      "needs_background": "light"
     },
     "output_type": "display_data"
    }
   ],
   "source": [
    "def data_labels(x_list, y_list):\n",
    "    for i in range(len(x_list)):\n",
    "        plt.annotate(y_list[i],(i,y_list[i]), ha='center', fontsize=12)\n",
    "        \n",
    "plt.figure(figsize=(12,6))\n",
    "sns.barplot(x='dteday', y='rentals', data=bike_data, ci=None, estimator=sum,\n",
    "           order=bike_data.groupby('dteday').rentals.sum().sort_values(ascending=False)[:10].index)\n",
    "plt.xticks(rotation=45)\n",
    "\n",
    "x=bike_data.groupby('dteday').rentals.sum().sort_values(ascending=False)[:10].index\n",
    "y=bike_data.groupby('dteday').rentals.sum().sort_values(ascending=False)[:10].values\n",
    "data_labels(x,y);"
   ]
  },
  {
   "cell_type": "markdown",
   "id": "65214da8",
   "metadata": {},
   "source": [
    "* Inference: On date 19-05-2012 more bike are on rent"
   ]
  },
  {
   "cell_type": "markdown",
   "id": "e209af31",
   "metadata": {},
   "source": [
    "## On which week day more bikes are on rent"
   ]
  },
  {
   "cell_type": "code",
   "execution_count": 19,
   "id": "2de6239a",
   "metadata": {},
   "outputs": [
    {
     "data": {
      "image/png": "[encoded data removed]",
      "text/plain": [
       "<Figure size 864x432 with 1 Axes>"
      ]
     },
     "metadata": {
      "needs_background": "light"
     },
     "output_type": "display_data"
    }
   ],
   "source": [
    "def data_labels(x_list, y_list):\n",
    "    for i in range(len(x_list)):\n",
    "        plt.annotate(y_list[i],(i,y_list[i]), ha='center', fontsize=12)\n",
    "        \n",
    "plt.figure(figsize=(12,6))\n",
    "sns.barplot(x='weekday', y='rentals', data=bike_data, ci=None, estimator=sum,\n",
    "           order=bike_data.groupby('weekday').rentals.sum().sort_values(ascending=False).index)\n",
    "plt.xticks(rotation=45)\n",
    "\n",
    "x=bike_data.groupby('weekday').rentals.sum().sort_values(ascending=False)[:10].index\n",
    "y=bike_data.groupby('weekday').rentals.sum().sort_values(ascending=False)[:10].values\n",
    "data_labels(x,y);"
   ]
  },
  {
   "cell_type": "markdown",
   "id": "e179ae2e",
   "metadata": {},
   "source": [
    "* Inference: On Saturday more bikes are on rent, followed by Sunday."
   ]
  },
  {
   "cell_type": "markdown",
   "id": "ef2ede40",
   "metadata": {},
   "source": [
    "## In which month more bikes are on rent"
   ]
  },
  {
   "cell_type": "code",
   "execution_count": 20,
   "id": "de00e6a7",
   "metadata": {},
   "outputs": [
    {
     "data": {
      "image/png": "[encoded data removed]",
      "text/plain": [
       "<Figure size 864x432 with 1 Axes>"
      ]
     },
     "metadata": {
      "needs_background": "light"
     },
     "output_type": "display_data"
    }
   ],
   "source": [
    "def data_labels(x_list, y_list):\n",
    "    for i in range(len(x_list)):\n",
    "        plt.annotate(y_list[i],(i,y_list[i]), ha='center', fontsize=12)\n",
    "        \n",
    "plt.figure(figsize=(12,6))\n",
    "sns.barplot(x='mnth', y='rentals', data=bike_data, ci=None, estimator=sum,\n",
    "           order=bike_data.groupby('mnth').rentals.sum().sort_values(ascending=False)[:10].index)\n",
    "plt.xticks(rotation=45)\n",
    "\n",
    "x=bike_data.groupby('mnth').rentals.sum().sort_values(ascending=False)[:10].index\n",
    "y=bike_data.groupby('mnth').rentals.sum().sort_values(ascending=False)[:10].values\n",
    "data_labels(x,y);"
   ]
  },
  {
   "cell_type": "markdown",
   "id": "8403ca0a",
   "metadata": {},
   "source": [
    "* Inference: In month of July more bikes are on rent"
   ]
  },
  {
   "cell_type": "markdown",
   "id": "72a060c3",
   "metadata": {},
   "source": [
    "## In which weather more bikes are on rent"
   ]
  },
  {
   "cell_type": "code",
   "execution_count": 21,
   "id": "b3971ce4",
   "metadata": {},
   "outputs": [
    {
     "data": {
      "image/png": "[encoded data removed]",
      "text/plain": [
       "<Figure size 864x432 with 1 Axes>"
      ]
     },
     "metadata": {
      "needs_background": "light"
     },
     "output_type": "display_data"
    }
   ],
   "source": [
    "def data_labels(x_list, y_list):\n",
    "    for i in range(len(x_list)):\n",
    "        plt.annotate(y_list[i],(i,y_list[i]), ha='center', fontsize=12)\n",
    "        \n",
    "plt.figure(figsize=(12,6))\n",
    "sns.barplot(x='weathersit', y='rentals', data=bike_data, ci=None, estimator=sum,\n",
    "           order=bike_data.groupby('weathersit').rentals.sum().sort_values(ascending=False)[:10].index)\n",
    "plt.xticks(rotation=45)\n",
    "\n",
    "x=bike_data.groupby('weathersit').rentals.sum().sort_values(ascending=False)[:10].index\n",
    "y=bike_data.groupby('weathersit').rentals.sum().sort_values(ascending=False)[:10].values\n",
    "data_labels(x,y);"
   ]
  },
  {
   "cell_type": "markdown",
   "id": "61dabb95",
   "metadata": {},
   "source": [
    "* Inference: here 1 stands for clear weather, 2 for cloudy, 3 for light rain, on clear weather more bikes are on rent"
   ]
  },
  {
   "cell_type": "markdown",
   "id": "56ec2fa5",
   "metadata": {},
   "source": [
    "## In which season more bikes are on rent"
   ]
  },
  {
   "cell_type": "code",
   "execution_count": 22,
   "id": "d89d48e4",
   "metadata": {},
   "outputs": [
    {
     "data": {
      "image/png": "[encoded data removed]",
      "text/plain": [
       "<Figure size 864x432 with 1 Axes>"
      ]
     },
     "metadata": {
      "needs_background": "light"
     },
     "output_type": "display_data"
    }
   ],
   "source": [
    "def data_labels(x_list, y_list):\n",
    "    for i in range(len(x_list)):\n",
    "        plt.annotate(y_list[i],(i,y_list[i]), ha='center', fontsize=12)\n",
    "        \n",
    "plt.figure(figsize=(12,6))\n",
    "sns.barplot(x='season', y='rentals', data=bike_data, ci=None, estimator=sum,\n",
    "           order=bike_data.groupby('season').rentals.sum().sort_values(ascending=False)[:10].index)\n",
    "plt.xticks(rotation=45)\n",
    "\n",
    "x=bike_data.groupby('season').rentals.sum().sort_values(ascending=False)[:10].index\n",
    "y=bike_data.groupby('season').rentals.sum().sort_values(ascending=False)[:10].values\n",
    "data_labels(x,y);"
   ]
  },
  {
   "cell_type": "markdown",
   "id": "c71e056d",
   "metadata": {},
   "source": [
    "* Inference: here 1 stands for winter, 2 for spring, 3 for summer, 4 for rainfall, clearly in summer season more bikes are rented."
   ]
  },
  {
   "cell_type": "markdown",
   "id": "ae5a701d",
   "metadata": {},
   "source": [
    "## Seps to create model"
   ]
  },
  {
   "cell_type": "markdown",
   "id": "bef3f84d",
   "metadata": {},
   "source": [
    "### Step-1: Aquire data"
   ]
  },
  {
   "cell_type": "markdown",
   "id": "508f0566",
   "metadata": {},
   "source": [
    "X- independent variable\n",
    "y- output variable"
   ]
  },
  {
   "cell_type": "code",
   "execution_count": 24,
   "id": "de077527",
   "metadata": {},
   "outputs": [],
   "source": [
    "X=bike_data[['season','yr','mnth','holiday','weekday','workingday','weathersit','temp','atemp','hum','windspeed']].values\n",
    "y=bike_data['rentals'].values"
   ]
  },
  {
   "cell_type": "code",
   "execution_count": 25,
   "id": "f0da1534",
   "metadata": {},
   "outputs": [
    {
     "data": {
      "text/plain": [
       "array([[ 1.      ,  0.      ,  1.      , ...,  0.363625,  0.805833,\n",
       "         0.160446],\n",
       "       [ 1.      ,  0.      ,  1.      , ...,  0.353739,  0.696087,\n",
       "         0.248539],\n",
       "       [ 1.      ,  0.      ,  1.      , ...,  0.189405,  0.437273,\n",
       "         0.248309],\n",
       "       ...,\n",
       "       [ 1.      ,  1.      , 12.      , ...,  0.2424  ,  0.752917,\n",
       "         0.124383],\n",
       "       [ 1.      ,  1.      , 12.      , ...,  0.2317  ,  0.483333,\n",
       "         0.350754],\n",
       "       [ 1.      ,  1.      , 12.      , ...,  0.223487,  0.5775  ,\n",
       "         0.154846]])"
      ]
     },
     "execution_count": 25,
     "metadata": {},
     "output_type": "execute_result"
    }
   ],
   "source": [
    "X"
   ]
  },
  {
   "cell_type": "code",
   "execution_count": 26,
   "id": "c472bebd",
   "metadata": {},
   "outputs": [
    {
     "data": {
      "text/plain": [
       "array([ 331,  131,  120,  108,   82,   88,  148,   68,   54,   41,   43,\n",
       "         25,   38,   54,  222,  251,  117,    9,   78,   83,   75,   93,\n",
       "        150,   86,  186,   34,   15,   38,  123,  140,   42,   47,   72,\n",
       "         61,   88,  100,  354,  120,   64,   53,   47,  149,  288,  397,\n",
       "        208,  140,  218,  259,  579,  532,  639,  195,   74,  139,  100,\n",
       "        120,  424,  694,   81,  137,  231,  123,  214,  640,  114,  244,\n",
       "        316,  191,   46,  247,  724,  982,  359,  289,  321,  424,  884,\n",
       "       1424, 1047,  401,  460,  203,  166,  300,  981,  472,  222,  317,\n",
       "        168,  179,  307,  898, 1651,  734,  167,  413,  571,  172,  879,\n",
       "       1188,  855,  257,  209,  529,  642,  121, 1558,  669,  409,  613,\n",
       "        745,  177, 1462, 1710,  773,  678,  547,  569,  878, 1965, 1138,\n",
       "        847,  603,  255,  614,  894, 1612, 1401,  664,  694,  550,  695,\n",
       "        692,  902, 1582,  773,  678,  536,  735,  909, 2258, 1576,  836,\n",
       "        659,  740,  758,  871, 2001, 2355, 1549,  673,  513,  736,  898,\n",
       "       1869, 1685,  673,  763,  676,  563,  815, 1729, 1467,  863,  727,\n",
       "        769,  545,  863, 1807, 1639,  699,  774,  661,  746,  969, 1782,\n",
       "       1920,  854,  732,  848, 1027, 1246, 2204, 2282, 3065, 1031,  784,\n",
       "        754,  692, 1988, 1743,  723,  662,  748,  888, 1318, 2418, 2006,\n",
       "        841,  752,  644,  632,  562,  987, 1050,  568,  750,  755,  606,\n",
       "        670, 1559, 1524,  729,  801,  467,  799, 1023, 1521, 1298,  846,\n",
       "        907,  884,  812, 1051, 1504, 1338,  775,  721,  668,  639,  797,\n",
       "       1914, 1249,  833, 1281,  949,  435,  768,  226, 1415,  729,  775,\n",
       "        688,  783,  875, 1935, 2521, 1236,  204,  118,  153,  417, 1750,\n",
       "       1633,  690,  701,  647,  428,  742, 1434, 1353,  691,  438,  539,\n",
       "        555,  258, 1776, 1544,  684,  477,  480,  653,  830,  480,  616,\n",
       "        330,  486,  559,  639,  949, 2235, 2397, 1514,  667,  217,  290,\n",
       "        529, 1899, 1748,  713,  637,  254,  471,  676, 1499, 1619,  699,\n",
       "        695,  404,  240,  456,   57,  885,  362,  410,  370,  318,  470,\n",
       "       1156,  952,  373,  376,  305,  190,  440, 1275, 1004,  595,  449,\n",
       "        145,  139,  245,  943,  787,  220,   69,  112,  560, 1095, 1249,\n",
       "        810,  253,   96,  188,  182,  268,  706,  634,  233,  126,   50,\n",
       "        150,  261,  502,  377,  143,  155,  178,  181,  178,  275,  220,\n",
       "        260,  216,  107,  227,  163,  155,  303,  430,  103,  255,  254,\n",
       "        491,  665,  686,  244,   89,   95,  140,  307, 1070,  599,  106,\n",
       "        173,   92,  269,  174,  333,  284,  217,  127,  109,  130,  115,\n",
       "         67,  196,  145,  439,  467,  244,  269,  775,  558,  126,  324,\n",
       "        304,  190,  310,  384,  318,  206,  199,  109,  163,  227,  192,\n",
       "         73,   94,  135,  141,   74,  349, 1435,  618,  502,  163,  394,\n",
       "        516,  246,  317,  515,  253,  229,   65,  325,  246,  956,  710,\n",
       "        203,  221,  432,  486,  447,  968, 1658,  838,  762,  997, 1005,\n",
       "        548, 3155, 2207,  982, 1051, 1122, 1334, 2469, 1033, 1532,  795,\n",
       "        531,  674,  834,  796, 2301, 2347, 1208, 1348, 1058, 1192, 1807,\n",
       "       3252, 2230,  905,  819,  482,  663, 1252, 2795, 2846, 1198,  989,\n",
       "        347,  846, 1340, 2541,  120,  195,  518,  655,  475, 1014, 1120,\n",
       "       2229,  665,  653,  667,  764, 1069, 2496, 2135, 1008,  738,  620,\n",
       "       1026, 1319, 2622, 2172,  342,  625,  991, 1242, 1521, 3410, 2704,\n",
       "        630,  819,  766, 1059, 1417, 2855, 3283, 2557,  880,  745, 1100,\n",
       "        533, 2795, 2494, 1071,  968, 1027, 1038, 1488, 2708, 2224, 1017,\n",
       "        477, 1173, 1180, 1563, 2963, 2634,  653,  968,  872,  778,  964,\n",
       "       2657, 2551, 1139, 1077, 1077,  921,  829, 1455, 1421,  904, 1052,\n",
       "       2562, 1405, 1366, 1448, 1203,  998,  954,  975, 1032, 1511, 2355,\n",
       "       1920, 1088,  921,  799,  888,  747, 1264, 2544, 1135, 1140, 1383,\n",
       "       1036, 1259, 2234, 2153, 1040,  968, 1074,  983, 1328, 2345, 1707,\n",
       "       1233, 1278, 1263, 1196, 1065, 2247, 2182, 1207, 1128, 1198, 1338,\n",
       "       1483, 2827, 1208, 1026, 1081, 1094, 1363, 1325, 1829, 1483,  989,\n",
       "        935, 1177, 1172, 1433, 2352, 2613, 1965,  867,  832,  611, 1045,\n",
       "       1557, 2570, 1118, 1070, 1050, 1054, 1379, 3160, 2166, 1022,  371,\n",
       "        788,  939, 1250, 2512, 2454, 1001,  845,  787,  751, 1045, 2589,\n",
       "       2015,  763,  315,  728,  891, 1516, 3031,  781,  874,  601,  780,\n",
       "        834, 1060, 2252, 2080,  760,  922,  979, 1008,  753, 2806, 2132,\n",
       "        830,  841,  795,  875, 1182, 2643,  998,    2,   87,  419,  466,\n",
       "        618, 1029, 1201,  378,  466,  326,  340,  709, 2090, 2290, 1097,\n",
       "        327,  373,  320,  484, 1313,  922,  449,  534,  615,  955, 1603,\n",
       "        532,  309,  337,  123,  198,  243,  362,  951,  892,  555,  551,\n",
       "        331,  340,  349, 1153,  441,  329,  282,  310,  425,  429,  767,\n",
       "        538,  212,  433,  333,  314,  221,  205,  408,  174,  440,    9,\n",
       "        247,  644,  159,  364,  439], dtype=int64)"
      ]
     },
     "execution_count": 26,
     "metadata": {},
     "output_type": "execute_result"
    }
   ],
   "source": [
    "y"
   ]
  },
  {
   "cell_type": "markdown",
   "id": "79317826",
   "metadata": {},
   "source": [
    "### Step:2- devide data into train and test in ratio 70:30"
   ]
  },
  {
   "cell_type": "code",
   "execution_count": 28,
   "id": "6eeee0b0",
   "metadata": {},
   "outputs": [],
   "source": [
    "from sklearn.model_selection import train_test_split"
   ]
  },
  {
   "cell_type": "markdown",
   "id": "fb3a7183",
   "metadata": {},
   "source": [
    "X_train, X_test- Independ variable\n",
    "y_train, y_test- Dependent variable"
   ]
  },
  {
   "cell_type": "code",
   "execution_count": 30,
   "id": "6c5cc9f4",
   "metadata": {},
   "outputs": [],
   "source": [
    "X_train, X_test, y_train, y_test=train_test_split(X, y, test_size=0.30, random_state=0)\n",
    "\n",
    "# random_state=0, means no shuffling or no changing of data when we run this cell again and again"
   ]
  },
  {
   "cell_type": "code",
   "execution_count": 31,
   "id": "dcab1c4f",
   "metadata": {},
   "outputs": [
    {
     "data": {
      "text/plain": [
       "array([[ 2.      ,  1.      ,  6.      , ...,  0.597862,  0.467917,\n",
       "         0.175383],\n",
       "       [ 1.      ,  0.      ,  1.      , ...,  0.150883,  0.470417,\n",
       "         0.301   ],\n",
       "       [ 2.      ,  0.      ,  6.      , ...,  0.678038,  0.654583,\n",
       "         0.15485 ],\n",
       "       ...,\n",
       "       [ 3.      ,  1.      ,  9.      , ...,  0.571971,  0.66875 ,\n",
       "         0.154229],\n",
       "       [ 3.      ,  1.      ,  7.      , ...,  0.667933,  0.485833,\n",
       "         0.08085 ],\n",
       "       [ 4.      ,  1.      , 11.      , ...,  0.324492,  0.620417,\n",
       "         0.152987]])"
      ]
     },
     "execution_count": 31,
     "metadata": {},
     "output_type": "execute_result"
    }
   ],
   "source": [
    "X_train"
   ]
  },
  {
   "cell_type": "code",
   "execution_count": null,
   "id": "9188ff5a",
   "metadata": {},
   "outputs": [],
   "source": []
  },
  {
   "cell_type": "code",
   "execution_count": 32,
   "id": "00027cc3",
   "metadata": {},
   "outputs": [],
   "source": [
    "from sklearn.linear_model import LinearRegression"
   ]
  },
  {
   "cell_type": "code",
   "execution_count": 34,
   "id": "8b435acb",
   "metadata": {},
   "outputs": [
    {
     "data": {
      "text/plain": [
       "LinearRegression()"
      ]
     },
     "execution_count": 34,
     "metadata": {},
     "output_type": "execute_result"
    }
   ],
   "source": [
    "### Creating empty model\n",
    "model=LinearRegression()\n",
    "model"
   ]
  },
  {
   "cell_type": "code",
   "execution_count": 35,
   "id": "d57b5c11",
   "metadata": {},
   "outputs": [
    {
     "data": {
      "text/plain": [
       "LinearRegression()"
      ]
     },
     "execution_count": 35,
     "metadata": {},
     "output_type": "execute_result"
    }
   ],
   "source": [
    "model.fit(X_train, y_train)"
   ]
  },
  {
   "cell_type": "markdown",
   "id": "1e1037a1",
   "metadata": {},
   "source": [
    "Line equation: y=mx+c\n",
    "x-input\n",
    "m-slope\n",
    "\n",
    "in this case we took multiple inputs so m(x1+x2+x3+-----xn)"
   ]
  },
  {
   "cell_type": "code",
   "execution_count": 36,
   "id": "16311ddc",
   "metadata": {},
   "outputs": [
    {
     "data": {
      "text/plain": [
       "['__abstractmethods__',\n",
       " '__class__',\n",
       " '__delattr__',\n",
       " '__dict__',\n",
       " '__dir__',\n",
       " '__doc__',\n",
       " '__eq__',\n",
       " '__format__',\n",
       " '__ge__',\n",
       " '__getattribute__',\n",
       " '__getstate__',\n",
       " '__gt__',\n",
       " '__hash__',\n",
       " '__init__',\n",
       " '__init_subclass__',\n",
       " '__le__',\n",
       " '__lt__',\n",
       " '__module__',\n",
       " '__ne__',\n",
       " '__new__',\n",
       " '__reduce__',\n",
       " '__reduce_ex__',\n",
       " '__repr__',\n",
       " '__setattr__',\n",
       " '__setstate__',\n",
       " '__sizeof__',\n",
       " '__str__',\n",
       " '__subclasshook__',\n",
       " '__weakref__',\n",
       " '_abc_impl',\n",
       " '_check_n_features',\n",
       " '_decision_function',\n",
       " '_estimator_type',\n",
       " '_get_param_names',\n",
       " '_get_tags',\n",
       " '_more_tags',\n",
       " '_preprocess_data',\n",
       " '_repr_html_',\n",
       " '_repr_html_inner',\n",
       " '_repr_mimebundle_',\n",
       " '_residues',\n",
       " '_set_intercept',\n",
       " '_validate_data',\n",
       " 'coef_',\n",
       " 'copy_X',\n",
       " 'fit',\n",
       " 'fit_intercept',\n",
       " 'get_params',\n",
       " 'intercept_',\n",
       " 'n_features_in_',\n",
       " 'n_jobs',\n",
       " 'normalize',\n",
       " 'positive',\n",
       " 'predict',\n",
       " 'rank_',\n",
       " 'score',\n",
       " 'set_params',\n",
       " 'singular_']"
      ]
     },
     "execution_count": 36,
     "metadata": {},
     "output_type": "execute_result"
    }
   ],
   "source": [
    "dir(model)"
   ]
  },
  {
   "cell_type": "code",
   "execution_count": 39,
   "id": "b628b072",
   "metadata": {},
   "outputs": [],
   "source": [
    "prediction=model.predict(X_test)"
   ]
  },
  {
   "cell_type": "code",
   "execution_count": 40,
   "id": "7a0ec77c",
   "metadata": {},
   "outputs": [
    {
     "data": {
      "text/plain": [
       "array([1777.4707313 , 1060.55926953,  859.57862584, -133.96694604,\n",
       "        442.98664093,  261.39032921,  369.68649207,  725.05778753,\n",
       "       1564.3936411 , -119.31892355, -167.28384886, -159.55994377,\n",
       "        -32.12187815,  884.89539209, 1062.0923784 ,  636.66579926,\n",
       "        861.56574436, 1594.17470383,  182.02075776,  151.10646268,\n",
       "       1314.81968078,  909.92838439,  414.45435631, 1642.73967315,\n",
       "        737.58926084, 1837.44665611, 1323.70957301,  949.82653628,\n",
       "       1706.87076722, 1804.69319409,  475.6260399 ,  868.10868562,\n",
       "        570.07164673, 1844.08398298,  -12.27241142, 1271.13371498,\n",
       "       1248.08727599, 2443.57600095,  297.63228687,  235.03824456,\n",
       "       1660.57837531,  866.11850069,  811.63209404,  405.61545794,\n",
       "       1224.85703594,  926.10707721,  750.88020326, 1199.98458995,\n",
       "       1087.78700126,  830.66817853, 1650.0076994 , 1258.19756093,\n",
       "        630.59298895,  885.93311193,  814.19454298, 1226.40061213,\n",
       "        127.35358272,  796.08303464, 1230.91820382,  398.61756893,\n",
       "        860.60652616, 1338.93869301,  637.66900758, 1829.2886297 ,\n",
       "        997.62713751,  540.32021531,  707.77484329,  531.12557923,\n",
       "       1952.43344675,  469.21996143,  667.55628694, 1242.16123105,\n",
       "       1261.49781549, 2037.88307219,  582.35569392,  698.34261354,\n",
       "        773.63381502, 1255.7937105 ,  861.78607416,  767.17523584,\n",
       "       2087.59773671, 1303.04428553, 1169.03130865,  902.63702747,\n",
       "       1632.3724637 , 1053.44517588, 1055.12080839,  865.72588977,\n",
       "       1589.21842783,  541.09787204, -186.97446672,  251.49458667,\n",
       "       1409.65083409, 1203.38185052,  704.72906765,  592.75576655,\n",
       "        551.86110578, 1325.59327638,  942.62120216,  298.37477047,\n",
       "        616.62689233,  621.70205589,  446.64751135,  840.03823994,\n",
       "        164.31504478, 2009.91317271, 1100.39508301, 1012.38360971,\n",
       "       1344.98503117,  -13.7472924 , 1332.05160436,  745.15470684,\n",
       "        718.82284837,  982.36975309,  771.06300989,  882.99252202,\n",
       "        806.85968627,  451.00231537,  852.52200526,  523.44346434,\n",
       "        123.68786347,  999.82735623,  506.50583598, 1263.71157467,\n",
       "        484.8002206 ,  769.57537997,  -45.8537347 ,  704.8247879 ,\n",
       "        811.09295164,  558.44636069,  670.42212428, 1979.33961336,\n",
       "       -141.98391597,  437.03083749,  364.41941442,  761.81802072,\n",
       "       1775.23066211,  519.16148131,  770.02482168, 1690.96579383,\n",
       "       1440.05781531,  570.73533228,  959.6880975 ,  414.34394087,\n",
       "       1624.62769119, 1992.50705095, 1627.1534331 ,   34.80572074,\n",
       "        991.46690255, 1093.51785578, 1746.93289844,  291.20994801,\n",
       "       1227.21871306,  510.05796759, -182.74492808, 2015.45602734,\n",
       "        820.79066208, 2259.20725593,  178.73030454,  628.82080693,\n",
       "       1255.98121664, 1556.31707084, 1208.51015055,  682.9425855 ,\n",
       "         11.93566016, 1360.78270605,  -60.81628233,  985.47225142,\n",
       "        187.84822779, 1891.17780357, 1652.93197424, 1398.1794826 ,\n",
       "        843.47197576, 1477.77503856, 2031.97299368,   87.37156754,\n",
       "        697.48538261,  824.69189932,  413.39445343,  617.36097691,\n",
       "        700.34999319,  293.94905491,  687.80983506,  693.04024166,\n",
       "       1066.74283437, 1045.37220403, 1188.6123219 ,  544.44654751,\n",
       "       1860.40425682,  538.90472659,  650.63676995,  427.44855695,\n",
       "        303.84218865, 1010.12690702, 1108.09182165,  851.1797855 ,\n",
       "       1215.0282871 ,  627.28626932,  791.66217384,  473.1532929 ,\n",
       "        972.99357545,    3.27806138,  439.51117535, 1747.52604039,\n",
       "        807.42047062,  813.03017661, 1197.94186128,  -51.96371469,\n",
       "       1933.65183695, 1295.07102054,   81.99284116,  185.83683887,\n",
       "        890.35328476, 1396.05912123, 1541.69213273,  342.46610844,\n",
       "       1307.28812809,  414.41558122, 1115.47600168,  801.25115656])"
      ]
     },
     "execution_count": 40,
     "metadata": {},
     "output_type": "execute_result"
    }
   ],
   "source": [
    "prediction"
   ]
  },
  {
   "cell_type": "code",
   "execution_count": 41,
   "id": "29093622",
   "metadata": {},
   "outputs": [
    {
     "data": {
      "text/plain": [
       "array([2418,  754,  222,   47,  244,  145,  240,  555, 3252,   38,   47,\n",
       "        103,  120,  763,  748,  699, 1118, 2090,  109,  401, 1172,  159,\n",
       "        378, 1467,  196, 1208,  562,  688, 2454, 2795,   54,  783,  601,\n",
       "       1782,  163,  775, 1036, 1448,  424,   96, 2541,  131,  653,  246,\n",
       "       1074, 1001,  244, 1236,  384,  472, 2557, 1135,  665, 1173,  799,\n",
       "        810,  188,  979, 1040,  140, 1340, 1435,  371, 3160, 1038,  118,\n",
       "        830,  486, 2855,  419, 1026,  975, 1532, 2153,  529,  551,  762,\n",
       "       1207,  220,  364, 1559, 1201, 1246,  639, 1544, 1563,  812,  667,\n",
       "       1264,  836,   43,   46, 1259, 1328,  342,  440,   57,  983,  467,\n",
       "        163,  539, 1014,  329,  780,  155, 1524,  795, 1045, 2347,  107,\n",
       "       1710,  435,  417,  532,  192,  673,  701,  603,  875, 1208,  120,\n",
       "        661,  579,  686,  449,  684,   78,  968,  502,  884,  114, 1707,\n",
       "         74,  676,  467,  982, 2846,  691,  949, 1750, 1120,  878,  747,\n",
       "        449, 1776, 3410, 1415,  172, 1521,  891, 2172,  362, 1140,  153,\n",
       "          9, 2827,  729, 1421,   69,  290, 1029, 2080,  892,  738,  140,\n",
       "        904,  214, 1180,  190, 2247, 2258, 1499, 1071, 1401, 1050,  260,\n",
       "        303,  740,  373,   93, 1060,   65,  100,  674,  634, 1059, 1424,\n",
       "        531, 1914,  253,  613,  349,  257, 1069,  728,  797,  441,  639,\n",
       "       1252,  595,  377,  221,  742, 2704,  769,  692, 1004,   88, 2963,\n",
       "       1338,  644,  182, 1005,  781, 1685,  269, 1383,  318,  644,  949],\n",
       "      dtype=int64)"
      ]
     },
     "execution_count": 41,
     "metadata": {},
     "output_type": "execute_result"
    }
   ],
   "source": [
    "y_test"
   ]
  },
  {
   "cell_type": "code",
   "execution_count": 46,
   "id": "1eb372f5",
   "metadata": {},
   "outputs": [],
   "source": [
    "from sklearn.metrics import mean_squared_error, r2_score"
   ]
  },
  {
   "cell_type": "code",
   "execution_count": 48,
   "id": "efc259d3",
   "metadata": {},
   "outputs": [],
   "source": [
    "mse=mean_squared_error(y_test, prediction)\n",
    "rmse=np.sqrt(mse)\n",
    "r2=r2_score(y_test, prediction)"
   ]
  },
  {
   "cell_type": "code",
   "execution_count": 49,
   "id": "c4a543e9",
   "metadata": {},
   "outputs": [
    {
     "data": {
      "text/plain": [
       "168177.7838609061"
      ]
     },
     "execution_count": 49,
     "metadata": {},
     "output_type": "execute_result"
    }
   ],
   "source": [
    "mse"
   ]
  },
  {
   "cell_type": "code",
   "execution_count": 50,
   "id": "ac6f1adf",
   "metadata": {},
   "outputs": [
    {
     "data": {
      "text/plain": [
       "410.0948473961921"
      ]
     },
     "execution_count": 50,
     "metadata": {},
     "output_type": "execute_result"
    }
   ],
   "source": [
    "rmse"
   ]
  },
  {
   "cell_type": "code",
   "execution_count": 51,
   "id": "f5b1aac5",
   "metadata": {},
   "outputs": [
    {
     "data": {
      "text/plain": [
       "0.670298010191025"
      ]
     },
     "execution_count": 51,
     "metadata": {},
     "output_type": "execute_result"
    }
   ],
   "source": [
    "r2"
   ]
  },
  {
   "cell_type": "code",
   "execution_count": 52,
   "id": "b12ae9b2",
   "metadata": {},
   "outputs": [
    {
     "data": {
      "text/plain": [
       "0.670298010191025"
      ]
     },
     "execution_count": 52,
     "metadata": {},
     "output_type": "execute_result"
    }
   ],
   "source": [
    "model.score(X_test, y_test)"
   ]
  },
  {
   "cell_type": "code",
   "execution_count": 54,
   "id": "9891df50",
   "metadata": {},
   "outputs": [
    {
     "data": {
      "text/plain": [
       "0.6894325126245252"
      ]
     },
     "execution_count": 54,
     "metadata": {},
     "output_type": "execute_result"
    }
   ],
   "source": [
    "model.score(X_train, y_train)"
   ]
  },
  {
   "cell_type": "markdown",
   "id": "38557719",
   "metadata": {},
   "source": [
    "**Above is for multiple linear regression"
   ]
  },
  {
   "cell_type": "code",
   "execution_count": null,
   "id": "f83614e8",
   "metadata": {},
   "outputs": [],
   "source": []
  },
  {
   "cell_type": "markdown",
   "id": "eba9e080",
   "metadata": {},
   "source": [
    "**for simple linear regression use single column"
   ]
  },
  {
   "cell_type": "code",
   "execution_count": 55,
   "id": "66f24490",
   "metadata": {},
   "outputs": [
    {
     "data": {
      "text/html": [
       "<div>\n",
       "<style scoped>\n",
       "    .dataframe tbody tr th:only-of-type {\n",
       "        vertical-align: middle;\n",
       "    }\n",
       "\n",
       "    .dataframe tbody tr th {\n",
       "        vertical-align: top;\n",
       "    }\n",
       "\n",
       "    .dataframe thead th {\n",
       "        text-align: right;\n",
       "    }\n",
       "</style>\n",
       "<table border=\"1\" class=\"dataframe\">\n",
       "  <thead>\n",
       "    <tr style=\"text-align: right;\">\n",
       "      <th></th>\n",
       "      <th>instant</th>\n",
       "      <th>season</th>\n",
       "      <th>yr</th>\n",
       "      <th>mnth</th>\n",
       "      <th>holiday</th>\n",
       "      <th>weekday</th>\n",
       "      <th>workingday</th>\n",
       "      <th>weathersit</th>\n",
       "      <th>temp</th>\n",
       "      <th>atemp</th>\n",
       "      <th>hum</th>\n",
       "      <th>windspeed</th>\n",
       "      <th>rentals</th>\n",
       "      <th>day</th>\n",
       "    </tr>\n",
       "  </thead>\n",
       "  <tbody>\n",
       "    <tr>\n",
       "      <th>instant</th>\n",
       "      <td>1.000000</td>\n",
       "      <td>0.412224</td>\n",
       "      <td>0.866025</td>\n",
       "      <td>0.496702</td>\n",
       "      <td>0.016145</td>\n",
       "      <td>-0.000016</td>\n",
       "      <td>-0.004337</td>\n",
       "      <td>-0.021477</td>\n",
       "      <td>0.150580</td>\n",
       "      <td>0.152638</td>\n",
       "      <td>0.016375</td>\n",
       "      <td>-0.112620</td>\n",
       "      <td>0.275255</td>\n",
       "      <td>0.047990</td>\n",
       "    </tr>\n",
       "    <tr>\n",
       "      <th>season</th>\n",
       "      <td>0.412224</td>\n",
       "      <td>1.000000</td>\n",
       "      <td>-0.001844</td>\n",
       "      <td>0.831440</td>\n",
       "      <td>-0.010537</td>\n",
       "      <td>-0.003080</td>\n",
       "      <td>0.012485</td>\n",
       "      <td>0.019211</td>\n",
       "      <td>0.334315</td>\n",
       "      <td>0.342876</td>\n",
       "      <td>0.205445</td>\n",
       "      <td>-0.229046</td>\n",
       "      <td>0.210399</td>\n",
       "      <td>-0.000861</td>\n",
       "    </tr>\n",
       "    <tr>\n",
       "      <th>yr</th>\n",
       "      <td>0.866025</td>\n",
       "      <td>-0.001844</td>\n",
       "      <td>1.000000</td>\n",
       "      <td>-0.001792</td>\n",
       "      <td>0.007954</td>\n",
       "      <td>-0.005461</td>\n",
       "      <td>-0.002013</td>\n",
       "      <td>-0.048727</td>\n",
       "      <td>0.047604</td>\n",
       "      <td>0.046106</td>\n",
       "      <td>-0.110651</td>\n",
       "      <td>-0.011817</td>\n",
       "      <td>0.248546</td>\n",
       "      <td>0.002061</td>\n",
       "    </tr>\n",
       "    <tr>\n",
       "      <th>mnth</th>\n",
       "      <td>0.496702</td>\n",
       "      <td>0.831440</td>\n",
       "      <td>-0.001792</td>\n",
       "      <td>1.000000</td>\n",
       "      <td>0.019191</td>\n",
       "      <td>0.009509</td>\n",
       "      <td>-0.005901</td>\n",
       "      <td>0.043528</td>\n",
       "      <td>0.220205</td>\n",
       "      <td>0.227459</td>\n",
       "      <td>0.222204</td>\n",
       "      <td>-0.207502</td>\n",
       "      <td>0.123006</td>\n",
       "      <td>0.009157</td>\n",
       "    </tr>\n",
       "    <tr>\n",
       "      <th>holiday</th>\n",
       "      <td>0.016145</td>\n",
       "      <td>-0.010537</td>\n",
       "      <td>0.007954</td>\n",
       "      <td>0.019191</td>\n",
       "      <td>1.000000</td>\n",
       "      <td>-0.101960</td>\n",
       "      <td>-0.253023</td>\n",
       "      <td>-0.034627</td>\n",
       "      <td>-0.028556</td>\n",
       "      <td>-0.032507</td>\n",
       "      <td>-0.015937</td>\n",
       "      <td>0.006292</td>\n",
       "      <td>0.054274</td>\n",
       "      <td>-0.010710</td>\n",
       "    </tr>\n",
       "    <tr>\n",
       "      <th>weekday</th>\n",
       "      <td>-0.000016</td>\n",
       "      <td>-0.003080</td>\n",
       "      <td>-0.005461</td>\n",
       "      <td>0.009509</td>\n",
       "      <td>-0.101960</td>\n",
       "      <td>1.000000</td>\n",
       "      <td>0.035790</td>\n",
       "      <td>0.031087</td>\n",
       "      <td>-0.000170</td>\n",
       "      <td>-0.007537</td>\n",
       "      <td>-0.052232</td>\n",
       "      <td>0.014282</td>\n",
       "      <td>0.059923</td>\n",
       "      <td>-0.000428</td>\n",
       "    </tr>\n",
       "    <tr>\n",
       "      <th>workingday</th>\n",
       "      <td>-0.004337</td>\n",
       "      <td>0.012485</td>\n",
       "      <td>-0.002013</td>\n",
       "      <td>-0.005901</td>\n",
       "      <td>-0.253023</td>\n",
       "      <td>0.035790</td>\n",
       "      <td>1.000000</td>\n",
       "      <td>0.061200</td>\n",
       "      <td>0.052660</td>\n",
       "      <td>0.052182</td>\n",
       "      <td>0.024327</td>\n",
       "      <td>-0.018796</td>\n",
       "      <td>-0.518044</td>\n",
       "      <td>0.009907</td>\n",
       "    </tr>\n",
       "    <tr>\n",
       "      <th>weathersit</th>\n",
       "      <td>-0.021477</td>\n",
       "      <td>0.019211</td>\n",
       "      <td>-0.048727</td>\n",
       "      <td>0.043528</td>\n",
       "      <td>-0.034627</td>\n",
       "      <td>0.031087</td>\n",
       "      <td>0.061200</td>\n",
       "      <td>1.000000</td>\n",
       "      <td>-0.120602</td>\n",
       "      <td>-0.121583</td>\n",
       "      <td>0.591045</td>\n",
       "      <td>0.039511</td>\n",
       "      <td>-0.247353</td>\n",
       "      <td>-0.023824</td>\n",
       "    </tr>\n",
       "    <tr>\n",
       "      <th>temp</th>\n",
       "      <td>0.150580</td>\n",
       "      <td>0.334315</td>\n",
       "      <td>0.047604</td>\n",
       "      <td>0.220205</td>\n",
       "      <td>-0.028556</td>\n",
       "      <td>-0.000170</td>\n",
       "      <td>0.052660</td>\n",
       "      <td>-0.120602</td>\n",
       "      <td>1.000000</td>\n",
       "      <td>0.991702</td>\n",
       "      <td>0.126963</td>\n",
       "      <td>-0.157944</td>\n",
       "      <td>0.543285</td>\n",
       "      <td>0.024253</td>\n",
       "    </tr>\n",
       "    <tr>\n",
       "      <th>atemp</th>\n",
       "      <td>0.152638</td>\n",
       "      <td>0.342876</td>\n",
       "      <td>0.046106</td>\n",
       "      <td>0.227459</td>\n",
       "      <td>-0.032507</td>\n",
       "      <td>-0.007537</td>\n",
       "      <td>0.052182</td>\n",
       "      <td>-0.121583</td>\n",
       "      <td>0.991702</td>\n",
       "      <td>1.000000</td>\n",
       "      <td>0.139988</td>\n",
       "      <td>-0.183643</td>\n",
       "      <td>0.543864</td>\n",
       "      <td>0.018286</td>\n",
       "    </tr>\n",
       "    <tr>\n",
       "      <th>hum</th>\n",
       "      <td>0.016375</td>\n",
       "      <td>0.205445</td>\n",
       "      <td>-0.110651</td>\n",
       "      <td>0.222204</td>\n",
       "      <td>-0.015937</td>\n",
       "      <td>-0.052232</td>\n",
       "      <td>0.024327</td>\n",
       "      <td>0.591045</td>\n",
       "      <td>0.126963</td>\n",
       "      <td>0.139988</td>\n",
       "      <td>1.000000</td>\n",
       "      <td>-0.248489</td>\n",
       "      <td>-0.077008</td>\n",
       "      <td>0.042753</td>\n",
       "    </tr>\n",
       "    <tr>\n",
       "      <th>windspeed</th>\n",
       "      <td>-0.112620</td>\n",
       "      <td>-0.229046</td>\n",
       "      <td>-0.011817</td>\n",
       "      <td>-0.207502</td>\n",
       "      <td>0.006292</td>\n",
       "      <td>0.014282</td>\n",
       "      <td>-0.018796</td>\n",
       "      <td>0.039511</td>\n",
       "      <td>-0.157944</td>\n",
       "      <td>-0.183643</td>\n",
       "      <td>-0.248489</td>\n",
       "      <td>1.000000</td>\n",
       "      <td>-0.167613</td>\n",
       "      <td>0.021588</td>\n",
       "    </tr>\n",
       "    <tr>\n",
       "      <th>rentals</th>\n",
       "      <td>0.275255</td>\n",
       "      <td>0.210399</td>\n",
       "      <td>0.248546</td>\n",
       "      <td>0.123006</td>\n",
       "      <td>0.054274</td>\n",
       "      <td>0.059923</td>\n",
       "      <td>-0.518044</td>\n",
       "      <td>-0.247353</td>\n",
       "      <td>0.543285</td>\n",
       "      <td>0.543864</td>\n",
       "      <td>-0.077008</td>\n",
       "      <td>-0.167613</td>\n",
       "      <td>1.000000</td>\n",
       "      <td>-0.013365</td>\n",
       "    </tr>\n",
       "    <tr>\n",
       "      <th>day</th>\n",
       "      <td>0.047990</td>\n",
       "      <td>-0.000861</td>\n",
       "      <td>0.002061</td>\n",
       "      <td>0.009157</td>\n",
       "      <td>-0.010710</td>\n",
       "      <td>-0.000428</td>\n",
       "      <td>0.009907</td>\n",
       "      <td>-0.023824</td>\n",
       "      <td>0.024253</td>\n",
       "      <td>0.018286</td>\n",
       "      <td>0.042753</td>\n",
       "      <td>0.021588</td>\n",
       "      <td>-0.013365</td>\n",
       "      <td>1.000000</td>\n",
       "    </tr>\n",
       "  </tbody>\n",
       "</table>\n",
       "</div>"
      ],
      "text/plain": [
       "             instant    season        yr      mnth   holiday   weekday  \\\n",
       "instant     1.000000  0.412224  0.866025  0.496702  0.016145 -0.000016   \n",
       "season      0.412224  1.000000 -0.001844  0.831440 -0.010537 -0.003080   \n",
       "yr          0.866025 -0.001844  1.000000 -0.001792  0.007954 -0.005461   \n",
       "mnth        0.496702  0.831440 -0.001792  1.000000  0.019191  0.009509   \n",
       "holiday     0.016145 -0.010537  0.007954  0.019191  1.000000 -0.101960   \n",
       "weekday    -0.000016 -0.003080 -0.005461  0.009509 -0.101960  1.000000   \n",
       "workingday -0.004337  0.012485 -0.002013 -0.005901 -0.253023  0.035790   \n",
       "weathersit -0.021477  0.019211 -0.048727  0.043528 -0.034627  0.031087   \n",
       "temp        0.150580  0.334315  0.047604  0.220205 -0.028556 -0.000170   \n",
       "atemp       0.152638  0.342876  0.046106  0.227459 -0.032507 -0.007537   \n",
       "hum         0.016375  0.205445 -0.110651  0.222204 -0.015937 -0.052232   \n",
       "windspeed  -0.112620 -0.229046 -0.011817 -0.207502  0.006292  0.014282   \n",
       "rentals     0.275255  0.210399  0.248546  0.123006  0.054274  0.059923   \n",
       "day         0.047990 -0.000861  0.002061  0.009157 -0.010710 -0.000428   \n",
       "\n",
       "            workingday  weathersit      temp     atemp       hum  windspeed  \\\n",
       "instant      -0.004337   -0.021477  0.150580  0.152638  0.016375  -0.112620   \n",
       "season        0.012485    0.019211  0.334315  0.342876  0.205445  -0.229046   \n",
       "yr           -0.002013   -0.048727  0.047604  0.046106 -0.110651  -0.011817   \n",
       "mnth         -0.005901    0.043528  0.220205  0.227459  0.222204  -0.207502   \n",
       "holiday      -0.253023   -0.034627 -0.028556 -0.032507 -0.015937   0.006292   \n",
       "weekday       0.035790    0.031087 -0.000170 -0.007537 -0.052232   0.014282   \n",
       "workingday    1.000000    0.061200  0.052660  0.052182  0.024327  -0.018796   \n",
       "weathersit    0.061200    1.000000 -0.120602 -0.121583  0.591045   0.039511   \n",
       "temp          0.052660   -0.120602  1.000000  0.991702  0.126963  -0.157944   \n",
       "atemp         0.052182   -0.121583  0.991702  1.000000  0.139988  -0.183643   \n",
       "hum           0.024327    0.591045  0.126963  0.139988  1.000000  -0.248489   \n",
       "windspeed    -0.018796    0.039511 -0.157944 -0.183643 -0.248489   1.000000   \n",
       "rentals      -0.518044   -0.247353  0.543285  0.543864 -0.077008  -0.167613   \n",
       "day           0.009907   -0.023824  0.024253  0.018286  0.042753   0.021588   \n",
       "\n",
       "             rentals       day  \n",
       "instant     0.275255  0.047990  \n",
       "season      0.210399 -0.000861  \n",
       "yr          0.248546  0.002061  \n",
       "mnth        0.123006  0.009157  \n",
       "holiday     0.054274 -0.010710  \n",
       "weekday     0.059923 -0.000428  \n",
       "workingday -0.518044  0.009907  \n",
       "weathersit -0.247353 -0.023824  \n",
       "temp        0.543285  0.024253  \n",
       "atemp       0.543864  0.018286  \n",
       "hum        -0.077008  0.042753  \n",
       "windspeed  -0.167613  0.021588  \n",
       "rentals     1.000000 -0.013365  \n",
       "day        -0.013365  1.000000  "
      ]
     },
     "execution_count": 55,
     "metadata": {},
     "output_type": "execute_result"
    }
   ],
   "source": [
    "bike_data.corr()"
   ]
  },
  {
   "cell_type": "code",
   "execution_count": 66,
   "id": "a413c32a",
   "metadata": {},
   "outputs": [],
   "source": [
    "X=bike_data[['atemp']]\n",
    "y=bike_data[['rentals']]"
   ]
  },
  {
   "cell_type": "code",
   "execution_count": 67,
   "id": "b09c7132",
   "metadata": {},
   "outputs": [],
   "source": [
    "X_train, X_test, y_train, y_test=train_test_split(X, y, test_size=0.30, random_state=0)"
   ]
  },
  {
   "cell_type": "code",
   "execution_count": 68,
   "id": "a024b0d4",
   "metadata": {},
   "outputs": [
    {
     "data": {
      "text/plain": [
       "LinearRegression()"
      ]
     },
     "execution_count": 68,
     "metadata": {},
     "output_type": "execute_result"
    }
   ],
   "source": [
    "### Creating empty model\n",
    "model1=LinearRegression()\n",
    "model1"
   ]
  },
  {
   "cell_type": "code",
   "execution_count": 69,
   "id": "382284dd",
   "metadata": {},
   "outputs": [
    {
     "data": {
      "text/plain": [
       "LinearRegression()"
      ]
     },
     "execution_count": 69,
     "metadata": {},
     "output_type": "execute_result"
    }
   ],
   "source": [
    "model1.fit(X_train, y_train)"
   ]
  },
  {
   "cell_type": "code",
   "execution_count": 72,
   "id": "b765ebb2",
   "metadata": {},
   "outputs": [
    {
     "data": {
      "text/plain": [
       "array([[1217.28867071],\n",
       "       [1326.94267233],\n",
       "       [ 337.15333524],\n",
       "       [ 306.51392094],\n",
       "       [ 580.648925  ],\n",
       "       [ 797.0739087 ],\n",
       "       [ 808.48416915],\n",
       "       [ 805.66431435],\n",
       "       [ 738.73900852],\n",
       "       [ 281.21869546],\n",
       "       [ 114.80440058],\n",
       "       [ 516.54347396],\n",
       "       [ 568.04079023],\n",
       "       [1257.18848816],\n",
       "       [1332.6568261 ],\n",
       "       [1120.47290402],\n",
       "       [1053.49120108],\n",
       "       [ 666.11759599],\n",
       "       [ 398.38253438],\n",
       "       [ 701.75604887],\n",
       "       [1250.03508051],\n",
       "       [ 324.26772675],\n",
       "       [ 472.42289785],\n",
       "       [1228.7079547 ],\n",
       "       [ 143.4586371 ],\n",
       "       [1138.98919856],\n",
       "       [1674.40518056],\n",
       "       [1156.05947157],\n",
       "       [ 948.09405227],\n",
       "       [1054.92143144],\n",
       "       [  39.51878924],\n",
       "       [1164.63183015],\n",
       "       [ 765.77126455],\n",
       "       [1228.6808841 ],\n",
       "       [ 629.06695982],\n",
       "       [ 513.71459563],\n",
       "       [1445.1329384 ],\n",
       "       [1593.2317124 ],\n",
       "       [ 703.1050674 ],\n",
       "       [ 795.6910519 ],\n",
       "       [1002.20819378],\n",
       "       [ 575.43557745],\n",
       "       [1073.47382012],\n",
       "       [ 704.54432129],\n",
       "       [1282.8108168 ],\n",
       "       [ 911.05243964],\n",
       "       [ 346.61000029],\n",
       "       [1188.82618432],\n",
       "       [ 392.67740416],\n",
       "       [ 342.17718855],\n",
       "       [1309.86337579],\n",
       "       [1334.03968289],\n",
       "       [ 809.95049365],\n",
       "       [1156.05044803],\n",
       "       [1277.12598953],\n",
       "       [ 805.67333789],\n",
       "       [ 479.5199084 ],\n",
       "       [ 792.83284708],\n",
       "       [1322.69258718],\n",
       "       [ 405.50661555],\n",
       "       [ 940.9699711 ],\n",
       "       [ 579.2389976 ],\n",
       "       [1052.16699727],\n",
       "       [1099.08938111],\n",
       "       [1062.03648906],\n",
       "       [1005.15888984],\n",
       "       [1006.51242015],\n",
       "       [ 960.88716951],\n",
       "       [1227.28900377],\n",
       "       [ 592.04113838],\n",
       "       [ 886.84680605],\n",
       "       [1244.37732385],\n",
       "       [ 764.36359304],\n",
       "       [1284.2207442 ],\n",
       "       [ 821.3336835 ],\n",
       "       [ 835.57282228],\n",
       "       [1002.22624085],\n",
       "       [1271.40957988],\n",
       "       [ 331.43918148],\n",
       "       [ 300.12976968],\n",
       "       [1420.93632835],\n",
       "       [ 520.84093267],\n",
       "       [1248.64320018],\n",
       "       [ 403.06574923],\n",
       "       [1069.24403793],\n",
       "       [1130.41683998],\n",
       "       [1247.19717864],\n",
       "       [ 990.87237749],\n",
       "       [1017.9790777 ],\n",
       "       [1109.08069063],\n",
       "       [ 209.36202756],\n",
       "       [ 647.46369253],\n",
       "       [1433.74974855],\n",
       "       [1408.14546699],\n",
       "       [1017.95200709],\n",
       "       [ 441.7203188 ],\n",
       "       [ 291.58673759],\n",
       "       [1372.5498759 ],\n",
       "       [1311.3003738 ],\n",
       "       [ 368.45597938],\n",
       "       [1019.37998156],\n",
       "       [ 798.53797731],\n",
       "       [ 760.04808726],\n",
       "       [ 912.47139057],\n",
       "       [ 456.77383166],\n",
       "       [1423.7764861 ],\n",
       "       [1037.85115843],\n",
       "       [1099.08035758],\n",
       "       [ 718.79248362],\n",
       "       [ 742.9981172 ],\n",
       "       [1022.15471868],\n",
       "       [1234.41308493],\n",
       "       [1083.47640906],\n",
       "       [ 660.40344223],\n",
       "       [ 253.13294167],\n",
       "       [1180.28089634],\n",
       "       [1138.98919856],\n",
       "       [1090.54409313],\n",
       "       [ 972.35608295],\n",
       "       [ 741.86115175],\n",
       "       [ 462.45865893],\n",
       "       [1342.63911208],\n",
       "       [ 932.41565959],\n",
       "       [ 624.7988276 ],\n",
       "       [ 922.48074716],\n",
       "       [1106.2518123 ],\n",
       "       [ 450.64685115],\n",
       "       [ 963.7927479 ],\n",
       "       [ 394.17982279],\n",
       "       [ 966.31257014],\n",
       "       [ 603.66345192],\n",
       "       [1426.67078507],\n",
       "       [ 197.11032243],\n",
       "       [ 733.02485475],\n",
       "       [ 442.52341345],\n",
       "       [ 979.42376701],\n",
       "       [1072.03682212],\n",
       "       [ 972.32675646],\n",
       "       [ 915.31831598],\n",
       "       [1148.93313452],\n",
       "       [ 629.04665687],\n",
       "       [ 899.66022625],\n",
       "       [1160.3546744 ],\n",
       "       [ 624.7988276 ],\n",
       "       [1050.68939336],\n",
       "       [1056.32007942],\n",
       "       [1239.16172041],\n",
       "       [ 509.42841633],\n",
       "       [1020.70644126],\n",
       "       [1148.96246101],\n",
       "       [1097.67043018],\n",
       "       [ 580.67825149],\n",
       "       [1371.11062201],\n",
       "       [1030.27138873],\n",
       "       [ 301.55774415],\n",
       "       [1171.73786425],\n",
       "       [1148.92411099],\n",
       "       [1470.77331411],\n",
       "       [ 728.73867546],\n",
       "       [1022.24720992],\n",
       "       [ 508.00044186],\n",
       "       [ 923.89067456],\n",
       "       [ 587.77300616],\n",
       "       [1035.03130363],\n",
       "       [ 351.05409145],\n",
       "       [1361.15766251],\n",
       "       [ 354.22360824],\n",
       "       [1185.97700303],\n",
       "       [ 620.51264831],\n",
       "       [1217.29769425],\n",
       "       [1067.75064283],\n",
       "       [ 737.30201051],\n",
       "       [1081.98075808],\n",
       "       [ 948.09405227],\n",
       "       [1570.48337977],\n",
       "       [ 411.1936987 ],\n",
       "       [ 409.00097961],\n",
       "       [1166.03273402],\n",
       "       [ 681.75989452],\n",
       "       [ -44.18668294],\n",
       "       [ 754.39935412],\n",
       "       [ 563.5493255 ],\n",
       "       [ 325.75209832],\n",
       "       [ 839.84997804],\n",
       "       [ 564.97053232],\n",
       "       [1146.08620912],\n",
       "       [ 829.86769206],\n",
       "       [ 489.52024146],\n",
       "       [1241.50107195],\n",
       "       [ 883.09978299],\n",
       "       [1050.64427568],\n",
       "       [ 570.67566255],\n",
       "       [ 889.71403441],\n",
       "       [1110.4815945 ],\n",
       "       [1129.01593611],\n",
       "       [1205.9145044 ],\n",
       "       [ 657.56554036],\n",
       "       [ 861.22447741],\n",
       "       [ 751.55017284],\n",
       "       [ 960.90521658],\n",
       "       [ 348.52750155],\n",
       "       [ 458.19278259],\n",
       "       [ 818.47547867],\n",
       "       [1094.80320182],\n",
       "       [1103.34623391],\n",
       "       [1289.97324799],\n",
       "       [ 748.71227097],\n",
       "       [ 293.10720329],\n",
       "       [1119.03365013],\n",
       "       [1254.34156276],\n",
       "       [ 352.79563378],\n",
       "       [ 466.73581469],\n",
       "       [ 979.43279055],\n",
       "       [ 724.49084619],\n",
       "       [1168.87965942],\n",
       "       [ 714.49728079],\n",
       "       [1252.91133241],\n",
       "       [ 693.15210791],\n",
       "       [1462.24832908],\n",
       "       [1200.20937417]])"
      ]
     },
     "execution_count": 72,
     "metadata": {},
     "output_type": "execute_result"
    }
   ],
   "source": [
    "prediction=model1.predict(X_test)\n",
    "prediction"
   ]
  },
  {
   "cell_type": "code",
   "execution_count": 81,
   "id": "ff0d438f",
   "metadata": {},
   "outputs": [
    {
     "data": {
      "text/html": [
       "<div>\n",
       "<style scoped>\n",
       "    .dataframe tbody tr th:only-of-type {\n",
       "        vertical-align: middle;\n",
       "    }\n",
       "\n",
       "    .dataframe tbody tr th {\n",
       "        vertical-align: top;\n",
       "    }\n",
       "\n",
       "    .dataframe thead th {\n",
       "        text-align: right;\n",
       "    }\n",
       "</style>\n",
       "<table border=\"1\" class=\"dataframe\">\n",
       "  <thead>\n",
       "    <tr style=\"text-align: right;\">\n",
       "      <th></th>\n",
       "      <th>rentals</th>\n",
       "    </tr>\n",
       "  </thead>\n",
       "  <tbody>\n",
       "    <tr>\n",
       "      <th>196</th>\n",
       "      <td>2418</td>\n",
       "    </tr>\n",
       "    <tr>\n",
       "      <th>187</th>\n",
       "      <td>754</td>\n",
       "    </tr>\n",
       "    <tr>\n",
       "      <th>14</th>\n",
       "      <td>222</td>\n",
       "    </tr>\n",
       "    <tr>\n",
       "      <th>31</th>\n",
       "      <td>47</td>\n",
       "    </tr>\n",
       "    <tr>\n",
       "      <th>390</th>\n",
       "      <td>244</td>\n",
       "    </tr>\n",
       "    <tr>\n",
       "      <th>...</th>\n",
       "      <td>...</td>\n",
       "    </tr>\n",
       "    <tr>\n",
       "      <th>391</th>\n",
       "      <td>269</td>\n",
       "    </tr>\n",
       "    <tr>\n",
       "      <th>571</th>\n",
       "      <td>1383</td>\n",
       "    </tr>\n",
       "    <tr>\n",
       "      <th>306</th>\n",
       "      <td>318</td>\n",
       "    </tr>\n",
       "    <tr>\n",
       "      <th>200</th>\n",
       "      <td>644</td>\n",
       "    </tr>\n",
       "    <tr>\n",
       "      <th>235</th>\n",
       "      <td>949</td>\n",
       "    </tr>\n",
       "  </tbody>\n",
       "</table>\n",
       "<p>220 rows × 1 columns</p>\n",
       "</div>"
      ],
      "text/plain": [
       "     rentals\n",
       "196     2418\n",
       "187      754\n",
       "14       222\n",
       "31        47\n",
       "390      244\n",
       "..       ...\n",
       "391      269\n",
       "571     1383\n",
       "306      318\n",
       "200      644\n",
       "235      949\n",
       "\n",
       "[220 rows x 1 columns]"
      ]
     },
     "execution_count": 81,
     "metadata": {},
     "output_type": "execute_result"
    }
   ],
   "source": [
    "y_test"
   ]
  },
  {
   "cell_type": "code",
   "execution_count": 73,
   "id": "d3e4e10a",
   "metadata": {},
   "outputs": [],
   "source": [
    "mse=mean_squared_error(y_test, prediction)\n",
    "rmse=np.sqrt(mse)\n",
    "r2=r2_score(y_test, prediction)"
   ]
  },
  {
   "cell_type": "code",
   "execution_count": 74,
   "id": "64a7ac64",
   "metadata": {},
   "outputs": [
    {
     "data": {
      "text/plain": [
       "372605.7609843818"
      ]
     },
     "execution_count": 74,
     "metadata": {},
     "output_type": "execute_result"
    }
   ],
   "source": [
    "mse"
   ]
  },
  {
   "cell_type": "code",
   "execution_count": 75,
   "id": "70f94724",
   "metadata": {},
   "outputs": [
    {
     "data": {
      "text/plain": [
       "610.4144174119593"
      ]
     },
     "execution_count": 75,
     "metadata": {},
     "output_type": "execute_result"
    }
   ],
   "source": [
    "rmse"
   ]
  },
  {
   "cell_type": "code",
   "execution_count": 76,
   "id": "7454a951",
   "metadata": {},
   "outputs": [
    {
     "data": {
      "text/plain": [
       "0.26952979168495894"
      ]
     },
     "execution_count": 76,
     "metadata": {},
     "output_type": "execute_result"
    }
   ],
   "source": [
    "r2"
   ]
  },
  {
   "cell_type": "code",
   "execution_count": 78,
   "id": "b02ced00",
   "metadata": {},
   "outputs": [
    {
     "data": {
      "text/plain": [
       "0.26952979168495894"
      ]
     },
     "execution_count": 78,
     "metadata": {},
     "output_type": "execute_result"
    }
   ],
   "source": [
    "model1.score(X_test, y_test)"
   ]
  },
  {
   "cell_type": "code",
   "execution_count": 80,
   "id": "9ea872db",
   "metadata": {},
   "outputs": [
    {
     "data": {
      "text/plain": [
       "0.3076078579046676"
      ]
     },
     "execution_count": 80,
     "metadata": {},
     "output_type": "execute_result"
    }
   ],
   "source": [
    "model1.score(X_train, y_train)"
   ]
  },
  {
   "cell_type": "code",
   "execution_count": 82,
   "id": "5f102b98",
   "metadata": {},
   "outputs": [
    {
     "data": {
      "text/plain": [
       "array([-222.5585157])"
      ]
     },
     "execution_count": 82,
     "metadata": {},
     "output_type": "execute_result"
    }
   ],
   "source": [
    "model1.intercept_\n",
    "#this is our b0"
   ]
  },
  {
   "cell_type": "markdown",
   "id": "8a55447f",
   "metadata": {},
   "source": [
    "y=b1x+b0\n",
    "b1-slope\n",
    "b0-intercept"
   ]
  },
  {
   "cell_type": "code",
   "execution_count": 87,
   "id": "4d65baee",
   "metadata": {},
   "outputs": [
    {
     "data": {
      "text/plain": [
       "array([[2255.8838385]])"
      ]
     },
     "execution_count": 87,
     "metadata": {},
     "output_type": "execute_result"
    }
   ],
   "source": [
    "model1.coef_\n",
    "# this is our b1"
   ]
  },
  {
   "cell_type": "code",
   "execution_count": null,
   "id": "0ab88c8a",
   "metadata": {},
   "outputs": [],
   "source": []
  },
  {
   "cell_type": "code",
   "execution_count": 89,
   "id": "5ecededa",
   "metadata": {
    "scrolled": true
   },
   "outputs": [
    {
     "data": {
      "text/html": [
       "<div>\n",
       "<style scoped>\n",
       "    .dataframe tbody tr th:only-of-type {\n",
       "        vertical-align: middle;\n",
       "    }\n",
       "\n",
       "    .dataframe tbody tr th {\n",
       "        vertical-align: top;\n",
       "    }\n",
       "\n",
       "    .dataframe thead th {\n",
       "        text-align: right;\n",
       "    }\n",
       "</style>\n",
       "<table border=\"1\" class=\"dataframe\">\n",
       "  <thead>\n",
       "    <tr style=\"text-align: right;\">\n",
       "      <th></th>\n",
       "      <th>boot_size</th>\n",
       "      <th>harness_size</th>\n",
       "    </tr>\n",
       "  </thead>\n",
       "  <tbody>\n",
       "    <tr>\n",
       "      <th>0</th>\n",
       "      <td>39</td>\n",
       "      <td>58</td>\n",
       "    </tr>\n",
       "    <tr>\n",
       "      <th>1</th>\n",
       "      <td>38</td>\n",
       "      <td>58</td>\n",
       "    </tr>\n",
       "    <tr>\n",
       "      <th>2</th>\n",
       "      <td>37</td>\n",
       "      <td>52</td>\n",
       "    </tr>\n",
       "    <tr>\n",
       "      <th>3</th>\n",
       "      <td>39</td>\n",
       "      <td>58</td>\n",
       "    </tr>\n",
       "    <tr>\n",
       "      <th>4</th>\n",
       "      <td>38</td>\n",
       "      <td>57</td>\n",
       "    </tr>\n",
       "    <tr>\n",
       "      <th>5</th>\n",
       "      <td>35</td>\n",
       "      <td>52</td>\n",
       "    </tr>\n",
       "    <tr>\n",
       "      <th>6</th>\n",
       "      <td>37</td>\n",
       "      <td>55</td>\n",
       "    </tr>\n",
       "    <tr>\n",
       "      <th>7</th>\n",
       "      <td>36</td>\n",
       "      <td>53</td>\n",
       "    </tr>\n",
       "    <tr>\n",
       "      <th>8</th>\n",
       "      <td>35</td>\n",
       "      <td>49</td>\n",
       "    </tr>\n",
       "    <tr>\n",
       "      <th>9</th>\n",
       "      <td>40</td>\n",
       "      <td>54</td>\n",
       "    </tr>\n",
       "    <tr>\n",
       "      <th>10</th>\n",
       "      <td>40</td>\n",
       "      <td>59</td>\n",
       "    </tr>\n",
       "    <tr>\n",
       "      <th>11</th>\n",
       "      <td>36</td>\n",
       "      <td>56</td>\n",
       "    </tr>\n",
       "    <tr>\n",
       "      <th>12</th>\n",
       "      <td>38</td>\n",
       "      <td>53</td>\n",
       "    </tr>\n",
       "    <tr>\n",
       "      <th>13</th>\n",
       "      <td>39</td>\n",
       "      <td>58</td>\n",
       "    </tr>\n",
       "    <tr>\n",
       "      <th>14</th>\n",
       "      <td>42</td>\n",
       "      <td>57</td>\n",
       "    </tr>\n",
       "    <tr>\n",
       "      <th>15</th>\n",
       "      <td>42</td>\n",
       "      <td>58</td>\n",
       "    </tr>\n",
       "    <tr>\n",
       "      <th>16</th>\n",
       "      <td>36</td>\n",
       "      <td>56</td>\n",
       "    </tr>\n",
       "    <tr>\n",
       "      <th>17</th>\n",
       "      <td>36</td>\n",
       "      <td>51</td>\n",
       "    </tr>\n",
       "    <tr>\n",
       "      <th>18</th>\n",
       "      <td>35</td>\n",
       "      <td>50</td>\n",
       "    </tr>\n",
       "    <tr>\n",
       "      <th>19</th>\n",
       "      <td>41</td>\n",
       "      <td>59</td>\n",
       "    </tr>\n",
       "    <tr>\n",
       "      <th>20</th>\n",
       "      <td>42</td>\n",
       "      <td>59</td>\n",
       "    </tr>\n",
       "    <tr>\n",
       "      <th>21</th>\n",
       "      <td>38</td>\n",
       "      <td>59</td>\n",
       "    </tr>\n",
       "    <tr>\n",
       "      <th>22</th>\n",
       "      <td>37</td>\n",
       "      <td>55</td>\n",
       "    </tr>\n",
       "    <tr>\n",
       "      <th>23</th>\n",
       "      <td>35</td>\n",
       "      <td>50</td>\n",
       "    </tr>\n",
       "    <tr>\n",
       "      <th>24</th>\n",
       "      <td>40</td>\n",
       "      <td>55</td>\n",
       "    </tr>\n",
       "    <tr>\n",
       "      <th>25</th>\n",
       "      <td>36</td>\n",
       "      <td>52</td>\n",
       "    </tr>\n",
       "    <tr>\n",
       "      <th>26</th>\n",
       "      <td>35</td>\n",
       "      <td>53</td>\n",
       "    </tr>\n",
       "    <tr>\n",
       "      <th>27</th>\n",
       "      <td>39</td>\n",
       "      <td>54</td>\n",
       "    </tr>\n",
       "    <tr>\n",
       "      <th>28</th>\n",
       "      <td>41</td>\n",
       "      <td>61</td>\n",
       "    </tr>\n",
       "    <tr>\n",
       "      <th>29</th>\n",
       "      <td>37</td>\n",
       "      <td>56</td>\n",
       "    </tr>\n",
       "    <tr>\n",
       "      <th>30</th>\n",
       "      <td>35</td>\n",
       "      <td>55</td>\n",
       "    </tr>\n",
       "    <tr>\n",
       "      <th>31</th>\n",
       "      <td>41</td>\n",
       "      <td>60</td>\n",
       "    </tr>\n",
       "    <tr>\n",
       "      <th>32</th>\n",
       "      <td>39</td>\n",
       "      <td>57</td>\n",
       "    </tr>\n",
       "    <tr>\n",
       "      <th>33</th>\n",
       "      <td>41</td>\n",
       "      <td>56</td>\n",
       "    </tr>\n",
       "    <tr>\n",
       "      <th>34</th>\n",
       "      <td>42</td>\n",
       "      <td>61</td>\n",
       "    </tr>\n",
       "    <tr>\n",
       "      <th>35</th>\n",
       "      <td>42</td>\n",
       "      <td>58</td>\n",
       "    </tr>\n",
       "    <tr>\n",
       "      <th>36</th>\n",
       "      <td>36</td>\n",
       "      <td>53</td>\n",
       "    </tr>\n",
       "    <tr>\n",
       "      <th>37</th>\n",
       "      <td>37</td>\n",
       "      <td>57</td>\n",
       "    </tr>\n",
       "    <tr>\n",
       "      <th>38</th>\n",
       "      <td>37</td>\n",
       "      <td>57</td>\n",
       "    </tr>\n",
       "    <tr>\n",
       "      <th>39</th>\n",
       "      <td>39</td>\n",
       "      <td>55</td>\n",
       "    </tr>\n",
       "    <tr>\n",
       "      <th>40</th>\n",
       "      <td>42</td>\n",
       "      <td>60</td>\n",
       "    </tr>\n",
       "    <tr>\n",
       "      <th>41</th>\n",
       "      <td>35</td>\n",
       "      <td>51</td>\n",
       "    </tr>\n",
       "    <tr>\n",
       "      <th>42</th>\n",
       "      <td>36</td>\n",
       "      <td>52</td>\n",
       "    </tr>\n",
       "    <tr>\n",
       "      <th>43</th>\n",
       "      <td>41</td>\n",
       "      <td>56</td>\n",
       "    </tr>\n",
       "    <tr>\n",
       "      <th>44</th>\n",
       "      <td>41</td>\n",
       "      <td>55</td>\n",
       "    </tr>\n",
       "    <tr>\n",
       "      <th>45</th>\n",
       "      <td>41</td>\n",
       "      <td>57</td>\n",
       "    </tr>\n",
       "    <tr>\n",
       "      <th>46</th>\n",
       "      <td>39</td>\n",
       "      <td>58</td>\n",
       "    </tr>\n",
       "    <tr>\n",
       "      <th>47</th>\n",
       "      <td>39</td>\n",
       "      <td>57</td>\n",
       "    </tr>\n",
       "    <tr>\n",
       "      <th>48</th>\n",
       "      <td>35</td>\n",
       "      <td>51</td>\n",
       "    </tr>\n",
       "    <tr>\n",
       "      <th>49</th>\n",
       "      <td>39</td>\n",
       "      <td>59</td>\n",
       "    </tr>\n",
       "  </tbody>\n",
       "</table>\n",
       "</div>"
      ],
      "text/plain": [
       "    boot_size  harness_size\n",
       "0          39            58\n",
       "1          38            58\n",
       "2          37            52\n",
       "3          39            58\n",
       "4          38            57\n",
       "5          35            52\n",
       "6          37            55\n",
       "7          36            53\n",
       "8          35            49\n",
       "9          40            54\n",
       "10         40            59\n",
       "11         36            56\n",
       "12         38            53\n",
       "13         39            58\n",
       "14         42            57\n",
       "15         42            58\n",
       "16         36            56\n",
       "17         36            51\n",
       "18         35            50\n",
       "19         41            59\n",
       "20         42            59\n",
       "21         38            59\n",
       "22         37            55\n",
       "23         35            50\n",
       "24         40            55\n",
       "25         36            52\n",
       "26         35            53\n",
       "27         39            54\n",
       "28         41            61\n",
       "29         37            56\n",
       "30         35            55\n",
       "31         41            60\n",
       "32         39            57\n",
       "33         41            56\n",
       "34         42            61\n",
       "35         42            58\n",
       "36         36            53\n",
       "37         37            57\n",
       "38         37            57\n",
       "39         39            55\n",
       "40         42            60\n",
       "41         35            51\n",
       "42         36            52\n",
       "43         41            56\n",
       "44         41            55\n",
       "45         41            57\n",
       "46         39            58\n",
       "47         39            57\n",
       "48         35            51\n",
       "49         39            59"
      ]
     },
     "execution_count": 89,
     "metadata": {},
     "output_type": "execute_result"
    }
   ],
   "source": [
    "data = {\n",
    "    'boot_size' : [ 39, 38, 37, 39, 38, 35, 37, 36, 35, 40, \n",
    "                    40, 36, 38, 39, 42, 42, 36, 36, 35, 41, \n",
    "                    42, 38, 37, 35, 40, 36, 35, 39, 41, 37, \n",
    "                    35, 41, 39, 41, 42, 42, 36, 37, 37, 39,\n",
    "                    42, 35, 36, 41, 41, 41, 39, 39, 35, 39\n",
    " ],\n",
    "    'harness_size': [ 58, 58, 52, 58, 57, 52, 55, 53, 49, 54,\n",
    "                59, 56, 53, 58, 57, 58, 56, 51, 50, 59,\n",
    "                59, 59, 55, 50, 55, 52, 53, 54, 61, 56,\n",
    "                55, 60, 57, 56, 61, 58, 53, 57, 57, 55,\n",
    "                60, 51, 52, 56, 55, 57, 58, 57, 51, 59\n",
    "                ]\n",
    "}\n",
    "dataset=pd.DataFrame(data)\n",
    "dataset"
   ]
  },
  {
   "cell_type": "code",
   "execution_count": 92,
   "id": "bc9d313a",
   "metadata": {
    "scrolled": true
   },
   "outputs": [
    {
     "name": "stdout",
     "output_type": "stream",
     "text": [
      "Requirement already satisfied: statsmodels in c:\\users\\user\\anaconda3\\lib\\site-packages (0.12.2)\n",
      "Requirement already satisfied: numpy>=1.15 in c:\\users\\user\\anaconda3\\lib\\site-packages (from statsmodels) (1.20.3)\n",
      "Requirement already satisfied: scipy>=1.1 in c:\\users\\user\\anaconda3\\lib\\site-packages (from statsmodels) (1.7.1)\n",
      "Requirement already satisfied: pandas>=0.21 in c:\\users\\user\\anaconda3\\lib\\site-packages (from statsmodels) (1.3.4)\n",
      "Requirement already satisfied: patsy>=0.5 in c:\\users\\user\\anaconda3\\lib\\site-packages (from statsmodels) (0.5.2)\n",
      "Requirement already satisfied: python-dateutil>=2.7.3 in c:\\users\\user\\anaconda3\\lib\\site-packages (from pandas>=0.21->statsmodels) (2.8.2)\n",
      "Requirement already satisfied: pytz>=2017.3 in c:\\users\\user\\anaconda3\\lib\\site-packages (from pandas>=0.21->statsmodels) (2021.3)Note: you may need to restart the kernel to use updated packages.\n",
      "Requirement already satisfied: six in c:\\users\\user\\anaconda3\\lib\\site-packages (from patsy>=0.5->statsmodels) (1.16.0)\n",
      "\n"
     ]
    }
   ],
   "source": [
    "pip install statsmodels"
   ]
  },
  {
   "cell_type": "code",
   "execution_count": 94,
   "id": "64881e9d",
   "metadata": {},
   "outputs": [],
   "source": [
    "import statsmodels.formula.api as smf"
   ]
  },
  {
   "cell_type": "code",
   "execution_count": 97,
   "id": "f86db28e",
   "metadata": {},
   "outputs": [],
   "source": [
    "formula=\"boot_size ~ harness_size\""
   ]
  },
  {
   "cell_type": "code",
   "execution_count": 98,
   "id": "fa7ce47a",
   "metadata": {},
   "outputs": [],
   "source": [
    "model=smf.ols(formula=formula, data=dataset)"
   ]
  },
  {
   "cell_type": "code",
   "execution_count": 99,
   "id": "34179f4d",
   "metadata": {},
   "outputs": [],
   "source": [
    "fitted_model=model.fit()"
   ]
  },
  {
   "cell_type": "code",
   "execution_count": 101,
   "id": "63e12dac",
   "metadata": {},
   "outputs": [
    {
     "data": {
      "text/plain": [
       "0.5859254167382713"
      ]
     },
     "execution_count": 101,
     "metadata": {},
     "output_type": "execute_result"
    }
   ],
   "source": [
    "# slope b1 \n",
    "fitted_model.params[1]"
   ]
  },
  {
   "cell_type": "code",
   "execution_count": 102,
   "id": "91ec8572",
   "metadata": {},
   "outputs": [
    {
     "data": {
      "text/plain": [
       "5.7191098126825874"
      ]
     },
     "execution_count": 102,
     "metadata": {},
     "output_type": "execute_result"
    }
   ],
   "source": [
    "# intercept b0\n",
    "fitted_model.params[0]"
   ]
  },
  {
   "cell_type": "code",
   "execution_count": 103,
   "id": "77b9c089",
   "metadata": {
    "scrolled": true
   },
   "outputs": [
    {
     "data": {
      "text/plain": [
       "['HC0_se',\n",
       " 'HC1_se',\n",
       " 'HC2_se',\n",
       " 'HC3_se',\n",
       " '_HCCM',\n",
       " '__class__',\n",
       " '__delattr__',\n",
       " '__dict__',\n",
       " '__dir__',\n",
       " '__doc__',\n",
       " '__eq__',\n",
       " '__format__',\n",
       " '__ge__',\n",
       " '__getattribute__',\n",
       " '__gt__',\n",
       " '__hash__',\n",
       " '__init__',\n",
       " '__init_subclass__',\n",
       " '__le__',\n",
       " '__lt__',\n",
       " '__module__',\n",
       " '__ne__',\n",
       " '__new__',\n",
       " '__reduce__',\n",
       " '__reduce_ex__',\n",
       " '__repr__',\n",
       " '__setattr__',\n",
       " '__sizeof__',\n",
       " '__str__',\n",
       " '__subclasshook__',\n",
       " '__weakref__',\n",
       " '_abat_diagonal',\n",
       " '_cache',\n",
       " '_data_attr',\n",
       " '_data_in_cache',\n",
       " '_get_robustcov_results',\n",
       " '_is_nested',\n",
       " '_use_t',\n",
       " '_wexog_singular_values',\n",
       " 'aic',\n",
       " 'bic',\n",
       " 'bse',\n",
       " 'centered_tss',\n",
       " 'compare_f_test',\n",
       " 'compare_lm_test',\n",
       " 'compare_lr_test',\n",
       " 'condition_number',\n",
       " 'conf_int',\n",
       " 'conf_int_el',\n",
       " 'cov_HC0',\n",
       " 'cov_HC1',\n",
       " 'cov_HC2',\n",
       " 'cov_HC3',\n",
       " 'cov_kwds',\n",
       " 'cov_params',\n",
       " 'cov_type',\n",
       " 'df_model',\n",
       " 'df_resid',\n",
       " 'eigenvals',\n",
       " 'el_test',\n",
       " 'ess',\n",
       " 'f_pvalue',\n",
       " 'f_test',\n",
       " 'fittedvalues',\n",
       " 'fvalue',\n",
       " 'get_influence',\n",
       " 'get_prediction',\n",
       " 'get_robustcov_results',\n",
       " 'initialize',\n",
       " 'k_constant',\n",
       " 'llf',\n",
       " 'load',\n",
       " 'model',\n",
       " 'mse_model',\n",
       " 'mse_resid',\n",
       " 'mse_total',\n",
       " 'nobs',\n",
       " 'normalized_cov_params',\n",
       " 'outlier_test',\n",
       " 'params',\n",
       " 'predict',\n",
       " 'pvalues',\n",
       " 'remove_data',\n",
       " 'resid',\n",
       " 'resid_pearson',\n",
       " 'rsquared',\n",
       " 'rsquared_adj',\n",
       " 'save',\n",
       " 'scale',\n",
       " 'ssr',\n",
       " 'summary',\n",
       " 'summary2',\n",
       " 't_test',\n",
       " 't_test_pairwise',\n",
       " 'tvalues',\n",
       " 'uncentered_tss',\n",
       " 'use_t',\n",
       " 'wald_test',\n",
       " 'wald_test_terms',\n",
       " 'wresid']"
      ]
     },
     "execution_count": 103,
     "metadata": {},
     "output_type": "execute_result"
    }
   ],
   "source": [
    "dir(fitted_model)"
   ]
  },
  {
   "cell_type": "code",
   "execution_count": 107,
   "id": "c97d1cd2",
   "metadata": {
    "scrolled": false
   },
   "outputs": [
    {
     "data": {
      "text/html": [
       "<table class=\"simpletable\">\n",
       "<caption>OLS Regression Results</caption>\n",
       "<tr>\n",
       "  <th>Dep. Variable:</th>        <td>boot_size</td>    <th>  R-squared:         </th> <td>   0.569</td>\n",
       "</tr>\n",
       "<tr>\n",
       "  <th>Model:</th>                   <td>OLS</td>       <th>  Adj. R-squared:    </th> <td>   0.560</td>\n",
       "</tr>\n",
       "<tr>\n",
       "  <th>Method:</th>             <td>Least Squares</td>  <th>  F-statistic:       </th> <td>   63.37</td>\n",
       "</tr>\n",
       "<tr>\n",
       "  <th>Date:</th>             <td>Sun, 18 Sep 2022</td> <th>  Prob (F-statistic):</th> <td>2.53e-10</td>\n",
       "</tr>\n",
       "<tr>\n",
       "  <th>Time:</th>                 <td>18:33:23</td>     <th>  Log-Likelihood:    </th> <td> -93.054</td>\n",
       "</tr>\n",
       "<tr>\n",
       "  <th>No. Observations:</th>      <td>    50</td>      <th>  AIC:               </th> <td>   190.1</td>\n",
       "</tr>\n",
       "<tr>\n",
       "  <th>Df Residuals:</th>          <td>    48</td>      <th>  BIC:               </th> <td>   193.9</td>\n",
       "</tr>\n",
       "<tr>\n",
       "  <th>Df Model:</th>              <td>     1</td>      <th>                     </th>     <td> </td>   \n",
       "</tr>\n",
       "<tr>\n",
       "  <th>Covariance Type:</th>      <td>nonrobust</td>    <th>                     </th>     <td> </td>   \n",
       "</tr>\n",
       "</table>\n",
       "<table class=\"simpletable\">\n",
       "<tr>\n",
       "        <td></td>          <th>coef</th>     <th>std err</th>      <th>t</th>      <th>P>|t|</th>  <th>[0.025</th>    <th>0.975]</th>  \n",
       "</tr>\n",
       "<tr>\n",
       "  <th>Intercept</th>    <td>    5.7191</td> <td>    4.102</td> <td>    1.394</td> <td> 0.170</td> <td>   -2.528</td> <td>   13.966</td>\n",
       "</tr>\n",
       "<tr>\n",
       "  <th>harness_size</th> <td>    0.5859</td> <td>    0.074</td> <td>    7.960</td> <td> 0.000</td> <td>    0.438</td> <td>    0.734</td>\n",
       "</tr>\n",
       "</table>\n",
       "<table class=\"simpletable\">\n",
       "<tr>\n",
       "  <th>Omnibus:</th>       <td> 2.715</td> <th>  Durbin-Watson:     </th> <td>   1.717</td>\n",
       "</tr>\n",
       "<tr>\n",
       "  <th>Prob(Omnibus):</th> <td> 0.257</td> <th>  Jarque-Bera (JB):  </th> <td>   1.758</td>\n",
       "</tr>\n",
       "<tr>\n",
       "  <th>Skew:</th>          <td> 0.228</td> <th>  Prob(JB):          </th> <td>   0.415</td>\n",
       "</tr>\n",
       "<tr>\n",
       "  <th>Kurtosis:</th>      <td> 2.203</td> <th>  Cond. No.          </th> <td>1.02e+03</td>\n",
       "</tr>\n",
       "</table><br/><br/>Notes:<br/>[1] Standard Errors assume that the covariance matrix of the errors is correctly specified.<br/>[2] The condition number is large, 1.02e+03. This might indicate that there are<br/>strong multicollinearity or other numerical problems."
      ],
      "text/plain": [
       "<class 'statsmodels.iolib.summary.Summary'>\n",
       "\"\"\"\n",
       "                            OLS Regression Results                            \n",
       "==============================================================================\n",
       "Dep. Variable:              boot_size   R-squared:                       0.569\n",
       "Model:                            OLS   Adj. R-squared:                  0.560\n",
       "Method:                 Least Squares   F-statistic:                     63.37\n",
       "Date:                Sun, 18 Sep 2022   Prob (F-statistic):           2.53e-10\n",
       "Time:                        18:33:23   Log-Likelihood:                -93.054\n",
       "No. Observations:                  50   AIC:                             190.1\n",
       "Df Residuals:                      48   BIC:                             193.9\n",
       "Df Model:                           1                                         \n",
       "Covariance Type:            nonrobust                                         \n",
       "================================================================================\n",
       "                   coef    std err          t      P>|t|      [0.025      0.975]\n",
       "--------------------------------------------------------------------------------\n",
       "Intercept        5.7191      4.102      1.394      0.170      -2.528      13.966\n",
       "harness_size     0.5859      0.074      7.960      0.000       0.438       0.734\n",
       "==============================================================================\n",
       "Omnibus:                        2.715   Durbin-Watson:                   1.717\n",
       "Prob(Omnibus):                  0.257   Jarque-Bera (JB):                1.758\n",
       "Skew:                           0.228   Prob(JB):                        0.415\n",
       "Kurtosis:                       2.203   Cond. No.                     1.02e+03\n",
       "==============================================================================\n",
       "\n",
       "Notes:\n",
       "[1] Standard Errors assume that the covariance matrix of the errors is correctly specified.\n",
       "[2] The condition number is large, 1.02e+03. This might indicate that there are\n",
       "strong multicollinearity or other numerical problems.\n",
       "\"\"\""
      ]
     },
     "execution_count": 107,
     "metadata": {},
     "output_type": "execute_result"
    }
   ],
   "source": [
    "fitted_model.summary()"
   ]
  },
  {
   "cell_type": "code",
   "execution_count": null,
   "id": "6cff741c",
   "metadata": {},
   "outputs": [],
   "source": []
  }
 ],
 "metadata": {
  "kernelspec": {
   "display_name": "Python 3 (ipykernel)",
   "language": "python",
   "name": "python3"
  },
  "language_info": {
   "codemirror_mode": {
    "name": "ipython",
    "version": 3
   },
   "file_extension": ".py",
   "mimetype": "text/x-python",
   "name": "python",
   "nbconvert_exporter": "python",
   "pygments_lexer": "ipython3",
   "version": "3.9.7"
  }
 },
 "nbformat": 4,
 "nbformat_minor": 5
}
