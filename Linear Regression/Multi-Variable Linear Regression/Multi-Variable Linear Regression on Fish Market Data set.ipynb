{
 "cells": [
  {
   "cell_type": "code",
   "execution_count": 2,
   "id": "0442b9bb",
   "metadata": {},
   "outputs": [],
   "source": [
    "import pandas as pd\n",
    "import numpy as np\n",
    "import matplotlib.pyplot as plt\n",
    "import seaborn as sns"
   ]
  },
  {
   "cell_type": "markdown",
   "id": "f610b830",
   "metadata": {},
   "source": [
    "### Load the Data"
   ]
  },
  {
   "cell_type": "code",
   "execution_count": 4,
   "id": "817212f8",
   "metadata": {},
   "outputs": [
    {
     "data": {
      "text/html": [
       "<div>\n",
       "<style scoped>\n",
       "    .dataframe tbody tr th:only-of-type {\n",
       "        vertical-align: middle;\n",
       "    }\n",
       "\n",
       "    .dataframe tbody tr th {\n",
       "        vertical-align: top;\n",
       "    }\n",
       "\n",
       "    .dataframe thead th {\n",
       "        text-align: right;\n",
       "    }\n",
       "</style>\n",
       "<table border=\"1\" class=\"dataframe\">\n",
       "  <thead>\n",
       "    <tr style=\"text-align: right;\">\n",
       "      <th></th>\n",
       "      <th>Species</th>\n",
       "      <th>Weight</th>\n",
       "      <th>Length1</th>\n",
       "      <th>Length2</th>\n",
       "      <th>Length3</th>\n",
       "      <th>Height</th>\n",
       "      <th>Width</th>\n",
       "    </tr>\n",
       "  </thead>\n",
       "  <tbody>\n",
       "    <tr>\n",
       "      <th>0</th>\n",
       "      <td>Bream</td>\n",
       "      <td>242.0</td>\n",
       "      <td>23.2</td>\n",
       "      <td>25.4</td>\n",
       "      <td>30.0</td>\n",
       "      <td>11.5200</td>\n",
       "      <td>4.0200</td>\n",
       "    </tr>\n",
       "    <tr>\n",
       "      <th>1</th>\n",
       "      <td>Bream</td>\n",
       "      <td>290.0</td>\n",
       "      <td>24.0</td>\n",
       "      <td>26.3</td>\n",
       "      <td>31.2</td>\n",
       "      <td>12.4800</td>\n",
       "      <td>4.3056</td>\n",
       "    </tr>\n",
       "    <tr>\n",
       "      <th>2</th>\n",
       "      <td>Bream</td>\n",
       "      <td>340.0</td>\n",
       "      <td>23.9</td>\n",
       "      <td>26.5</td>\n",
       "      <td>31.1</td>\n",
       "      <td>12.3778</td>\n",
       "      <td>4.6961</td>\n",
       "    </tr>\n",
       "    <tr>\n",
       "      <th>3</th>\n",
       "      <td>Bream</td>\n",
       "      <td>363.0</td>\n",
       "      <td>26.3</td>\n",
       "      <td>29.0</td>\n",
       "      <td>33.5</td>\n",
       "      <td>12.7300</td>\n",
       "      <td>4.4555</td>\n",
       "    </tr>\n",
       "    <tr>\n",
       "      <th>4</th>\n",
       "      <td>Bream</td>\n",
       "      <td>430.0</td>\n",
       "      <td>26.5</td>\n",
       "      <td>29.0</td>\n",
       "      <td>34.0</td>\n",
       "      <td>12.4440</td>\n",
       "      <td>5.1340</td>\n",
       "    </tr>\n",
       "  </tbody>\n",
       "</table>\n",
       "</div>"
      ],
      "text/plain": [
       "  Species  Weight  Length1  Length2  Length3   Height   Width\n",
       "0   Bream   242.0     23.2     25.4     30.0  11.5200  4.0200\n",
       "1   Bream   290.0     24.0     26.3     31.2  12.4800  4.3056\n",
       "2   Bream   340.0     23.9     26.5     31.1  12.3778  4.6961\n",
       "3   Bream   363.0     26.3     29.0     33.5  12.7300  4.4555\n",
       "4   Bream   430.0     26.5     29.0     34.0  12.4440  5.1340"
      ]
     },
     "execution_count": 4,
     "metadata": {},
     "output_type": "execute_result"
    }
   ],
   "source": [
    "fish_data=pd.read_csv('D:\\\\PGP IN DATA SCIENCE with Careerera\\\\Data Sets\\\\fish_market_data.csv')\n",
    "fish_data.head()"
   ]
  },
  {
   "cell_type": "markdown",
   "id": "4aa731d7",
   "metadata": {},
   "source": [
    "### Shape & Size of the Data"
   ]
  },
  {
   "cell_type": "code",
   "execution_count": 5,
   "id": "bf0a3526",
   "metadata": {},
   "outputs": [
    {
     "data": {
      "text/plain": [
       "(159, 7)"
      ]
     },
     "execution_count": 5,
     "metadata": {},
     "output_type": "execute_result"
    }
   ],
   "source": [
    "fish_data.shape"
   ]
  },
  {
   "cell_type": "code",
   "execution_count": 6,
   "id": "0054851a",
   "metadata": {},
   "outputs": [
    {
     "data": {
      "text/plain": [
       "1113"
      ]
     },
     "execution_count": 6,
     "metadata": {},
     "output_type": "execute_result"
    }
   ],
   "source": [
    "fish_data.size"
   ]
  },
  {
   "cell_type": "markdown",
   "id": "95dc1812",
   "metadata": {},
   "source": [
    "### Data type of each column"
   ]
  },
  {
   "cell_type": "code",
   "execution_count": 7,
   "id": "2416aa8f",
   "metadata": {},
   "outputs": [
    {
     "name": "stdout",
     "output_type": "stream",
     "text": [
      "<class 'pandas.core.frame.DataFrame'>\n",
      "RangeIndex: 159 entries, 0 to 158\n",
      "Data columns (total 7 columns):\n",
      " #   Column   Non-Null Count  Dtype  \n",
      "---  ------   --------------  -----  \n",
      " 0   Species  159 non-null    object \n",
      " 1   Weight   159 non-null    float64\n",
      " 2   Length1  159 non-null    float64\n",
      " 3   Length2  159 non-null    float64\n",
      " 4   Length3  159 non-null    float64\n",
      " 5   Height   159 non-null    float64\n",
      " 6   Width    159 non-null    float64\n",
      "dtypes: float64(6), object(1)\n",
      "memory usage: 8.8+ KB\n"
     ]
    }
   ],
   "source": [
    "fish_data.info()"
   ]
  },
  {
   "cell_type": "markdown",
   "id": "64847a93",
   "metadata": {},
   "source": [
    "### Null value present in each column"
   ]
  },
  {
   "cell_type": "code",
   "execution_count": 8,
   "id": "8ea7b77f",
   "metadata": {},
   "outputs": [
    {
     "data": {
      "text/plain": [
       "Species    0\n",
       "Weight     0\n",
       "Length1    0\n",
       "Length2    0\n",
       "Length3    0\n",
       "Height     0\n",
       "Width      0\n",
       "dtype: int64"
      ]
     },
     "execution_count": 8,
     "metadata": {},
     "output_type": "execute_result"
    }
   ],
   "source": [
    "fish_data.isnull().sum()"
   ]
  },
  {
   "cell_type": "markdown",
   "id": "afc2c753",
   "metadata": {},
   "source": [
    "**Data Set not contains any null values**"
   ]
  },
  {
   "cell_type": "markdown",
   "id": "efbc1819",
   "metadata": {},
   "source": [
    "### Different species of fish in our data set"
   ]
  },
  {
   "cell_type": "code",
   "execution_count": 11,
   "id": "74c6a439",
   "metadata": {},
   "outputs": [
    {
     "data": {
      "text/plain": [
       "array(['Bream', 'Roach', 'Whitefish', 'Parkki', 'Perch', 'Pike', 'Smelt'],\n",
       "      dtype=object)"
      ]
     },
     "execution_count": 11,
     "metadata": {},
     "output_type": "execute_result"
    }
   ],
   "source": [
    "fish_data.Species.unique()"
   ]
  },
  {
   "cell_type": "markdown",
   "id": "108c424a",
   "metadata": {},
   "source": [
    "**We have 7 different species of fish**"
   ]
  },
  {
   "cell_type": "markdown",
   "id": "7e5942cd",
   "metadata": {},
   "source": [
    "### Create data frame of numeric column"
   ]
  },
  {
   "cell_type": "code",
   "execution_count": 17,
   "id": "bd583028",
   "metadata": {},
   "outputs": [
    {
     "data": {
      "text/html": [
       "<div>\n",
       "<style scoped>\n",
       "    .dataframe tbody tr th:only-of-type {\n",
       "        vertical-align: middle;\n",
       "    }\n",
       "\n",
       "    .dataframe tbody tr th {\n",
       "        vertical-align: top;\n",
       "    }\n",
       "\n",
       "    .dataframe thead th {\n",
       "        text-align: right;\n",
       "    }\n",
       "</style>\n",
       "<table border=\"1\" class=\"dataframe\">\n",
       "  <thead>\n",
       "    <tr style=\"text-align: right;\">\n",
       "      <th></th>\n",
       "      <th>Weight</th>\n",
       "      <th>Length1</th>\n",
       "      <th>Length2</th>\n",
       "      <th>Length3</th>\n",
       "      <th>Height</th>\n",
       "      <th>Width</th>\n",
       "    </tr>\n",
       "  </thead>\n",
       "  <tbody>\n",
       "    <tr>\n",
       "      <th>0</th>\n",
       "      <td>242.0</td>\n",
       "      <td>23.2</td>\n",
       "      <td>25.4</td>\n",
       "      <td>30.0</td>\n",
       "      <td>11.5200</td>\n",
       "      <td>4.0200</td>\n",
       "    </tr>\n",
       "    <tr>\n",
       "      <th>1</th>\n",
       "      <td>290.0</td>\n",
       "      <td>24.0</td>\n",
       "      <td>26.3</td>\n",
       "      <td>31.2</td>\n",
       "      <td>12.4800</td>\n",
       "      <td>4.3056</td>\n",
       "    </tr>\n",
       "    <tr>\n",
       "      <th>2</th>\n",
       "      <td>340.0</td>\n",
       "      <td>23.9</td>\n",
       "      <td>26.5</td>\n",
       "      <td>31.1</td>\n",
       "      <td>12.3778</td>\n",
       "      <td>4.6961</td>\n",
       "    </tr>\n",
       "    <tr>\n",
       "      <th>3</th>\n",
       "      <td>363.0</td>\n",
       "      <td>26.3</td>\n",
       "      <td>29.0</td>\n",
       "      <td>33.5</td>\n",
       "      <td>12.7300</td>\n",
       "      <td>4.4555</td>\n",
       "    </tr>\n",
       "    <tr>\n",
       "      <th>4</th>\n",
       "      <td>430.0</td>\n",
       "      <td>26.5</td>\n",
       "      <td>29.0</td>\n",
       "      <td>34.0</td>\n",
       "      <td>12.4440</td>\n",
       "      <td>5.1340</td>\n",
       "    </tr>\n",
       "  </tbody>\n",
       "</table>\n",
       "</div>"
      ],
      "text/plain": [
       "   Weight  Length1  Length2  Length3   Height   Width\n",
       "0   242.0     23.2     25.4     30.0  11.5200  4.0200\n",
       "1   290.0     24.0     26.3     31.2  12.4800  4.3056\n",
       "2   340.0     23.9     26.5     31.1  12.3778  4.6961\n",
       "3   363.0     26.3     29.0     33.5  12.7300  4.4555\n",
       "4   430.0     26.5     29.0     34.0  12.4440  5.1340"
      ]
     },
     "execution_count": 17,
     "metadata": {},
     "output_type": "execute_result"
    }
   ],
   "source": [
    "fish_numeric=pd.DataFrame(fish_data[['Weight','Length1','Length2','Length3','Height','Width']])\n",
    "fish_numeric.head()"
   ]
  },
  {
   "cell_type": "markdown",
   "id": "2480cf92",
   "metadata": {},
   "source": [
    "### Statistical Measures"
   ]
  },
  {
   "cell_type": "code",
   "execution_count": 19,
   "id": "bc7e4109",
   "metadata": {},
   "outputs": [
    {
     "data": {
      "text/html": [
       "<div>\n",
       "<style scoped>\n",
       "    .dataframe tbody tr th:only-of-type {\n",
       "        vertical-align: middle;\n",
       "    }\n",
       "\n",
       "    .dataframe tbody tr th {\n",
       "        vertical-align: top;\n",
       "    }\n",
       "\n",
       "    .dataframe thead th {\n",
       "        text-align: right;\n",
       "    }\n",
       "</style>\n",
       "<table border=\"1\" class=\"dataframe\">\n",
       "  <thead>\n",
       "    <tr style=\"text-align: right;\">\n",
       "      <th></th>\n",
       "      <th>Weight</th>\n",
       "      <th>Length1</th>\n",
       "      <th>Length2</th>\n",
       "      <th>Length3</th>\n",
       "      <th>Height</th>\n",
       "      <th>Width</th>\n",
       "    </tr>\n",
       "  </thead>\n",
       "  <tbody>\n",
       "    <tr>\n",
       "      <th>count</th>\n",
       "      <td>159.000000</td>\n",
       "      <td>159.000000</td>\n",
       "      <td>159.000000</td>\n",
       "      <td>159.000000</td>\n",
       "      <td>159.000000</td>\n",
       "      <td>159.000000</td>\n",
       "    </tr>\n",
       "    <tr>\n",
       "      <th>mean</th>\n",
       "      <td>398.326415</td>\n",
       "      <td>26.247170</td>\n",
       "      <td>28.415723</td>\n",
       "      <td>31.227044</td>\n",
       "      <td>8.970994</td>\n",
       "      <td>4.417486</td>\n",
       "    </tr>\n",
       "    <tr>\n",
       "      <th>std</th>\n",
       "      <td>357.978317</td>\n",
       "      <td>9.996441</td>\n",
       "      <td>10.716328</td>\n",
       "      <td>11.610246</td>\n",
       "      <td>4.286208</td>\n",
       "      <td>1.685804</td>\n",
       "    </tr>\n",
       "    <tr>\n",
       "      <th>min</th>\n",
       "      <td>0.000000</td>\n",
       "      <td>7.500000</td>\n",
       "      <td>8.400000</td>\n",
       "      <td>8.800000</td>\n",
       "      <td>1.728400</td>\n",
       "      <td>1.047600</td>\n",
       "    </tr>\n",
       "    <tr>\n",
       "      <th>25%</th>\n",
       "      <td>120.000000</td>\n",
       "      <td>19.050000</td>\n",
       "      <td>21.000000</td>\n",
       "      <td>23.150000</td>\n",
       "      <td>5.944800</td>\n",
       "      <td>3.385650</td>\n",
       "    </tr>\n",
       "    <tr>\n",
       "      <th>50%</th>\n",
       "      <td>273.000000</td>\n",
       "      <td>25.200000</td>\n",
       "      <td>27.300000</td>\n",
       "      <td>29.400000</td>\n",
       "      <td>7.786000</td>\n",
       "      <td>4.248500</td>\n",
       "    </tr>\n",
       "    <tr>\n",
       "      <th>75%</th>\n",
       "      <td>650.000000</td>\n",
       "      <td>32.700000</td>\n",
       "      <td>35.500000</td>\n",
       "      <td>39.650000</td>\n",
       "      <td>12.365900</td>\n",
       "      <td>5.584500</td>\n",
       "    </tr>\n",
       "    <tr>\n",
       "      <th>max</th>\n",
       "      <td>1650.000000</td>\n",
       "      <td>59.000000</td>\n",
       "      <td>63.400000</td>\n",
       "      <td>68.000000</td>\n",
       "      <td>18.957000</td>\n",
       "      <td>8.142000</td>\n",
       "    </tr>\n",
       "  </tbody>\n",
       "</table>\n",
       "</div>"
      ],
      "text/plain": [
       "            Weight     Length1     Length2     Length3      Height       Width\n",
       "count   159.000000  159.000000  159.000000  159.000000  159.000000  159.000000\n",
       "mean    398.326415   26.247170   28.415723   31.227044    8.970994    4.417486\n",
       "std     357.978317    9.996441   10.716328   11.610246    4.286208    1.685804\n",
       "min       0.000000    7.500000    8.400000    8.800000    1.728400    1.047600\n",
       "25%     120.000000   19.050000   21.000000   23.150000    5.944800    3.385650\n",
       "50%     273.000000   25.200000   27.300000   29.400000    7.786000    4.248500\n",
       "75%     650.000000   32.700000   35.500000   39.650000   12.365900    5.584500\n",
       "max    1650.000000   59.000000   63.400000   68.000000   18.957000    8.142000"
      ]
     },
     "execution_count": 19,
     "metadata": {},
     "output_type": "execute_result"
    }
   ],
   "source": [
    "fish_numeric.describe()"
   ]
  },
  {
   "cell_type": "markdown",
   "id": "a91c94b3",
   "metadata": {},
   "source": [
    "### Check Relation between columns"
   ]
  },
  {
   "cell_type": "code",
   "execution_count": 20,
   "id": "3f8df536",
   "metadata": {},
   "outputs": [
    {
     "data": {
      "image/png": "[encoded data removed]",
      "text/plain": [
       "<Figure size 432x288 with 2 Axes>"
      ]
     },
     "metadata": {
      "needs_background": "light"
     },
     "output_type": "display_data"
    }
   ],
   "source": [
    "sns.heatmap(fish_numeric.corr(),annot=True, cmap='Set3');"
   ]
  },
  {
   "cell_type": "markdown",
   "id": "66fc9ec9",
   "metadata": {},
   "source": [
    "**All the columns are highlt corelated**"
   ]
  },
  {
   "cell_type": "markdown",
   "id": "8a5db221",
   "metadata": {},
   "source": [
    "### Species count of each species"
   ]
  },
  {
   "cell_type": "code",
   "execution_count": 24,
   "id": "4fa13a4a",
   "metadata": {},
   "outputs": [
    {
     "data": {
      "image/png": "[encoded data removed]",
      "text/plain": [
       "<Figure size 432x288 with 1 Axes>"
      ]
     },
     "metadata": {
      "needs_background": "light"
     },
     "output_type": "display_data"
    }
   ],
   "source": [
    "ax = sns.countplot(x='Species', data=fish_data,\n",
    "                   order=fish_data['Species'].value_counts(ascending=False).index);\n",
    "\n",
    "abs_values = fish_data['Species'].value_counts(ascending=False).values\n",
    "\n",
    "ax.bar_label(container=ax.containers[0], labels=abs_values);"
   ]
  },
  {
   "cell_type": "markdown",
   "id": "404d5e5c",
   "metadata": {},
   "source": [
    "### Seprate Data into dependent & independent variable"
   ]
  },
  {
   "cell_type": "code",
   "execution_count": 26,
   "id": "71811e55",
   "metadata": {},
   "outputs": [],
   "source": [
    "X, y=fish_numeric[['Length1','Length2','Length3','Height','Width']].values, fish_numeric['Weight'].values"
   ]
  },
  {
   "cell_type": "code",
   "execution_count": 28,
   "id": "5f6a0793",
   "metadata": {},
   "outputs": [
    {
     "name": "stdout",
     "output_type": "stream",
     "text": [
      "[[23.2    25.4    30.     11.52    4.02  ]\n",
      " [24.     26.3    31.2    12.48    4.3056]\n",
      " [23.9    26.5    31.1    12.3778  4.6961]\n",
      " [26.3    29.     33.5    12.73    4.4555]\n",
      " [26.5    29.     34.     12.444   5.134 ]\n",
      " [26.8    29.7    34.7    13.6024  4.9274]\n",
      " [26.8    29.7    34.5    14.1795  5.2785]\n",
      " [27.6    30.     35.     12.67    4.69  ]\n",
      " [27.6    30.     35.1    14.0049  4.8438]\n",
      " [28.5    30.7    36.2    14.2266  4.9594]\n",
      " [28.4    31.     36.2    14.2628  5.1042]\n",
      " [28.7    31.     36.2    14.3714  4.8146]\n",
      " [29.1    31.5    36.4    13.7592  4.368 ]\n",
      " [29.5    32.     37.3    13.9129  5.0728]\n",
      " [29.4    32.     37.2    14.9544  5.1708]\n",
      " [29.4    32.     37.2    15.438   5.58  ]\n",
      " [30.4    33.     38.3    14.8604  5.2854]\n",
      " [30.4    33.     38.5    14.938   5.1975]\n",
      " [30.9    33.5    38.6    15.633   5.1338]\n",
      " [31.     33.5    38.7    14.4738  5.7276]\n",
      " [31.3    34.     39.5    15.1285  5.5695]\n",
      " [31.4    34.     39.2    15.9936  5.3704]\n",
      " [31.5    34.5    39.7    15.5227  5.2801]\n",
      " [31.8    35.     40.6    15.4686  6.1306]\n",
      " [31.9    35.     40.5    16.2405  5.589 ]\n",
      " [31.8    35.     40.9    16.36    6.0532]\n",
      " [32.     35.     40.6    16.3618  6.09  ]\n",
      " [32.7    36.     41.5    16.517   5.8515]\n",
      " [32.8    36.     41.6    16.8896  6.1984]\n",
      " [33.5    37.     42.6    18.957   6.603 ]\n",
      " [35.     38.5    44.1    18.0369  6.3063]\n",
      " [35.     38.5    44.     18.084   6.292 ]\n",
      " [36.2    39.5    45.3    18.7542  6.7497]\n",
      " [37.4    41.     45.9    18.6354  6.7473]\n",
      " [38.     41.     46.5    17.6235  6.3705]\n",
      " [12.9    14.1    16.2     4.1472  2.268 ]\n",
      " [16.5    18.2    20.3     5.2983  2.8217]\n",
      " [17.5    18.8    21.2     5.5756  2.9044]\n",
      " [18.2    19.8    22.2     5.6166  3.1746]\n",
      " [18.6    20.     22.2     6.216   3.5742]\n",
      " [19.     20.5    22.8     6.4752  3.3516]\n",
      " [19.1    20.8    23.1     6.1677  3.3957]\n",
      " [19.4    21.     23.7     6.1146  3.2943]\n",
      " [20.4    22.     24.7     5.8045  3.7544]\n",
      " [20.5    22.     24.3     6.6339  3.5478]\n",
      " [20.5    22.5    25.3     7.0334  3.8203]\n",
      " [21.     22.5    25.      6.55    3.325 ]\n",
      " [21.1    22.5    25.      6.4     3.8   ]\n",
      " [22.     24.     27.2     7.5344  3.8352]\n",
      " [22.     23.4    26.7     6.9153  3.6312]\n",
      " [22.1    23.5    26.8     7.3968  4.1272]\n",
      " [23.6    25.2    27.9     7.0866  3.906 ]\n",
      " [24.     26.     29.2     8.8768  4.4968]\n",
      " [25.     27.     30.6     8.568   4.7736]\n",
      " [29.5    31.7    35.      9.485   5.355 ]\n",
      " [23.6    26.     28.7     8.3804  4.2476]\n",
      " [24.1    26.5    29.3     8.1454  4.2485]\n",
      " [25.6    28.     30.8     8.778   4.6816]\n",
      " [28.5    31.     34.     10.744   6.562 ]\n",
      " [33.7    36.4    39.6    11.7612  6.5736]\n",
      " [37.3    40.     43.5    12.354   6.525 ]\n",
      " [13.5    14.7    16.5     6.8475  2.3265]\n",
      " [14.3    15.5    17.4     6.5772  2.3142]\n",
      " [16.3    17.7    19.8     7.4052  2.673 ]\n",
      " [17.5    19.     21.3     8.3922  2.9181]\n",
      " [18.4    20.     22.4     8.8928  3.2928]\n",
      " [19.     20.7    23.2     8.5376  3.2944]\n",
      " [19.     20.7    23.2     9.396   3.4104]\n",
      " [19.8    21.5    24.1     9.7364  3.1571]\n",
      " [21.2    23.     25.8    10.3458  3.6636]\n",
      " [23.     25.     28.     11.088   4.144 ]\n",
      " [24.     26.     29.     11.368   4.234 ]\n",
      " [ 7.5     8.4     8.8     2.112   1.408 ]\n",
      " [12.5    13.7    14.7     3.528   1.9992]\n",
      " [13.8    15.     16.      3.824   2.432 ]\n",
      " [15.     16.2    17.2     4.5924  2.6316]\n",
      " [15.7    17.4    18.5     4.588   2.9415]\n",
      " [16.2    18.     19.2     5.2224  3.3216]\n",
      " [16.8    18.7    19.4     5.1992  3.1234]\n",
      " [17.2    19.     20.2     5.6358  3.0502]\n",
      " [17.8    19.6    20.8     5.1376  3.0368]\n",
      " [18.2    20.     21.      5.082   2.772 ]\n",
      " [19.     21.     22.5     5.6925  3.555 ]\n",
      " [19.     21.     22.5     5.9175  3.3075]\n",
      " [19.     21.     22.5     5.6925  3.6675]\n",
      " [19.3    21.3    22.8     6.384   3.534 ]\n",
      " [20.     22.     23.5     6.11    3.4075]\n",
      " [20.     22.     23.5     5.64    3.525 ]\n",
      " [20.     22.     23.5     6.11    3.525 ]\n",
      " [20.     22.     23.5     5.875   3.525 ]\n",
      " [20.     22.     23.5     5.5225  3.995 ]\n",
      " [20.5    22.5    24.      5.856   3.624 ]\n",
      " [20.5    22.5    24.      6.792   3.624 ]\n",
      " [20.7    22.7    24.2     5.9532  3.63  ]\n",
      " [21.     23.     24.5     5.2185  3.626 ]\n",
      " [21.5    23.5    25.      6.275   3.725 ]\n",
      " [22.     24.     25.5     7.293   3.723 ]\n",
      " [22.     24.     25.5     6.375   3.825 ]\n",
      " [22.6    24.6    26.2     6.7334  4.1658]\n",
      " [23.     25.     26.5     6.4395  3.6835]\n",
      " [23.5    25.6    27.      6.561   4.239 ]\n",
      " [25.     26.5    28.      7.168   4.144 ]\n",
      " [25.2    27.3    28.7     8.323   5.1373]\n",
      " [25.4    27.5    28.9     7.1672  4.335 ]\n",
      " [25.4    27.5    28.9     7.0516  4.335 ]\n",
      " [25.4    27.5    28.9     7.2828  4.5662]\n",
      " [25.9    28.     29.4     7.8204  4.2042]\n",
      " [26.9    28.7    30.1     7.5852  4.6354]\n",
      " [27.8    30.     31.6     7.6156  4.7716]\n",
      " [30.5    32.8    34.     10.03    6.018 ]\n",
      " [32.     34.5    36.5    10.2565  6.3875]\n",
      " [32.5    35.     37.3    11.4884  7.7957]\n",
      " [34.     36.5    39.     10.881   6.864 ]\n",
      " [34.     36.     38.3    10.6091  6.7408]\n",
      " [34.5    37.     39.4    10.835   6.2646]\n",
      " [34.6    37.     39.3    10.5717  6.3666]\n",
      " [36.5    39.     41.4    11.1366  7.4934]\n",
      " [36.5    39.     41.4    11.1366  6.003 ]\n",
      " [36.6    39.     41.3    12.4313  7.3514]\n",
      " [36.9    40.     42.3    11.9286  7.1064]\n",
      " [37.     40.     42.5    11.73    7.225 ]\n",
      " [37.     40.     42.4    12.3808  7.4624]\n",
      " [37.1    40.     42.5    11.135   6.63  ]\n",
      " [39.     42.     44.6    12.8002  6.8684]\n",
      " [39.8    43.     45.2    11.9328  7.2772]\n",
      " [40.1    43.     45.5    12.5125  7.4165]\n",
      " [40.2    43.5    46.     12.604   8.142 ]\n",
      " [41.1    44.     46.6    12.4888  7.5958]\n",
      " [30.     32.3    34.8     5.568   3.3756]\n",
      " [31.7    34.     37.8     5.7078  4.158 ]\n",
      " [32.7    35.     38.8     5.9364  4.3844]\n",
      " [34.8    37.3    39.8     6.2884  4.0198]\n",
      " [35.5    38.     40.5     7.29    4.5765]\n",
      " [36.     38.5    41.      6.396   3.977 ]\n",
      " [40.     42.5    45.5     7.28    4.3225]\n",
      " [40.     42.5    45.5     6.825   4.459 ]\n",
      " [40.1    43.     45.8     7.786   5.1296]\n",
      " [42.     45.     48.      6.96    4.896 ]\n",
      " [43.2    46.     48.7     7.792   4.87  ]\n",
      " [44.8    48.     51.2     7.68    5.376 ]\n",
      " [48.3    51.7    55.1     8.9262  6.1712]\n",
      " [52.     56.     59.7    10.6863  6.9849]\n",
      " [56.     60.     64.      9.6     6.144 ]\n",
      " [56.     60.     64.      9.6     6.144 ]\n",
      " [59.     63.4    68.     10.812   7.48  ]\n",
      " [ 9.3     9.8    10.8     1.7388  1.0476]\n",
      " [10.     10.5    11.6     1.972   1.16  ]\n",
      " [10.1    10.6    11.6     1.7284  1.1484]\n",
      " [10.4    11.     12.      2.196   1.38  ]\n",
      " [10.7    11.2    12.4     2.0832  1.2772]\n",
      " [10.8    11.3    12.6     1.9782  1.2852]\n",
      " [11.3    11.8    13.1     2.2139  1.2838]\n",
      " [11.3    11.8    13.1     2.2139  1.1659]\n",
      " [11.4    12.     13.2     2.2044  1.1484]\n",
      " [11.5    12.2    13.4     2.0904  1.3936]\n",
      " [11.7    12.4    13.5     2.43    1.269 ]\n",
      " [12.1    13.     13.8     2.277   1.2558]\n",
      " [13.2    14.3    15.2     2.8728  2.0672]\n",
      " [13.8    15.     16.2     2.9322  1.8792]] [ 242.   290.   340.   363.   430.   450.   500.   390.   450.   500.\n",
      "  475.   500.   500.   340.   600.   600.   700.   700.   610.   650.\n",
      "  575.   685.   620.   680.   700.   725.   720.   714.   850.  1000.\n",
      "  920.   955.   925.   975.   950.    40.    69.    78.    87.   120.\n",
      "    0.   110.   120.   150.   145.   160.   140.   160.   169.   161.\n",
      "  200.   180.   290.   272.   390.   270.   270.   306.   540.   800.\n",
      " 1000.    55.    60.    90.   120.   150.   140.   170.   145.   200.\n",
      "  273.   300.     5.9   32.    40.    51.5   70.   100.    78.    80.\n",
      "   85.    85.   110.   115.   125.   130.   120.   120.   130.   135.\n",
      "  110.   130.   150.   145.   150.   170.   225.   145.   188.   180.\n",
      "  197.   218.   300.   260.   265.   250.   250.   300.   320.   514.\n",
      "  556.   840.   685.   700.   700.   690.   900.   650.   820.   850.\n",
      "  900.  1015.   820.  1100.  1000.  1100.  1000.  1000.   200.   300.\n",
      "  300.   300.   430.   345.   456.   510.   540.   500.   567.   770.\n",
      "  950.  1250.  1600.  1550.  1650.     6.7    7.5    7.     9.7    9.8\n",
      "    8.7   10.     9.9    9.8   12.2   13.4   12.2   19.7   19.9]\n"
     ]
    }
   ],
   "source": [
    "print(X,y)"
   ]
  },
  {
   "cell_type": "markdown",
   "id": "563ce366",
   "metadata": {},
   "source": [
    "### Split the seperated data into traing and testing set"
   ]
  },
  {
   "cell_type": "code",
   "execution_count": 29,
   "id": "412cf7a0",
   "metadata": {},
   "outputs": [],
   "source": [
    "from sklearn.linear_model import LinearRegression\n",
    "from sklearn.metrics import mean_squared_error, r2_score\n",
    "from sklearn.model_selection import train_test_split"
   ]
  },
  {
   "cell_type": "code",
   "execution_count": 31,
   "id": "c3b03c59",
   "metadata": {},
   "outputs": [
    {
     "name": "stdout",
     "output_type": "stream",
     "text": [
      "Training Set: 111 rows\n",
      "Test Set: 48 rows\n"
     ]
    }
   ],
   "source": [
    "X_train, X_test, y_train, y_test=train_test_split(X, y, test_size=0.30, random_state=0)\n",
    "print ('Training Set: %d rows\\nTest Set: %d rows' % (X_train.shape[0], X_test.shape[0]))"
   ]
  },
  {
   "cell_type": "markdown",
   "id": "d9083fe4",
   "metadata": {},
   "source": [
    "### Create model"
   ]
  },
  {
   "cell_type": "code",
   "execution_count": 32,
   "id": "a7ff11e4",
   "metadata": {},
   "outputs": [],
   "source": [
    "from sklearn.linear_model import LinearRegression"
   ]
  },
  {
   "cell_type": "code",
   "execution_count": 34,
   "id": "14ab93a2",
   "metadata": {},
   "outputs": [
    {
     "data": {
      "text/plain": [
       "LinearRegression()"
      ]
     },
     "execution_count": 34,
     "metadata": {},
     "output_type": "execute_result"
    }
   ],
   "source": [
    "model=LinearRegression()\n",
    "model"
   ]
  },
  {
   "cell_type": "markdown",
   "id": "a3cceac2",
   "metadata": {},
   "source": [
    "### Fit linear regression model on training set"
   ]
  },
  {
   "cell_type": "code",
   "execution_count": 35,
   "id": "eea14843",
   "metadata": {},
   "outputs": [
    {
     "name": "stdout",
     "output_type": "stream",
     "text": [
      "LinearRegression()\n"
     ]
    }
   ],
   "source": [
    "model = LinearRegression().fit(X_train, y_train)\n",
    "print(model)"
   ]
  },
  {
   "cell_type": "code",
   "execution_count": 36,
   "id": "6e9613ee",
   "metadata": {},
   "outputs": [
    {
     "data": {
      "text/plain": [
       "array([ 462.90497642,  176.7979276 ,  226.624847  ,  185.66204549,\n",
       "        663.31498685,  800.35992655,  698.15015636,  450.52257625,\n",
       "        882.1062432 ,  138.18662597,  306.14863624,  596.63739669,\n",
       "        785.29687654,  918.29800914,   69.98438462,  105.00233644,\n",
       "        225.25222195,  941.17970226,  172.40409686,  679.40011753,\n",
       "         66.30502518,  508.64832054,  172.09176289, 1054.17331406,\n",
       "        134.45142278,  514.01132467,  643.02948483,  287.85528651,\n",
       "        797.71587578, -125.85832562,  635.52727794,  179.51613396,\n",
       "        941.17970226,  377.59707476,  601.23090444,  273.90610543,\n",
       "        460.14928291,  614.80285734,  773.35332062,  169.39056693,\n",
       "        654.11428742,    1.33844506,  246.12418127,  664.2837773 ,\n",
       "        -50.0931483 ,  300.41566348,  302.53595321,  404.03922773])"
      ]
     },
     "execution_count": 36,
     "metadata": {},
     "output_type": "execute_result"
    }
   ],
   "source": [
    "prediction=model.predict(X_test)\n",
    "prediction"
   ]
  },
  {
   "cell_type": "code",
   "execution_count": 37,
   "id": "eccaa6aa",
   "metadata": {},
   "outputs": [
    {
     "data": {
      "text/plain": [
       "array([ 390. ,    0. ,  170. ,  160. ,  556. ,  900. ,  800. ,  300. ,\n",
       "        975. ,  115. ,  200. ,  456. , 1000. , 1000. ,   60. ,   78. ,\n",
       "        145. , 1600. ,  130. ,  720. ,   55. ,  390. ,  120. , 1650. ,\n",
       "         90. ,  450. ,  700. ,  270. ,  850. ,    9.7,  650. ,  110. ,\n",
       "       1550. ,  300. ,  700. ,  225. ,  300. ,  620. ,  700. ,  135. ,\n",
       "        514. ,   40. ,  145. ,  714. ,   19.7,  197. ,  180. ,  218. ])"
      ]
     },
     "execution_count": 37,
     "metadata": {},
     "output_type": "execute_result"
    }
   ],
   "source": [
    "y_test"
   ]
  },
  {
   "cell_type": "markdown",
   "id": "4b3cfe16",
   "metadata": {},
   "source": [
    "**There is slight difference in predected one and original one**b"
   ]
  },
  {
   "cell_type": "markdown",
   "id": "5577bca1",
   "metadata": {},
   "source": [
    "### Evaluate the model using test data"
   ]
  },
  {
   "cell_type": "code",
   "execution_count": 38,
   "id": "7a607e85",
   "metadata": {
    "scrolled": true
   },
   "outputs": [
    {
     "name": "stdout",
     "output_type": "stream",
     "text": [
      "MSE: 32509.60483618452\n",
      "RMSE: 180.3042008278912\n",
      "R2: 0.8136987517934335\n",
      "Training Accuracy 0.9014261773086572\n",
      "Testing Accuracy 0.8136987517934335\n"
     ]
    }
   ],
   "source": [
    "predictions = model.predict(X_test)\n",
    "mse = mean_squared_error(y_test, predictions)\n",
    "print(\"MSE:\", mse)\n",
    "rmse = np.sqrt(mse)\n",
    "print(\"RMSE:\", rmse)\n",
    "r2 = r2_score(y_test, predictions)\n",
    "print(\"R2:\", r2)\n",
    "print(\"Training Accuracy\", model.score(X_train, y_train))\n",
    "print(\"Testing Accuracy\", model.score(X_test, y_test))"
   ]
  },
  {
   "cell_type": "markdown",
   "id": "d5501484",
   "metadata": {},
   "source": [
    "**Taining Accuracy is about 90% where as Testing Accuracy is around 81%**"
   ]
  },
  {
   "cell_type": "code",
   "execution_count": null,
   "id": "46ddf846",
   "metadata": {},
   "outputs": [],
   "source": []
  },
  {
   "cell_type": "code",
   "execution_count": null,
   "id": "a965fff9",
   "metadata": {},
   "outputs": [],
   "source": []
  }
 ],
 "metadata": {
  "kernelspec": {
   "display_name": "Python 3 (ipykernel)",
   "language": "python",
   "name": "python3"
  },
  "language_info": {
   "codemirror_mode": {
    "name": "ipython",
    "version": 3
   },
   "file_extension": ".py",
   "mimetype": "text/x-python",
   "name": "python",
   "nbconvert_exporter": "python",
   "pygments_lexer": "ipython3",
   "version": "3.9.7"
  }
 },
 "nbformat": 4,
 "nbformat_minor": 5
}
