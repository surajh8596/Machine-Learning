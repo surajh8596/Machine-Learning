{
 "cells": [
  {
   "cell_type": "code",
   "execution_count": 1,
   "id": "53df0a98",
   "metadata": {},
   "outputs": [],
   "source": [
    "import pandas as pd\n",
    "import numpy as np\n",
    "import matplotlib.pyplot as plt\n",
    "import seaborn as sns"
   ]
  },
  {
   "cell_type": "markdown",
   "id": "0c918d0a",
   "metadata": {},
   "source": [
    "#### Load The Data"
   ]
  },
  {
   "cell_type": "code",
   "execution_count": 2,
   "id": "7325d2c1",
   "metadata": {},
   "outputs": [
    {
     "data": {
      "text/html": [
       "<div>\n",
       "<style scoped>\n",
       "    .dataframe tbody tr th:only-of-type {\n",
       "        vertical-align: middle;\n",
       "    }\n",
       "\n",
       "    .dataframe tbody tr th {\n",
       "        vertical-align: top;\n",
       "    }\n",
       "\n",
       "    .dataframe thead th {\n",
       "        text-align: right;\n",
       "    }\n",
       "</style>\n",
       "<table border=\"1\" class=\"dataframe\">\n",
       "  <thead>\n",
       "    <tr style=\"text-align: right;\">\n",
       "      <th></th>\n",
       "      <th>passenger_id</th>\n",
       "      <th>pclass</th>\n",
       "      <th>name</th>\n",
       "      <th>sex</th>\n",
       "      <th>age</th>\n",
       "      <th>sibsp</th>\n",
       "      <th>parch</th>\n",
       "      <th>ticket</th>\n",
       "      <th>fare</th>\n",
       "      <th>cabin</th>\n",
       "      <th>embarked</th>\n",
       "      <th>boat</th>\n",
       "      <th>body</th>\n",
       "      <th>home.dest</th>\n",
       "      <th>survived</th>\n",
       "    </tr>\n",
       "  </thead>\n",
       "  <tbody>\n",
       "    <tr>\n",
       "      <th>0</th>\n",
       "      <td>1216</td>\n",
       "      <td>3</td>\n",
       "      <td>Smyth, Miss. Julia</td>\n",
       "      <td>female</td>\n",
       "      <td>NaN</td>\n",
       "      <td>0</td>\n",
       "      <td>0</td>\n",
       "      <td>335432</td>\n",
       "      <td>7.7333</td>\n",
       "      <td>NaN</td>\n",
       "      <td>Q</td>\n",
       "      <td>13</td>\n",
       "      <td>NaN</td>\n",
       "      <td>NaN</td>\n",
       "      <td>1</td>\n",
       "    </tr>\n",
       "    <tr>\n",
       "      <th>1</th>\n",
       "      <td>699</td>\n",
       "      <td>3</td>\n",
       "      <td>Cacic, Mr. Luka</td>\n",
       "      <td>male</td>\n",
       "      <td>38.0</td>\n",
       "      <td>0</td>\n",
       "      <td>0</td>\n",
       "      <td>315089</td>\n",
       "      <td>8.6625</td>\n",
       "      <td>NaN</td>\n",
       "      <td>S</td>\n",
       "      <td>NaN</td>\n",
       "      <td>NaN</td>\n",
       "      <td>Croatia</td>\n",
       "      <td>0</td>\n",
       "    </tr>\n",
       "    <tr>\n",
       "      <th>2</th>\n",
       "      <td>1267</td>\n",
       "      <td>3</td>\n",
       "      <td>Van Impe, Mrs. Jean Baptiste (Rosalie Paula Go...</td>\n",
       "      <td>female</td>\n",
       "      <td>30.0</td>\n",
       "      <td>1</td>\n",
       "      <td>1</td>\n",
       "      <td>345773</td>\n",
       "      <td>24.1500</td>\n",
       "      <td>NaN</td>\n",
       "      <td>S</td>\n",
       "      <td>NaN</td>\n",
       "      <td>NaN</td>\n",
       "      <td>NaN</td>\n",
       "      <td>0</td>\n",
       "    </tr>\n",
       "    <tr>\n",
       "      <th>3</th>\n",
       "      <td>449</td>\n",
       "      <td>2</td>\n",
       "      <td>Hocking, Mrs. Elizabeth (Eliza Needs)</td>\n",
       "      <td>female</td>\n",
       "      <td>54.0</td>\n",
       "      <td>1</td>\n",
       "      <td>3</td>\n",
       "      <td>29105</td>\n",
       "      <td>23.0000</td>\n",
       "      <td>NaN</td>\n",
       "      <td>S</td>\n",
       "      <td>4</td>\n",
       "      <td>NaN</td>\n",
       "      <td>Cornwall / Akron, OH</td>\n",
       "      <td>1</td>\n",
       "    </tr>\n",
       "    <tr>\n",
       "      <th>4</th>\n",
       "      <td>576</td>\n",
       "      <td>2</td>\n",
       "      <td>Veal, Mr. James</td>\n",
       "      <td>male</td>\n",
       "      <td>40.0</td>\n",
       "      <td>0</td>\n",
       "      <td>0</td>\n",
       "      <td>28221</td>\n",
       "      <td>13.0000</td>\n",
       "      <td>NaN</td>\n",
       "      <td>S</td>\n",
       "      <td>NaN</td>\n",
       "      <td>NaN</td>\n",
       "      <td>Barre, Co Washington, VT</td>\n",
       "      <td>0</td>\n",
       "    </tr>\n",
       "  </tbody>\n",
       "</table>\n",
       "</div>"
      ],
      "text/plain": [
       "   passenger_id  pclass                                               name  \\\n",
       "0          1216       3                                 Smyth, Miss. Julia   \n",
       "1           699       3                                    Cacic, Mr. Luka   \n",
       "2          1267       3  Van Impe, Mrs. Jean Baptiste (Rosalie Paula Go...   \n",
       "3           449       2              Hocking, Mrs. Elizabeth (Eliza Needs)   \n",
       "4           576       2                                    Veal, Mr. James   \n",
       "\n",
       "      sex   age  sibsp  parch  ticket     fare cabin embarked boat  body  \\\n",
       "0  female   NaN      0      0  335432   7.7333   NaN        Q   13   NaN   \n",
       "1    male  38.0      0      0  315089   8.6625   NaN        S  NaN   NaN   \n",
       "2  female  30.0      1      1  345773  24.1500   NaN        S  NaN   NaN   \n",
       "3  female  54.0      1      3   29105  23.0000   NaN        S    4   NaN   \n",
       "4    male  40.0      0      0   28221  13.0000   NaN        S  NaN   NaN   \n",
       "\n",
       "                  home.dest  survived  \n",
       "0                       NaN         1  \n",
       "1                   Croatia         0  \n",
       "2                       NaN         0  \n",
       "3      Cornwall / Akron, OH         1  \n",
       "4  Barre, Co Washington, VT         0  "
      ]
     },
     "execution_count": 2,
     "metadata": {},
     "output_type": "execute_result"
    }
   ],
   "source": [
    "df=pd.read_csv('D:/PGP IN DATA SCIENCE with Careerera/Data Sets/Titanic(2).csv')\n",
    "df.head()"
   ]
  },
  {
   "cell_type": "markdown",
   "id": "40120a3b",
   "metadata": {},
   "source": [
    "#### Column Information"
   ]
  },
  {
   "cell_type": "markdown",
   "id": "b813fc63",
   "metadata": {},
   "source": [
    "* passenger_id: Passenger number\n",
    "* pclass: 1=First class, 2=Second class, 3=Third class\n",
    "* name: Name of passenger\n",
    "* sex: Gender\n",
    "* age: Age of passenger\n",
    "* sibsp: Number of siblings\n",
    "* parch: Parent Children\n",
    "* ticket: Ticket Number\n",
    "* fare: Ticket Fare\n",
    "* cabin: Cabin number\n",
    "* embarked: C=Cherbourg, Q=Queenstown, S=Southampton\n",
    "* survived: 0=Dead, 1=Alive"
   ]
  },
  {
   "cell_type": "code",
   "execution_count": 3,
   "id": "b29e10d1",
   "metadata": {},
   "outputs": [
    {
     "data": {
      "text/plain": [
       "(850, 15)"
      ]
     },
     "execution_count": 3,
     "metadata": {},
     "output_type": "execute_result"
    }
   ],
   "source": [
    "df.shape"
   ]
  },
  {
   "cell_type": "code",
   "execution_count": 4,
   "id": "5d90c533",
   "metadata": {},
   "outputs": [
    {
     "data": {
      "text/plain": [
       "Index(['passenger_id', 'pclass', 'name', 'sex', 'age', 'sibsp', 'parch',\n",
       "       'ticket', 'fare', 'cabin', 'embarked', 'boat', 'body', 'home.dest',\n",
       "       'survived'],\n",
       "      dtype='object')"
      ]
     },
     "execution_count": 4,
     "metadata": {},
     "output_type": "execute_result"
    }
   ],
   "source": [
    "df.columns"
   ]
  },
  {
   "cell_type": "code",
   "execution_count": 5,
   "id": "9862fc91",
   "metadata": {},
   "outputs": [
    {
     "data": {
      "text/plain": [
       "passenger_id      int64\n",
       "pclass            int64\n",
       "name             object\n",
       "sex              object\n",
       "age             float64\n",
       "sibsp             int64\n",
       "parch             int64\n",
       "ticket           object\n",
       "fare            float64\n",
       "cabin            object\n",
       "embarked         object\n",
       "boat             object\n",
       "body            float64\n",
       "home.dest        object\n",
       "survived          int64\n",
       "dtype: object"
      ]
     },
     "execution_count": 5,
     "metadata": {},
     "output_type": "execute_result"
    }
   ],
   "source": [
    "df.dtypes"
   ]
  },
  {
   "cell_type": "code",
   "execution_count": 6,
   "id": "918e82ce",
   "metadata": {},
   "outputs": [
    {
     "name": "stdout",
     "output_type": "stream",
     "text": [
      "<class 'pandas.core.frame.DataFrame'>\n",
      "RangeIndex: 850 entries, 0 to 849\n",
      "Data columns (total 15 columns):\n",
      " #   Column        Non-Null Count  Dtype  \n",
      "---  ------        --------------  -----  \n",
      " 0   passenger_id  850 non-null    int64  \n",
      " 1   pclass        850 non-null    int64  \n",
      " 2   name          850 non-null    object \n",
      " 3   sex           850 non-null    object \n",
      " 4   age           676 non-null    float64\n",
      " 5   sibsp         850 non-null    int64  \n",
      " 6   parch         850 non-null    int64  \n",
      " 7   ticket        850 non-null    object \n",
      " 8   fare          849 non-null    float64\n",
      " 9   cabin         191 non-null    object \n",
      " 10  embarked      849 non-null    object \n",
      " 11  boat          308 non-null    object \n",
      " 12  body          73 non-null     float64\n",
      " 13  home.dest     464 non-null    object \n",
      " 14  survived      850 non-null    int64  \n",
      "dtypes: float64(3), int64(5), object(7)\n",
      "memory usage: 99.7+ KB\n"
     ]
    }
   ],
   "source": [
    "df.info()"
   ]
  },
  {
   "cell_type": "markdown",
   "id": "437f6808",
   "metadata": {},
   "source": [
    "#### Null value count"
   ]
  },
  {
   "cell_type": "code",
   "execution_count": 7,
   "id": "5b20f96f",
   "metadata": {},
   "outputs": [
    {
     "data": {
      "text/plain": [
       "passenger_id      0\n",
       "pclass            0\n",
       "name              0\n",
       "sex               0\n",
       "age             174\n",
       "sibsp             0\n",
       "parch             0\n",
       "ticket            0\n",
       "fare              1\n",
       "cabin           659\n",
       "embarked          1\n",
       "boat            542\n",
       "body            777\n",
       "home.dest       386\n",
       "survived          0\n",
       "dtype: int64"
      ]
     },
     "execution_count": 7,
     "metadata": {},
     "output_type": "execute_result"
    }
   ],
   "source": [
    "df.isna().sum()"
   ]
  },
  {
   "cell_type": "markdown",
   "id": "cda29e85",
   "metadata": {},
   "source": [
    "Here passanger_id, name, ticket, cabin, boat,body & home.dest doesnt contains any information so its better to drop these columns"
   ]
  },
  {
   "cell_type": "code",
   "execution_count": 8,
   "id": "18b1606f",
   "metadata": {},
   "outputs": [
    {
     "data": {
      "text/plain": [
       "Index(['pclass', 'sex', 'age', 'sibsp', 'parch', 'fare', 'embarked',\n",
       "       'survived'],\n",
       "      dtype='object')"
      ]
     },
     "execution_count": 8,
     "metadata": {},
     "output_type": "execute_result"
    }
   ],
   "source": [
    "df.drop(['passenger_id','name', 'ticket','cabin','boat','body','home.dest' ],inplace=True, axis=1)\n",
    "df.columns"
   ]
  },
  {
   "cell_type": "code",
   "execution_count": 9,
   "id": "dbde159c",
   "metadata": {},
   "outputs": [
    {
     "data": {
      "text/plain": [
       "pclass        0\n",
       "sex           0\n",
       "age         174\n",
       "sibsp         0\n",
       "parch         0\n",
       "fare          1\n",
       "embarked      1\n",
       "survived      0\n",
       "dtype: int64"
      ]
     },
     "execution_count": 9,
     "metadata": {},
     "output_type": "execute_result"
    }
   ],
   "source": [
    "df.isna().sum()"
   ]
  },
  {
   "cell_type": "markdown",
   "id": "c544e821",
   "metadata": {},
   "source": [
    "##### Fill the nan rows in age column"
   ]
  },
  {
   "cell_type": "code",
   "execution_count": 10,
   "id": "3e731825",
   "metadata": {},
   "outputs": [
    {
     "name": "stderr",
     "output_type": "stream",
     "text": [
      "C:\\Users\\User\\anaconda3\\lib\\site-packages\\seaborn\\distributions.py:2619: FutureWarning: `distplot` is a deprecated function and will be removed in a future version. Please adapt your code to use either `displot` (a figure-level function with similar flexibility) or `histplot` (an axes-level function for histograms).\n",
      "  warnings.warn(msg, FutureWarning)\n"
     ]
    },
    {
     "data": {
      "image/png": "[encoded data removed]",
      "text/plain": [
       "<Figure size 432x288 with 1 Axes>"
      ]
     },
     "metadata": {
      "needs_background": "light"
     },
     "output_type": "display_data"
    }
   ],
   "source": [
    "# Distribution of age data\n",
    "sns.distplot(df.age,bins=50);"
   ]
  },
  {
   "cell_type": "code",
   "execution_count": 11,
   "id": "d886ddc8",
   "metadata": {},
   "outputs": [
    {
     "data": {
      "text/plain": [
       "0"
      ]
     },
     "execution_count": 11,
     "metadata": {},
     "output_type": "execute_result"
    }
   ],
   "source": [
    "#replace nan with mean of age column\n",
    "df.age.fillna(df.age.mean(), inplace=True)\n",
    "df.age.isna().sum()"
   ]
  },
  {
   "cell_type": "code",
   "execution_count": 12,
   "id": "58ef7834",
   "metadata": {},
   "outputs": [
    {
     "data": {
      "text/plain": [
       "(848, 8)"
      ]
     },
     "execution_count": 12,
     "metadata": {},
     "output_type": "execute_result"
    }
   ],
   "source": [
    "#drop nan rows from data set\n",
    "df.dropna(axis=0,inplace=True)\n",
    "df.shape"
   ]
  },
  {
   "cell_type": "code",
   "execution_count": 13,
   "id": "a41ff398",
   "metadata": {},
   "outputs": [
    {
     "data": {
      "text/plain": [
       "pclass      0\n",
       "sex         0\n",
       "age         0\n",
       "sibsp       0\n",
       "parch       0\n",
       "fare        0\n",
       "embarked    0\n",
       "survived    0\n",
       "dtype: int64"
      ]
     },
     "execution_count": 13,
     "metadata": {},
     "output_type": "execute_result"
    }
   ],
   "source": [
    "df.isna().sum()"
   ]
  },
  {
   "cell_type": "markdown",
   "id": "f07311a8",
   "metadata": {},
   "source": [
    "#### Exploratory Data Analysis"
   ]
  },
  {
   "cell_type": "code",
   "execution_count": 14,
   "id": "b1f5889d",
   "metadata": {},
   "outputs": [
    {
     "data": {
      "text/plain": [
       "3    477\n",
       "1    205\n",
       "2    166\n",
       "Name: pclass, dtype: int64"
      ]
     },
     "execution_count": 14,
     "metadata": {},
     "output_type": "execute_result"
    }
   ],
   "source": [
    "df.pclass.value_counts()"
   ]
  },
  {
   "cell_type": "code",
   "execution_count": 15,
   "id": "5450da7f",
   "metadata": {
    "scrolled": true
   },
   "outputs": [
    {
     "data": {
      "image/png": "[encoded data removed]",
      "text/plain": [
       "<Figure size 432x288 with 1 Axes>"
      ]
     },
     "metadata": {
      "needs_background": "light"
     },
     "output_type": "display_data"
    }
   ],
   "source": [
    "sns.countplot(x='survived', data=df, hue='pclass');"
   ]
  },
  {
   "cell_type": "markdown",
   "id": "2a89225b",
   "metadata": {},
   "source": [
    "most passengers in paclass-3 has been died, pclass-1 have more chances to survive."
   ]
  },
  {
   "cell_type": "code",
   "execution_count": 16,
   "id": "53d6f8f5",
   "metadata": {},
   "outputs": [
    {
     "data": {
      "text/plain": [
       "male      550\n",
       "female    298\n",
       "Name: sex, dtype: int64"
      ]
     },
     "execution_count": 16,
     "metadata": {},
     "output_type": "execute_result"
    }
   ],
   "source": [
    "df.sex.value_counts()"
   ]
  },
  {
   "cell_type": "code",
   "execution_count": 17,
   "id": "33989bba",
   "metadata": {
    "scrolled": true
   },
   "outputs": [
    {
     "data": {
      "image/png": "[encoded data removed]",
      "text/plain": [
       "<Figure size 432x288 with 1 Axes>"
      ]
     },
     "metadata": {
      "needs_background": "light"
     },
     "output_type": "display_data"
    }
   ],
   "source": [
    "sns.countplot(x='survived', data=df, hue='sex');"
   ]
  },
  {
   "cell_type": "markdown",
   "id": "16e448a5",
   "metadata": {},
   "source": [
    "Gender female has higher chances of survival, priority is given to female & children while running rescue operation."
   ]
  },
  {
   "cell_type": "code",
   "execution_count": 18,
   "id": "dae21433",
   "metadata": {},
   "outputs": [
    {
     "data": {
      "text/html": [
       "<div>\n",
       "<style scoped>\n",
       "    .dataframe tbody tr th:only-of-type {\n",
       "        vertical-align: middle;\n",
       "    }\n",
       "\n",
       "    .dataframe tbody tr th {\n",
       "        vertical-align: top;\n",
       "    }\n",
       "\n",
       "    .dataframe thead th {\n",
       "        text-align: right;\n",
       "    }\n",
       "</style>\n",
       "<table border=\"1\" class=\"dataframe\">\n",
       "  <thead>\n",
       "    <tr style=\"text-align: right;\">\n",
       "      <th></th>\n",
       "      <th>pclass</th>\n",
       "      <th>age</th>\n",
       "      <th>sibsp</th>\n",
       "      <th>parch</th>\n",
       "      <th>fare</th>\n",
       "      <th>survived</th>\n",
       "    </tr>\n",
       "  </thead>\n",
       "  <tbody>\n",
       "    <tr>\n",
       "      <th>count</th>\n",
       "      <td>848.000000</td>\n",
       "      <td>848.000000</td>\n",
       "      <td>848.000000</td>\n",
       "      <td>848.000000</td>\n",
       "      <td>848.000000</td>\n",
       "      <td>848.000000</td>\n",
       "    </tr>\n",
       "    <tr>\n",
       "      <th>mean</th>\n",
       "      <td>2.320755</td>\n",
       "      <td>29.473314</td>\n",
       "      <td>0.523585</td>\n",
       "      <td>0.383255</td>\n",
       "      <td>33.958471</td>\n",
       "      <td>0.367925</td>\n",
       "    </tr>\n",
       "    <tr>\n",
       "      <th>std</th>\n",
       "      <td>0.837968</td>\n",
       "      <td>12.952837</td>\n",
       "      <td>1.113154</td>\n",
       "      <td>0.880352</td>\n",
       "      <td>53.714209</td>\n",
       "      <td>0.482525</td>\n",
       "    </tr>\n",
       "    <tr>\n",
       "      <th>min</th>\n",
       "      <td>1.000000</td>\n",
       "      <td>0.166700</td>\n",
       "      <td>0.000000</td>\n",
       "      <td>0.000000</td>\n",
       "      <td>0.000000</td>\n",
       "      <td>0.000000</td>\n",
       "    </tr>\n",
       "    <tr>\n",
       "      <th>25%</th>\n",
       "      <td>2.000000</td>\n",
       "      <td>22.000000</td>\n",
       "      <td>0.000000</td>\n",
       "      <td>0.000000</td>\n",
       "      <td>7.895800</td>\n",
       "      <td>0.000000</td>\n",
       "    </tr>\n",
       "    <tr>\n",
       "      <th>50%</th>\n",
       "      <td>3.000000</td>\n",
       "      <td>29.519847</td>\n",
       "      <td>0.000000</td>\n",
       "      <td>0.000000</td>\n",
       "      <td>14.054150</td>\n",
       "      <td>0.000000</td>\n",
       "    </tr>\n",
       "    <tr>\n",
       "      <th>75%</th>\n",
       "      <td>3.000000</td>\n",
       "      <td>34.500000</td>\n",
       "      <td>1.000000</td>\n",
       "      <td>0.000000</td>\n",
       "      <td>30.771850</td>\n",
       "      <td>1.000000</td>\n",
       "    </tr>\n",
       "    <tr>\n",
       "      <th>max</th>\n",
       "      <td>3.000000</td>\n",
       "      <td>80.000000</td>\n",
       "      <td>8.000000</td>\n",
       "      <td>9.000000</td>\n",
       "      <td>512.329200</td>\n",
       "      <td>1.000000</td>\n",
       "    </tr>\n",
       "  </tbody>\n",
       "</table>\n",
       "</div>"
      ],
      "text/plain": [
       "           pclass         age       sibsp       parch        fare    survived\n",
       "count  848.000000  848.000000  848.000000  848.000000  848.000000  848.000000\n",
       "mean     2.320755   29.473314    0.523585    0.383255   33.958471    0.367925\n",
       "std      0.837968   12.952837    1.113154    0.880352   53.714209    0.482525\n",
       "min      1.000000    0.166700    0.000000    0.000000    0.000000    0.000000\n",
       "25%      2.000000   22.000000    0.000000    0.000000    7.895800    0.000000\n",
       "50%      3.000000   29.519847    0.000000    0.000000   14.054150    0.000000\n",
       "75%      3.000000   34.500000    1.000000    0.000000   30.771850    1.000000\n",
       "max      3.000000   80.000000    8.000000    9.000000  512.329200    1.000000"
      ]
     },
     "execution_count": 18,
     "metadata": {},
     "output_type": "execute_result"
    }
   ],
   "source": [
    "df.describe()"
   ]
  },
  {
   "cell_type": "code",
   "execution_count": 19,
   "id": "3a804315",
   "metadata": {},
   "outputs": [
    {
     "data": {
      "image/png": "[encoded data removed]",
      "text/plain": [
       "<Figure size 432x288 with 2 Axes>"
      ]
     },
     "metadata": {
      "needs_background": "light"
     },
     "output_type": "display_data"
    }
   ],
   "source": [
    "# corelation between columns\n",
    "sns.heatmap(df.corr(), annot=True,cmap='Blues');"
   ]
  },
  {
   "cell_type": "markdown",
   "id": "5d237cd2",
   "metadata": {},
   "source": [
    "#### Feature Engineering"
   ]
  },
  {
   "cell_type": "code",
   "execution_count": 20,
   "id": "dfef1c75",
   "metadata": {},
   "outputs": [
    {
     "data": {
      "text/plain": [
       "pclass      False\n",
       "sex          True\n",
       "age         False\n",
       "sibsp       False\n",
       "parch       False\n",
       "fare        False\n",
       "embarked     True\n",
       "survived    False\n",
       "dtype: bool"
      ]
     },
     "execution_count": 20,
     "metadata": {},
     "output_type": "execute_result"
    }
   ],
   "source": [
    "df.dtypes=='object'"
   ]
  },
  {
   "cell_type": "code",
   "execution_count": 21,
   "id": "6bace2d0",
   "metadata": {},
   "outputs": [
    {
     "data": {
      "text/html": [
       "<div>\n",
       "<style scoped>\n",
       "    .dataframe tbody tr th:only-of-type {\n",
       "        vertical-align: middle;\n",
       "    }\n",
       "\n",
       "    .dataframe tbody tr th {\n",
       "        vertical-align: top;\n",
       "    }\n",
       "\n",
       "    .dataframe thead th {\n",
       "        text-align: right;\n",
       "    }\n",
       "</style>\n",
       "<table border=\"1\" class=\"dataframe\">\n",
       "  <thead>\n",
       "    <tr style=\"text-align: right;\">\n",
       "      <th></th>\n",
       "      <th>pclass</th>\n",
       "      <th>age</th>\n",
       "      <th>sibsp</th>\n",
       "      <th>parch</th>\n",
       "      <th>fare</th>\n",
       "      <th>survived</th>\n",
       "      <th>female</th>\n",
       "      <th>male</th>\n",
       "      <th>C</th>\n",
       "      <th>Q</th>\n",
       "      <th>S</th>\n",
       "    </tr>\n",
       "  </thead>\n",
       "  <tbody>\n",
       "    <tr>\n",
       "      <th>0</th>\n",
       "      <td>3</td>\n",
       "      <td>29.519847</td>\n",
       "      <td>0</td>\n",
       "      <td>0</td>\n",
       "      <td>7.7333</td>\n",
       "      <td>1</td>\n",
       "      <td>1</td>\n",
       "      <td>0</td>\n",
       "      <td>0</td>\n",
       "      <td>1</td>\n",
       "      <td>0</td>\n",
       "    </tr>\n",
       "    <tr>\n",
       "      <th>1</th>\n",
       "      <td>3</td>\n",
       "      <td>38.000000</td>\n",
       "      <td>0</td>\n",
       "      <td>0</td>\n",
       "      <td>8.6625</td>\n",
       "      <td>0</td>\n",
       "      <td>0</td>\n",
       "      <td>1</td>\n",
       "      <td>0</td>\n",
       "      <td>0</td>\n",
       "      <td>1</td>\n",
       "    </tr>\n",
       "    <tr>\n",
       "      <th>2</th>\n",
       "      <td>3</td>\n",
       "      <td>30.000000</td>\n",
       "      <td>1</td>\n",
       "      <td>1</td>\n",
       "      <td>24.1500</td>\n",
       "      <td>0</td>\n",
       "      <td>1</td>\n",
       "      <td>0</td>\n",
       "      <td>0</td>\n",
       "      <td>0</td>\n",
       "      <td>1</td>\n",
       "    </tr>\n",
       "    <tr>\n",
       "      <th>3</th>\n",
       "      <td>2</td>\n",
       "      <td>54.000000</td>\n",
       "      <td>1</td>\n",
       "      <td>3</td>\n",
       "      <td>23.0000</td>\n",
       "      <td>1</td>\n",
       "      <td>1</td>\n",
       "      <td>0</td>\n",
       "      <td>0</td>\n",
       "      <td>0</td>\n",
       "      <td>1</td>\n",
       "    </tr>\n",
       "    <tr>\n",
       "      <th>4</th>\n",
       "      <td>2</td>\n",
       "      <td>40.000000</td>\n",
       "      <td>0</td>\n",
       "      <td>0</td>\n",
       "      <td>13.0000</td>\n",
       "      <td>0</td>\n",
       "      <td>0</td>\n",
       "      <td>1</td>\n",
       "      <td>0</td>\n",
       "      <td>0</td>\n",
       "      <td>1</td>\n",
       "    </tr>\n",
       "  </tbody>\n",
       "</table>\n",
       "</div>"
      ],
      "text/plain": [
       "   pclass        age  sibsp  parch     fare  survived  female  male  C  Q  S\n",
       "0       3  29.519847      0      0   7.7333         1       1     0  0  1  0\n",
       "1       3  38.000000      0      0   8.6625         0       0     1  0  0  1\n",
       "2       3  30.000000      1      1  24.1500         0       1     0  0  0  1\n",
       "3       2  54.000000      1      3  23.0000         1       1     0  0  0  1\n",
       "4       2  40.000000      0      0  13.0000         0       0     1  0  0  1"
      ]
     },
     "execution_count": 21,
     "metadata": {},
     "output_type": "execute_result"
    }
   ],
   "source": [
    "#create dummies for column sex & embarked\n",
    "dum1=pd.get_dummies(df.sex)\n",
    "dum2=pd.get_dummies(df.embarked)\n",
    "data=pd.concat([df,dum1,dum2], axis=1)\n",
    "data.drop(['sex','embarked'],axis=1,inplace=True)\n",
    "data.head()"
   ]
  },
  {
   "cell_type": "markdown",
   "id": "062aa144",
   "metadata": {},
   "source": [
    "#### Create features(Independent) & Label(Dependent)"
   ]
  },
  {
   "cell_type": "code",
   "execution_count": 22,
   "id": "eef1f750",
   "metadata": {},
   "outputs": [],
   "source": [
    "X=data.drop('survived', axis=1)\n",
    "y=data.survived.values"
   ]
  },
  {
   "cell_type": "markdown",
   "id": "4d9db936",
   "metadata": {},
   "source": [
    "#### Normalise the Features"
   ]
  },
  {
   "cell_type": "code",
   "execution_count": 23,
   "id": "14d3f775",
   "metadata": {},
   "outputs": [
    {
     "name": "stdout",
     "output_type": "stream",
     "text": [
      "[[ 0.8110649   0.00359464 -0.47063906 ... -0.51176632  3.01583124\n",
      "  -1.50384124]\n",
      " [ 0.8110649   0.65867564 -0.47063906 ... -0.51176632 -0.33158354\n",
      "   0.66496381]\n",
      " [ 0.8110649   0.04068584  0.42823914 ... -0.51176632 -0.33158354\n",
      "   0.66496381]\n",
      " ...\n",
      " [-0.38300287 -0.42280651  0.42823914 ... -0.51176632 -0.33158354\n",
      "   0.66496381]\n",
      " [ 0.8110649  -2.04502974  0.42823914 ... -0.51176632 -0.33158354\n",
      "   0.66496381]\n",
      " [-0.38300287  1.74015778 -0.47063906 ... -0.51176632 -0.33158354\n",
      "   0.66496381]]\n"
     ]
    }
   ],
   "source": [
    "from sklearn.preprocessing import StandardScaler\n",
    "std=StandardScaler()\n",
    "X=std.fit_transform(X)\n",
    "print(X)"
   ]
  },
  {
   "cell_type": "markdown",
   "id": "ab945461",
   "metadata": {},
   "source": [
    "#### Split data into train & test set"
   ]
  },
  {
   "cell_type": "code",
   "execution_count": 24,
   "id": "ccd5136e",
   "metadata": {},
   "outputs": [
    {
     "name": "stdout",
     "output_type": "stream",
     "text": [
      "Train Size 678\n",
      "Test Size 170\n"
     ]
    }
   ],
   "source": [
    "from sklearn.model_selection import train_test_split\n",
    "x_train,x_test,y_train,y_test=train_test_split(X,y,test_size=0.20,random_state=0)\n",
    "print(\"Train Size\", len(x_train))\n",
    "print(\"Test Size\",len(x_test))"
   ]
  },
  {
   "cell_type": "markdown",
   "id": "8cc0e368",
   "metadata": {},
   "source": [
    "#### Create Logistic Regression Model & Fit the Data  to Train our model"
   ]
  },
  {
   "cell_type": "code",
   "execution_count": 25,
   "id": "b75ac521",
   "metadata": {},
   "outputs": [],
   "source": [
    "from sklearn.linear_model import LogisticRegression\n",
    "# Set regularization rate\n",
    "reg = 0.01\n",
    "log_reg=LogisticRegression()\n",
    "log_reg=log_reg.fit(x_train,y_train)"
   ]
  },
  {
   "cell_type": "markdown",
   "id": "bbb1170b",
   "metadata": {},
   "source": [
    "#### Training & Testing Accuarcy"
   ]
  },
  {
   "cell_type": "code",
   "execution_count": 26,
   "id": "a7c887bd",
   "metadata": {},
   "outputs": [
    {
     "name": "stdout",
     "output_type": "stream",
     "text": [
      "Training Accuracy: 0.7935103244837758\n",
      "Testing Accuracy: 0.7823529411764706\n"
     ]
    }
   ],
   "source": [
    "print(\"Training Accuracy:\", log_reg.score(x_train,y_train))\n",
    "print(\"Testing Accuracy:\", log_reg.score(x_test,y_test))"
   ]
  },
  {
   "cell_type": "markdown",
   "id": "ed6e11df",
   "metadata": {},
   "source": [
    "both accuracy are close to each other"
   ]
  },
  {
   "cell_type": "markdown",
   "id": "da0fb134",
   "metadata": {},
   "source": [
    "#### Prediction Accuracy of model"
   ]
  },
  {
   "cell_type": "code",
   "execution_count": 27,
   "id": "6861c6f3",
   "metadata": {},
   "outputs": [
    {
     "name": "stdout",
     "output_type": "stream",
     "text": [
      "Predicted labels:  [0 0 1 0 0 0 0 1 1 1 0 0 0 1 0 0 1 0 0 0 0 1 0 0 1 0 1 0 0 0 1 0 0 0 0 0 1\n",
      " 0 0 0 0 0 0 1 0 1 0 1 0 1 0 0 1 0 0 0 1 0 0 1 1 0 1 0 1 0 0 1 0 0 1 0 0 0\n",
      " 0 0 0 1 0 0 0 0 0 0 1 1 0 0 0 0 0 0 0 1 0 1 1 1 0 0 0 1 0 1 0 0 0 1 0 0 0\n",
      " 0 0 0 0 1 0 1 1 0 0 0 0 0 0 1 0 0 1 1 1 0 1 0 0 0 0 0 0 0 0 0 0 1 1 1 1 1\n",
      " 0 0 0 0 1 1 0 1 0 0 0 0 1 0 1 1 1 0 0 0 0 1]\n",
      "Actual labels:     [0 0 0 0 1 0 1 0 0 1 1 0 0 1 0 0 1 0 0 1 0 1 0 0 1 1 1 0 1 0 1 0 0 0 0 0 1\n",
      " 0 0 1 1 0 0 0 0 1 0 0 0 1 0 1 1 0 0 0 0 0 0 1 1 1 1 0 1 0 1 1 1 0 1 0 1 0\n",
      " 0 1 0 1 0 0 0 0 0 0 1 1 0 0 0 0 1 1 0 0 0 1 0 1 0 0 0 1 0 1 0 0 1 0 0 0 0\n",
      " 0 0 0 0 0 0 0 1 0 1 1 0 0 0 1 1 0 1 1 1 0 0 0 0 0 0 0 0 0 0 0 0 0 0 0 1 1\n",
      " 0 0 0 0 1 1 1 1 0 0 0 0 1 0 1 1 1 0 0 0 0 0]\n"
     ]
    }
   ],
   "source": [
    "y_pred=log_reg.predict(x_test)\n",
    "print('Predicted labels: ', y_pred)\n",
    "print('Actual labels:    ', y_test)"
   ]
  },
  {
   "cell_type": "code",
   "execution_count": 28,
   "id": "131f3cfa",
   "metadata": {},
   "outputs": [
    {
     "name": "stdout",
     "output_type": "stream",
     "text": [
      "Accuracy:  0.7823529411764706\n"
     ]
    }
   ],
   "source": [
    "from sklearn.metrics import accuracy_score\n",
    "\n",
    "print('Accuracy: ', accuracy_score(y_test, y_pred))"
   ]
  },
  {
   "cell_type": "markdown",
   "id": "8d174cc6",
   "metadata": {},
   "source": [
    "#### Classification Report"
   ]
  },
  {
   "cell_type": "code",
   "execution_count": 29,
   "id": "5fddc702",
   "metadata": {},
   "outputs": [
    {
     "name": "stdout",
     "output_type": "stream",
     "text": [
      "              precision    recall  f1-score   support\n",
      "\n",
      "           0       0.82      0.86      0.84       111\n",
      "           1       0.70      0.64      0.67        59\n",
      "\n",
      "    accuracy                           0.78       170\n",
      "   macro avg       0.76      0.75      0.75       170\n",
      "weighted avg       0.78      0.78      0.78       170\n",
      "\n"
     ]
    }
   ],
   "source": [
    "from sklearn.metrics import classification_report\n",
    "\n",
    "print(classification_report(y_test, y_pred))"
   ]
  },
  {
   "cell_type": "code",
   "execution_count": 30,
   "id": "55fb2151",
   "metadata": {},
   "outputs": [
    {
     "name": "stdout",
     "output_type": "stream",
     "text": [
      "Overall Precision: 0.7037037037037037\n",
      "Overall Recall: 0.6440677966101694\n"
     ]
    }
   ],
   "source": [
    "from sklearn.metrics import precision_score, recall_score\n",
    "\n",
    "print(\"Overall Precision:\", precision_score(y_test, y_pred))\n",
    "print(\"Overall Recall:\", recall_score(y_test, y_pred))"
   ]
  },
  {
   "cell_type": "markdown",
   "id": "aad23385",
   "metadata": {},
   "source": [
    "#### Confusion Matrix"
   ]
  },
  {
   "cell_type": "code",
   "execution_count": 31,
   "id": "591658a0",
   "metadata": {},
   "outputs": [
    {
     "name": "stdout",
     "output_type": "stream",
     "text": [
      "[[95 16]\n",
      " [21 38]]\n"
     ]
    }
   ],
   "source": [
    "from sklearn.metrics import confusion_matrix\n",
    "\n",
    "# Print the confusion matrix\n",
    "cm = confusion_matrix(y_test, y_pred)\n",
    "print (cm)"
   ]
  },
  {
   "cell_type": "markdown",
   "id": "841447f4",
   "metadata": {},
   "source": [
    "#### Proobability of accurate prediction"
   ]
  },
  {
   "cell_type": "code",
   "execution_count": 32,
   "id": "f957a718",
   "metadata": {},
   "outputs": [
    {
     "name": "stdout",
     "output_type": "stream",
     "text": [
      "[[0.7798956  0.2201044 ]\n",
      " [0.53573184 0.46426816]\n",
      " [0.47880481 0.52119519]\n",
      " [0.95017004 0.04982996]\n",
      " [0.86751615 0.13248385]\n",
      " [0.90082146 0.09917854]\n",
      " [0.86563845 0.13436155]\n",
      " [0.36001444 0.63998556]\n",
      " [0.46327584 0.53672416]\n",
      " [0.32370975 0.67629025]\n",
      " [0.77689582 0.22310418]\n",
      " [0.86967167 0.13032833]\n",
      " [0.93579776 0.06420224]\n",
      " [0.43613463 0.56386537]\n",
      " [0.90075848 0.09924152]\n",
      " [0.91741278 0.08258722]\n",
      " [0.08299934 0.91700066]\n",
      " [0.90230228 0.09769772]\n",
      " [0.77561017 0.22438983]\n",
      " [0.60365615 0.39634385]\n",
      " [0.92396644 0.07603356]\n",
      " [0.39425836 0.60574164]\n",
      " [0.94450943 0.05549057]\n",
      " [0.88078972 0.11921028]\n",
      " [0.3241721  0.6758279 ]\n",
      " [0.53005406 0.46994594]\n",
      " [0.12995232 0.87004768]\n",
      " [0.63504412 0.36495588]\n",
      " [0.86492077 0.13507923]\n",
      " [0.9255358  0.0744642 ]\n",
      " [0.10540219 0.89459781]\n",
      " [0.89809193 0.10190807]\n",
      " [0.94273372 0.05726628]\n",
      " [0.88031906 0.11968094]\n",
      " [0.6923277  0.3076723 ]\n",
      " [0.70225481 0.29774519]\n",
      " [0.27799405 0.72200595]\n",
      " [0.90082146 0.09917854]\n",
      " [0.86539963 0.13460037]\n",
      " [0.65200155 0.34799845]\n",
      " [0.65755814 0.34244186]\n",
      " [0.74074076 0.25925924]\n",
      " [0.59888516 0.40111484]\n",
      " [0.28292705 0.71707295]\n",
      " [0.85815322 0.14184678]\n",
      " [0.15209437 0.84790563]\n",
      " [0.90236439 0.09763561]\n",
      " [0.28586071 0.71413929]\n",
      " [0.86966445 0.13033555]\n",
      " [0.1783174  0.8216826 ]\n",
      " [0.84558221 0.15441779]\n",
      " [0.71461255 0.28538745]\n",
      " [0.03336829 0.96663171]\n",
      " [0.7798956  0.2201044 ]\n",
      " [0.89057078 0.10942922]\n",
      " [0.7815215  0.2184785 ]\n",
      " [0.46042589 0.53957411]\n",
      " [0.8696652  0.1303348 ]\n",
      " [0.80621445 0.19378555]\n",
      " [0.39706702 0.60293298]\n",
      " [0.27806321 0.72193679]\n",
      " [0.70200037 0.29799963]\n",
      " [0.06533843 0.93466157]\n",
      " [0.85359475 0.14640525]\n",
      " [0.1600235  0.8399765 ]\n",
      " [0.6325885  0.3674115 ]\n",
      " [0.8818335  0.1181665 ]\n",
      " [0.35084792 0.64915208]\n",
      " [0.5636373  0.4363627 ]\n",
      " [0.69789323 0.30210677]\n",
      " [0.10062628 0.89937372]\n",
      " [0.90253753 0.09746247]\n",
      " [0.83096737 0.16903263]\n",
      " [0.79170127 0.20829873]\n",
      " [0.80375555 0.19624445]\n",
      " [0.89935378 0.10064622]\n",
      " [0.96255019 0.03744981]\n",
      " [0.28270868 0.71729132]\n",
      " [0.93574602 0.06425398]\n",
      " [0.87295889 0.12704111]\n",
      " [0.86025696 0.13974304]\n",
      " [0.82166289 0.17833711]\n",
      " [0.86900701 0.13099299]\n",
      " [0.97849993 0.02150007]\n",
      " [0.24986926 0.75013074]\n",
      " [0.07388818 0.92611182]\n",
      " [0.85815322 0.14184678]\n",
      " [0.66871239 0.33128761]\n",
      " [0.81629652 0.18370348]\n",
      " [0.95877676 0.04122324]\n",
      " [0.8924079  0.1075921 ]\n",
      " [0.74597237 0.25402763]\n",
      " [0.93011598 0.06988402]\n",
      " [0.44983022 0.55016978]\n",
      " [0.92653136 0.07346864]\n",
      " [0.19568101 0.80431899]\n",
      " [0.4455389  0.5544611 ]\n",
      " [0.45956186 0.54043814]\n",
      " [0.78702467 0.21297533]\n",
      " [0.90075848 0.09924152]\n",
      " [0.86112462 0.13887538]\n",
      " [0.10553941 0.89446059]\n",
      " [0.87401951 0.12598049]\n",
      " [0.0580337  0.9419663 ]\n",
      " [0.76045233 0.23954767]\n",
      " [0.6598386  0.3401614 ]\n",
      " [0.90073294 0.09926706]\n",
      " [0.28978396 0.71021604]\n",
      " [0.99158217 0.00841783]\n",
      " [0.57818767 0.42181233]\n",
      " [0.85188024 0.14811976]\n",
      " [0.63326538 0.36673462]\n",
      " [0.89583641 0.10416359]\n",
      " [0.88938516 0.11061484]\n",
      " [0.90075848 0.09924152]\n",
      " [0.32748962 0.67251038]\n",
      " [0.95203918 0.04796082]\n",
      " [0.38555833 0.61444167]\n",
      " [0.29068344 0.70931656]\n",
      " [0.8696652  0.1303348 ]\n",
      " [0.7365936  0.2634064 ]\n",
      " [0.53331997 0.46668003]\n",
      " [0.85996138 0.14003862]\n",
      " [0.89840402 0.10159598]\n",
      " [0.93767559 0.06232441]\n",
      " [0.21374762 0.78625238]\n",
      " [0.86443789 0.13556211]\n",
      " [0.81728132 0.18271868]\n",
      " [0.14635552 0.85364448]\n",
      " [0.36023988 0.63976012]\n",
      " [0.19796431 0.80203569]\n",
      " [0.92484156 0.07515844]\n",
      " [0.45318207 0.54681793]\n",
      " [0.93874406 0.06125594]\n",
      " [0.50178417 0.49821583]\n",
      " [0.89236401 0.10763599]\n",
      " [0.90867622 0.09132378]\n",
      " [0.90851962 0.09148038]\n",
      " [0.86959825 0.13040175]\n",
      " [0.70174452 0.29825548]\n",
      " [0.89376069 0.10623931]\n",
      " [0.86970547 0.13029453]\n",
      " [0.90230228 0.09769772]\n",
      " [0.47106066 0.52893934]\n",
      " [0.4384289  0.5615711 ]\n",
      " [0.29589599 0.70410401]\n",
      " [0.38232876 0.61767124]\n",
      " [0.34920457 0.65079543]\n",
      " [0.91435025 0.08564975]\n",
      " [0.69330601 0.30669399]\n",
      " [0.8888354  0.1111646 ]\n",
      " [0.80639401 0.19360599]\n",
      " [0.29608989 0.70391011]\n",
      " [0.17962941 0.82037059]\n",
      " [0.80865858 0.19134142]\n",
      " [0.08253901 0.91746099]\n",
      " [0.55569822 0.44430178]\n",
      " [0.91519793 0.08480207]\n",
      " [0.94284527 0.05715473]\n",
      " [0.89582368 0.10417632]\n",
      " [0.14979952 0.85020048]\n",
      " [0.54913914 0.45086086]\n",
      " [0.16110558 0.83889442]\n",
      " [0.35806583 0.64193417]\n",
      " [0.35149949 0.64850051]\n",
      " [0.89322922 0.10677078]\n",
      " [0.91152775 0.08847225]\n",
      " [0.86093127 0.13906873]\n",
      " [0.95393701 0.04606299]\n",
      " [0.29313944 0.70686056]]\n"
     ]
    }
   ],
   "source": [
    "y_scores = log_reg.predict_proba(x_test)\n",
    "print(y_scores)"
   ]
  },
  {
   "cell_type": "markdown",
   "id": "af876a74",
   "metadata": {},
   "source": [
    "#### ROC Curve"
   ]
  },
  {
   "cell_type": "code",
   "execution_count": 33,
   "id": "9bd2dc24",
   "metadata": {},
   "outputs": [
    {
     "data": {
      "image/png": "[encoded data removed]",
      "text/plain": [
       "<Figure size 432x432 with 1 Axes>"
      ]
     },
     "metadata": {
      "needs_background": "light"
     },
     "output_type": "display_data"
    }
   ],
   "source": [
    "from sklearn.metrics import roc_curve\n",
    "\n",
    "# calculate ROC curve\n",
    "fpr, tpr, thresholds = roc_curve(y_test, y_scores[:,1])\n",
    "\n",
    "# plot ROC curve\n",
    "fig = plt.figure(figsize=(6, 6))\n",
    "# Plot the diagonal 50% line\n",
    "plt.plot([0, 1], [0, 1], 'k--')\n",
    "# Plot the FPR and TPR achieved by our model\n",
    "plt.plot(fpr, tpr)\n",
    "plt.xlabel('False Positive Rate')\n",
    "plt.ylabel('True Positive Rate')\n",
    "plt.title('ROC Curve')\n",
    "plt.show()"
   ]
  },
  {
   "cell_type": "code",
   "execution_count": null,
   "id": "b9d33401",
   "metadata": {},
   "outputs": [],
   "source": []
  }
 ],
 "metadata": {
  "kernelspec": {
   "display_name": "Python 3 (ipykernel)",
   "language": "python",
   "name": "python3"
  },
  "language_info": {
   "codemirror_mode": {
    "name": "ipython",
    "version": 3
   },
   "file_extension": ".py",
   "mimetype": "text/x-python",
   "name": "python",
   "nbconvert_exporter": "python",
   "pygments_lexer": "ipython3",
   "version": "3.9.7"
  }
 },
 "nbformat": 4,
 "nbformat_minor": 5
}
